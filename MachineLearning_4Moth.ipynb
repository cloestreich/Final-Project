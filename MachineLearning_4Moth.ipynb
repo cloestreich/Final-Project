{
 "cells": [
  {
   "cell_type": "code",
   "execution_count": 1,
   "id": "515e04be",
   "metadata": {},
   "outputs": [],
   "source": [
    "from pathlib import Path\n",
    "import pandas as pd\n",
    "import numpy as np\n",
    "import matplotlib.pyplot as plt\n",
    "import warnings\n",
    "warnings.filterwarnings('ignore')\n",
    "from collections import Counter\n",
    "from sklearn.metrics import balanced_accuracy_score\n",
    "from sklearn.metrics import confusion_matrix\n",
    "from imblearn.metrics import classification_report_imbalanced"
   ]
  },
  {
   "cell_type": "markdown",
   "id": "2cc50f0e",
   "metadata": {},
   "source": [
    "plt.scatter(df.individuals, df.tempmax, df.tempmin, df.humidity)\n",
    "plt.xlabel('tempmax,tempmin,humidity')\n",
    "plt.ylabel('individuals')\n",
    "plt.show()"
   ]
  },
  {
   "cell_type": "code",
   "execution_count": 2,
   "id": "89890579",
   "metadata": {},
   "outputs": [
    {
     "data": {
      "text/html": [
       "<div>\n",
       "<style scoped>\n",
       "    .dataframe tbody tr th:only-of-type {\n",
       "        vertical-align: middle;\n",
       "    }\n",
       "\n",
       "    .dataframe tbody tr th {\n",
       "        vertical-align: top;\n",
       "    }\n",
       "\n",
       "    .dataframe thead th {\n",
       "        text-align: right;\n",
       "    }\n",
       "</style>\n",
       "<table border=\"1\" class=\"dataframe\">\n",
       "  <thead>\n",
       "    <tr style=\"text-align: right;\">\n",
       "      <th></th>\n",
       "      <th>order_name</th>\n",
       "      <th>family_name</th>\n",
       "      <th>datetime</th>\n",
       "      <th>individuals</th>\n",
       "      <th>tempmax</th>\n",
       "      <th>tempmin</th>\n",
       "      <th>temp_daily</th>\n",
       "      <th>humidity</th>\n",
       "    </tr>\n",
       "  </thead>\n",
       "  <tbody>\n",
       "    <tr>\n",
       "      <th>0</th>\n",
       "      <td>LEPIDOPTERA</td>\n",
       "      <td>GEOMETRIDAE</td>\n",
       "      <td>1995-06-25</td>\n",
       "      <td>4</td>\n",
       "      <td>77.1</td>\n",
       "      <td>56.0</td>\n",
       "      <td>67.4</td>\n",
       "      <td>60.0</td>\n",
       "    </tr>\n",
       "    <tr>\n",
       "      <th>1</th>\n",
       "      <td>LEPIDOPTERA</td>\n",
       "      <td>GEOMETRIDAE</td>\n",
       "      <td>1995-06-27</td>\n",
       "      <td>3</td>\n",
       "      <td>69.9</td>\n",
       "      <td>57.3</td>\n",
       "      <td>63.7</td>\n",
       "      <td>54.5</td>\n",
       "    </tr>\n",
       "    <tr>\n",
       "      <th>2</th>\n",
       "      <td>LEPIDOPTERA</td>\n",
       "      <td>GEOMETRIDAE</td>\n",
       "      <td>2006-07-20</td>\n",
       "      <td>1</td>\n",
       "      <td>82.4</td>\n",
       "      <td>66.1</td>\n",
       "      <td>73.8</td>\n",
       "      <td>68.3</td>\n",
       "    </tr>\n",
       "    <tr>\n",
       "      <th>3</th>\n",
       "      <td>LEPIDOPTERA</td>\n",
       "      <td>GEOMETRIDAE</td>\n",
       "      <td>2006-06-13</td>\n",
       "      <td>1</td>\n",
       "      <td>79.6</td>\n",
       "      <td>59.9</td>\n",
       "      <td>71.1</td>\n",
       "      <td>55.6</td>\n",
       "    </tr>\n",
       "    <tr>\n",
       "      <th>4</th>\n",
       "      <td>LEPIDOPTERA</td>\n",
       "      <td>GEOMETRIDAE</td>\n",
       "      <td>1995-07-17</td>\n",
       "      <td>1</td>\n",
       "      <td>71.5</td>\n",
       "      <td>59.1</td>\n",
       "      <td>65.1</td>\n",
       "      <td>73.8</td>\n",
       "    </tr>\n",
       "  </tbody>\n",
       "</table>\n",
       "</div>"
      ],
      "text/plain": [
       "    order_name  family_name    datetime  individuals  tempmax  tempmin  \\\n",
       "0  LEPIDOPTERA  GEOMETRIDAE  1995-06-25            4     77.1     56.0   \n",
       "1  LEPIDOPTERA  GEOMETRIDAE  1995-06-27            3     69.9     57.3   \n",
       "2  LEPIDOPTERA  GEOMETRIDAE  2006-07-20            1     82.4     66.1   \n",
       "3  LEPIDOPTERA  GEOMETRIDAE  2006-06-13            1     79.6     59.9   \n",
       "4  LEPIDOPTERA  GEOMETRIDAE  1995-07-17            1     71.5     59.1   \n",
       "\n",
       "   temp_daily  humidity  \n",
       "0        67.4      60.0  \n",
       "1        63.7      54.5  \n",
       "2        73.8      68.3  \n",
       "3        71.1      55.6  \n",
       "4        65.1      73.8  "
      ]
     },
     "execution_count": 2,
     "metadata": {},
     "output_type": "execute_result"
    }
   ],
   "source": [
    "#data = Path('./Resources/combined_data.csv')\n",
    "data = Path('./Resources/topfive_lepidoptera.csv')\n",
    "df = pd.read_csv(data)\n",
    "df.head()"
   ]
  },
  {
   "cell_type": "code",
   "execution_count": 3,
   "id": "cccf3642",
   "metadata": {},
   "outputs": [],
   "source": [
    "# Segment the features from the target\n",
    "y = df[\"individuals\"]\n",
    "#X = df.drop(columns=[\"order_name\", \"family_name\", \"datetime\", \"individuals\", \"tempmax\",\"tempmin\"])\n",
    "X = df.drop(columns=[\"order_name\", \"family_name\", \"datetime\", \"individuals\"])"
   ]
  },
  {
   "cell_type": "code",
   "execution_count": 4,
   "id": "33f69c95",
   "metadata": {},
   "outputs": [
    {
     "name": "stdout",
     "output_type": "stream",
     "text": [
      "4848     1\n",
      "17520    1\n",
      "3271     1\n",
      "16095    2\n",
      "24451    4\n",
      "        ..\n",
      "17334    1\n",
      "3086     2\n",
      "15782    1\n",
      "13693    1\n",
      "377      1\n",
      "Name: individuals, Length: 6813, dtype: int64\n"
     ]
    }
   ],
   "source": [
    "# Use the train_test_split function to create training and testing subsets\n",
    "from sklearn.model_selection import train_test_split\n",
    "\n",
    "X_train, X_test, y_train, y_test = train_test_split(X, y, random_state=1)\n",
    "#X_train.shape\n",
    "print(y_test)"
   ]
  },
  {
   "cell_type": "code",
   "execution_count": 5,
   "id": "58388e97",
   "metadata": {},
   "outputs": [
    {
     "data": {
      "text/plain": [
       "BalancedRandomForestClassifier(random_state=1)"
      ]
     },
     "execution_count": 5,
     "metadata": {},
     "output_type": "execute_result"
    }
   ],
   "source": [
    "# Resample the training data with the BalancedRandomForestClassifier\n",
    "from imblearn.ensemble import BalancedRandomForestClassifier\n",
    "rf_model = BalancedRandomForestClassifier(n_estimators=100, random_state=1)\n",
    "rf_model.fit(X_train, y_train)"
   ]
  },
  {
   "cell_type": "code",
   "execution_count": 6,
   "id": "2a421aad",
   "metadata": {},
   "outputs": [
    {
     "data": {
      "text/plain": [
       "0.009900990099009901"
      ]
     },
     "execution_count": 6,
     "metadata": {},
     "output_type": "execute_result"
    }
   ],
   "source": [
    "# Calculated the balanced accuracy score\n",
    "y_pred = rf_model.predict(X_test)\n",
    "balanced_accuracy_score(y_test, y_pred)"
   ]
  },
  {
   "cell_type": "code",
   "execution_count": 7,
   "id": "57e72914",
   "metadata": {},
   "outputs": [
    {
     "data": {
      "text/plain": [
       "array([[ 0,  0,  0, ..., 30,  0, 49],\n",
       "       [ 0,  0,  0, ..., 19,  0,  9],\n",
       "       [ 0,  0,  0, ..., 10,  0, 10],\n",
       "       ...,\n",
       "       [ 0,  0,  0, ...,  0,  0,  0],\n",
       "       [ 0,  0,  0, ...,  0,  0,  0],\n",
       "       [ 0,  0,  0, ...,  0,  0,  0]], dtype=int64)"
      ]
     },
     "execution_count": 7,
     "metadata": {},
     "output_type": "execute_result"
    }
   ],
   "source": [
    "# Display the confusion matrix\n",
    "from sklearn.metrics import confusion_matrix\n",
    "y_pred = rf_model.predict(X_test)\n",
    "confusion_matrix(y_test, y_pred)"
   ]
  },
  {
   "cell_type": "code",
   "execution_count": 8,
   "id": "8378d60d",
   "metadata": {},
   "outputs": [
    {
     "name": "stdout",
     "output_type": "stream",
     "text": [
      "                   pre       rec       spe        f1       geo       iba       sup\n",
      "\n",
      "          1       0.00      0.00      1.00      0.00      0.00      0.00      3378\n",
      "          2       0.00      0.00      1.00      0.00      0.00      0.00      1119\n",
      "          3       0.00      0.00      1.00      0.00      0.00      0.00       585\n",
      "          4       0.00      0.00      1.00      0.00      0.00      0.00       335\n",
      "          5       0.00      0.00      1.00      0.00      0.00      0.00       268\n",
      "          6       0.00      0.00      1.00      0.00      0.00      0.00       179\n",
      "          7       0.00      0.00      1.00      0.00      0.00      0.00       122\n",
      "          8       0.00      0.00      1.00      0.00      0.00      0.00        96\n",
      "          9       0.00      0.00      1.00      0.00      0.00      0.00        84\n",
      "         10       0.00      0.00      1.00      0.00      0.00      0.00        71\n",
      "         11       0.00      0.00      1.00      0.00      0.00      0.00        60\n",
      "         12       0.00      0.00      1.00      0.00      0.00      0.00        54\n",
      "         13       0.00      0.00      1.00      0.00      0.00      0.00        44\n",
      "         14       0.00      0.00      1.00      0.00      0.00      0.00        36\n",
      "         15       0.00      0.00      1.00      0.00      0.00      0.00        27\n",
      "         16       0.00      0.00      1.00      0.00      0.00      0.00        26\n",
      "         17       0.00      0.00      1.00      0.00      0.00      0.00        26\n",
      "         18       0.00      0.00      1.00      0.00      0.00      0.00        22\n",
      "         19       0.00      0.00      1.00      0.00      0.00      0.00        14\n",
      "         20       0.00      0.00      1.00      0.00      0.00      0.00        20\n",
      "         21       0.00      0.00      1.00      0.00      0.00      0.00        11\n",
      "         22       0.00      0.00      1.00      0.00      0.00      0.00        12\n",
      "         23       0.00      0.00      1.00      0.00      0.00      0.00         8\n",
      "         24       0.00      0.00      1.00      0.00      0.00      0.00        13\n",
      "         25       0.00      0.00      1.00      0.00      0.00      0.00        14\n",
      "         26       0.00      0.00      1.00      0.00      0.00      0.00         8\n",
      "         27       0.00      0.00      1.00      0.00      0.00      0.00        13\n",
      "         28       0.00      0.00      1.00      0.00      0.00      0.00         7\n",
      "         29       0.00      0.00      1.00      0.00      0.00      0.00         2\n",
      "         30       0.00      0.00      1.00      0.00      0.00      0.00         6\n",
      "         31       0.00      0.00      1.00      0.00      0.00      0.00         7\n",
      "         32       0.00      0.00      1.00      0.00      0.00      0.00        10\n",
      "         33       0.00      0.00      1.00      0.00      0.00      0.00         5\n",
      "         34       0.00      0.00      1.00      0.00      0.00      0.00         4\n",
      "         35       0.00      0.00      1.00      0.00      0.00      0.00         5\n",
      "         36       0.00      0.00      1.00      0.00      0.00      0.00         8\n",
      "         37       0.00      0.00      1.00      0.00      0.00      0.00         3\n",
      "         38       0.00      0.00      1.00      0.00      0.00      0.00         6\n",
      "         39       0.00      0.00      1.00      0.00      0.00      0.00         2\n",
      "         40       0.00      0.00      1.00      0.00      0.00      0.00         3\n",
      "         41       0.00      0.00      0.99      0.00      0.00      0.00         4\n",
      "         42       0.00      0.00      1.00      0.00      0.00      0.00         9\n",
      "         43       0.00      0.00      1.00      0.00      0.00      0.00         2\n",
      "         44       0.00      0.00      1.00      0.00      0.00      0.00         2\n",
      "         45       0.00      0.00      1.00      0.00      0.00      0.00         3\n",
      "         46       0.00      0.00      0.99      0.00      0.00      0.00         7\n",
      "         47       0.00      0.00      0.99      0.00      0.00      0.00         1\n",
      "         48       0.00      0.00      1.00      0.00      0.00      0.00         2\n",
      "         49       0.00      0.00      1.00      0.00      0.00      0.00         4\n",
      "         50       0.00      0.00      1.00      0.00      0.00      0.00         0\n",
      "         51       0.00      0.00      1.00      0.00      0.00      0.00         3\n",
      "         52       0.00      0.00      0.99      0.00      0.00      0.00         2\n",
      "         53       0.00      0.00      1.00      0.00      0.00      0.00         1\n",
      "         54       0.00      0.00      1.00      0.00      0.00      0.00         2\n",
      "         55       0.00      0.00      0.99      0.00      0.00      0.00         1\n",
      "         56       0.00      0.00      1.00      0.00      0.00      0.00         2\n",
      "         57       0.00      0.00      1.00      0.00      0.00      0.00         1\n",
      "         58       0.00      0.00      1.00      0.00      0.00      0.00         0\n",
      "         59       0.00      0.00      1.00      0.00      0.00      0.00         2\n",
      "         60       0.00      0.00      1.00      0.00      0.00      0.00         1\n",
      "         61       0.00      0.00      1.00      0.00      0.00      0.00         0\n",
      "         62       0.00      0.00      0.99      0.00      0.00      0.00         1\n",
      "         63       0.00      0.00      1.00      0.00      0.00      0.00         0\n",
      "         64       0.00      0.00      0.99      0.00      0.00      0.00         1\n",
      "         65       0.00      0.00      1.00      0.00      0.00      0.00         0\n",
      "         66       0.00      0.00      1.00      0.00      0.00      0.00         1\n",
      "         67       0.00      0.00      1.00      0.00      0.00      0.00         0\n",
      "         68       0.00      0.00      1.00      0.00      0.00      0.00         1\n",
      "         69       0.00      0.00      1.00      0.00      0.00      0.00         1\n",
      "         70       0.00      0.00      0.99      0.00      0.00      0.00         0\n",
      "         71       0.00      0.00      0.99      0.00      0.00      0.00         1\n",
      "         72       0.00      0.00      0.98      0.00      0.00      0.00         0\n",
      "         73       0.00      0.00      1.00      0.00      0.00      0.00         0\n",
      "         74       0.00      0.00      1.00      0.00      0.00      0.00         0\n",
      "         76       0.00      0.00      0.99      0.00      0.00      0.00         1\n",
      "         77       0.00      0.00      0.99      0.00      0.00      0.00         0\n",
      "         78       0.00      0.00      1.00      0.00      0.00      0.00         1\n",
      "         79       0.00      0.00      0.99      0.00      0.00      0.00         1\n",
      "         80       0.00      0.00      0.99      0.00      0.00      0.00         2\n",
      "         81       0.00      0.00      0.99      0.00      0.00      0.00         3\n",
      "         82       0.00      0.00      0.98      0.00      0.00      0.00         4\n",
      "         83       0.00      0.00      0.99      0.00      0.00      0.00         2\n",
      "         84       0.00      0.00      0.98      0.00      0.00      0.00         0\n",
      "         85       0.00      0.00      0.99      0.00      0.00      0.00         2\n",
      "         86       0.00      0.00      1.00      0.00      0.00      0.00         0\n",
      "         87       0.00      0.00      0.99      0.00      0.00      0.00         1\n",
      "         88       0.00      0.00      0.99      0.00      0.00      0.00         1\n",
      "         89       0.00      0.00      0.99      0.00      0.00      0.00         0\n",
      "         90       0.00      0.00      1.00      0.00      0.00      0.00         1\n",
      "         91       0.00      0.00      0.99      0.00      0.00      0.00         1\n",
      "         92       0.00      0.00      0.98      0.00      0.00      0.00         0\n",
      "         93       0.00      0.00      0.97      0.00      0.00      0.00         1\n",
      "         95       0.00      0.00      1.00      0.00      0.00      0.00         1\n",
      "         96       0.00      0.00      0.98      0.00      0.00      0.00         1\n",
      "         97       0.00      0.00      0.99      0.00      0.00      0.00         1\n",
      "         98       0.00      0.00      0.99      0.00      0.00      0.00         1\n",
      "         99       0.00      0.00      1.00      0.00      0.00      0.00         0\n",
      "        100       0.01      1.00      0.99      0.02      0.99      0.99         1\n",
      "        102       0.00      0.00      0.99      0.00      0.00      0.00         0\n",
      "        103       0.00      0.00      0.99      0.00      0.00      0.00         0\n",
      "        104       0.00      0.00      1.00      0.00      0.00      0.00         0\n",
      "        105       0.00      0.00      0.98      0.00      0.00      0.00         0\n",
      "        106       0.00      0.00      0.98      0.00      0.00      0.00         0\n",
      "        107       0.00      0.00      0.99      0.00      0.00      0.00         0\n",
      "        108       0.00      0.00      0.99      0.00      0.00      0.00         0\n",
      "        109       0.00      0.00      0.99      0.00      0.00      0.00         0\n",
      "        110       0.00      0.00      0.99      0.00      0.00      0.00         0\n",
      "        111       0.00      0.00      0.99      0.00      0.00      0.00         0\n",
      "        114       0.00      0.00      0.99      0.00      0.00      0.00         1\n",
      "        115       0.00      0.00      0.99      0.00      0.00      0.00         0\n",
      "        117       0.00      0.00      1.00      0.00      0.00      0.00         1\n",
      "        119       0.00      0.00      0.98      0.00      0.00      0.00         0\n",
      "        121       0.00      0.00      0.99      0.00      0.00      0.00         1\n",
      "        122       0.00      0.00      0.98      0.00      0.00      0.00         0\n",
      "        123       0.00      0.00      1.00      0.00      0.00      0.00         0\n",
      "        124       0.00      0.00      0.99      0.00      0.00      0.00         0\n",
      "        126       0.00      0.00      1.00      0.00      0.00      0.00         1\n",
      "        127       0.00      0.00      1.00      0.00      0.00      0.00         1\n",
      "        135       0.00      0.00      1.00      0.00      0.00      0.00         0\n",
      "        136       0.00      0.00      0.98      0.00      0.00      0.00         0\n",
      "        138       0.00      0.00      0.98      0.00      0.00      0.00         0\n",
      "        139       0.00      0.00      1.00      0.00      0.00      0.00         1\n",
      "        140       0.00      0.00      0.98      0.00      0.00      0.00         0\n",
      "        143       0.00      0.00      0.98      0.00      0.00      0.00         0\n",
      "        146       0.00      0.00      0.98      0.00      0.00      0.00         0\n",
      "        147       0.00      0.00      0.99      0.00      0.00      0.00         0\n",
      "        150       0.00      0.00      1.00      0.00      0.00      0.00         0\n",
      "        152       0.00      0.00      1.00      0.00      0.00      0.00         0\n",
      "        155       0.00      0.00      0.99      0.00      0.00      0.00         1\n",
      "        156       0.00      0.00      1.00      0.00      0.00      0.00         1\n",
      "        157       0.00      0.00      1.00      0.00      0.00      0.00         0\n",
      "        158       0.00      0.00      0.99      0.00      0.00      0.00         0\n",
      "        161       0.00      0.00      0.99      0.00      0.00      0.00         1\n",
      "        166       0.00      0.00      1.00      0.00      0.00      0.00         1\n",
      "        170       0.00      0.00      0.99      0.00      0.00      0.00         0\n",
      "        171       0.00      0.00      1.00      0.00      0.00      0.00         1\n",
      "        173       0.00      0.00      1.00      0.00      0.00      0.00         1\n",
      "        175       0.00      0.00      1.00      0.00      0.00      0.00         1\n",
      "        183       0.00      0.00      0.99      0.00      0.00      0.00         0\n",
      "        186       0.00      0.00      0.98      0.00      0.00      0.00         0\n",
      "        197       0.00      0.00      0.99      0.00      0.00      0.00         0\n",
      "        199       0.00      0.00      1.00      0.00      0.00      0.00         1\n",
      "        200       0.00      0.00      0.99      0.00      0.00      0.00         0\n",
      "        213       0.00      0.00      0.99      0.00      0.00      0.00         0\n",
      "        224       0.00      0.00      0.98      0.00      0.00      0.00         0\n",
      "        229       0.00      0.00      0.99      0.00      0.00      0.00         0\n",
      "        230       0.00      0.00      1.00      0.00      0.00      0.00         0\n",
      "        269       0.00      0.00      0.99      0.00      0.00      0.00         0\n",
      "        274       0.00      0.00      1.00      0.00      0.00      0.00         1\n",
      "        276       0.00      0.00      0.99      0.00      0.00      0.00         0\n",
      "        288       0.00      0.00      0.99      0.00      0.00      0.00         0\n",
      "        291       0.00      0.00      0.98      0.00      0.00      0.00         0\n",
      "        294       0.00      0.00      1.00      0.00      0.00      0.00         0\n",
      "        296       0.00      0.00      1.00      0.00      0.00      0.00         1\n",
      "        303       0.00      0.00      0.99      0.00      0.00      0.00         0\n",
      "        304       0.00      0.00      0.98      0.00      0.00      0.00         0\n",
      "        334       0.00      0.00      1.00      0.00      0.00      0.00         1\n",
      "        357       0.00      0.00      1.00      0.00      0.00      0.00         1\n",
      "        642       0.00      0.00      0.99      0.00      0.00      0.00         0\n",
      "        827       0.00      0.00      1.00      0.00      0.00      0.00         1\n",
      "       1656       0.00      0.00      0.99      0.00      0.00      0.00         0\n",
      "\n",
      "avg / total       0.00      0.00      1.00      0.00      0.00      0.00      6813\n",
      "\n"
     ]
    }
   ],
   "source": [
    "# Print the imbalanced classification report\n",
    "from imblearn.metrics import classification_report_imbalanced\n",
    "print(classification_report_imbalanced(y_test, y_pred))"
   ]
  },
  {
   "cell_type": "code",
   "execution_count": 9,
   "id": "8d85fd94",
   "metadata": {},
   "outputs": [
    {
     "data": {
      "text/plain": [
       "[(0.25617022163526854, 'humidity'),\n",
       " (0.25164377783851705, 'temp_daily'),\n",
       " (0.24823260342069287, 'tempmin'),\n",
       " (0.2439533971055216, 'tempmax')]"
      ]
     },
     "execution_count": 9,
     "metadata": {},
     "output_type": "execute_result"
    }
   ],
   "source": [
    "# List the features sorted in descending order by feature importance\n",
    "importances = rf_model.feature_importances_\n",
    "importances\n",
    "sorted(zip(rf_model.feature_importances_, X.columns), reverse=True)"
   ]
  },
  {
   "cell_type": "code",
   "execution_count": 10,
   "id": "d0f1613b",
   "metadata": {},
   "outputs": [
    {
     "data": {
      "text/plain": [
       "EasyEnsembleClassifier(n_estimators=100, random_state=1)"
      ]
     },
     "execution_count": 10,
     "metadata": {},
     "output_type": "execute_result"
    }
   ],
   "source": [
    "# Train the EasyEnsembleClassifier\n",
    "from imblearn.ensemble import EasyEnsembleClassifier\n",
    "eec = EasyEnsembleClassifier(n_estimators=100, random_state=1)\n",
    "eec.fit(X_train, y_train)"
   ]
  },
  {
   "cell_type": "code",
   "execution_count": 11,
   "id": "b49689d7",
   "metadata": {},
   "outputs": [
    {
     "data": {
      "text/plain": [
       "0.0"
      ]
     },
     "execution_count": 11,
     "metadata": {},
     "output_type": "execute_result"
    }
   ],
   "source": [
    "# Calculated the balanced accuracy score\n",
    "y_pred = eec.predict(X_test)\n",
    "balanced_accuracy_score(y_test, y_pred)"
   ]
  },
  {
   "cell_type": "code",
   "execution_count": 12,
   "id": "1855f997",
   "metadata": {},
   "outputs": [],
   "source": [
    "# Tableau Visualization\n",
    "# https://public.tableau.com/authoring/MOTH_V_BEETLE/Story1#1"
   ]
  }
 ],
 "metadata": {
  "kernelspec": {
   "display_name": "mlenv",
   "language": "python",
   "name": "mlenv"
  },
  "language_info": {
   "codemirror_mode": {
    "name": "ipython",
    "version": 3
   },
   "file_extension": ".py",
   "mimetype": "text/x-python",
   "name": "python",
   "nbconvert_exporter": "python",
   "pygments_lexer": "ipython3",
   "version": "3.7.15"
  }
 },
 "nbformat": 4,
 "nbformat_minor": 5
}
