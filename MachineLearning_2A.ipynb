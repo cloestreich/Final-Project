{
 "cells": [
  {
   "cell_type": "code",
   "execution_count": 1,
   "id": "515e04be",
   "metadata": {},
   "outputs": [],
   "source": [
    "from pathlib import Path\n",
    "import pandas as pd\n",
    "import numpy as np\n",
    "import matplotlib.pyplot as plt"
   ]
  },
  {
   "cell_type": "code",
   "execution_count": 2,
   "id": "89890579",
   "metadata": {},
   "outputs": [
    {
     "data": {
      "text/html": [
       "<div>\n",
       "<style scoped>\n",
       "    .dataframe tbody tr th:only-of-type {\n",
       "        vertical-align: middle;\n",
       "    }\n",
       "\n",
       "    .dataframe tbody tr th {\n",
       "        vertical-align: top;\n",
       "    }\n",
       "\n",
       "    .dataframe thead th {\n",
       "        text-align: right;\n",
       "    }\n",
       "</style>\n",
       "<table border=\"1\" class=\"dataframe\">\n",
       "  <thead>\n",
       "    <tr style=\"text-align: right;\">\n",
       "      <th></th>\n",
       "      <th>order_name</th>\n",
       "      <th>family_name</th>\n",
       "      <th>scientific_name</th>\n",
       "      <th>datetime</th>\n",
       "      <th>individuals</th>\n",
       "      <th>location_name</th>\n",
       "      <th>tempmax</th>\n",
       "      <th>tempmin</th>\n",
       "      <th>temp_daily</th>\n",
       "      <th>humidity</th>\n",
       "    </tr>\n",
       "  </thead>\n",
       "  <tbody>\n",
       "    <tr>\n",
       "      <th>0</th>\n",
       "      <td>LEPIDOPTERA</td>\n",
       "      <td>ACROLEPIIDAE</td>\n",
       "      <td>Acrolepiopsis assectella Zell.</td>\n",
       "      <td>8/21/1994</td>\n",
       "      <td>1</td>\n",
       "      <td>Universitetsparken 15, 2100 KÃ¸benhavn, Denmark</td>\n",
       "      <td>66.1</td>\n",
       "      <td>49.9</td>\n",
       "      <td>59.6</td>\n",
       "      <td>72.9</td>\n",
       "    </tr>\n",
       "    <tr>\n",
       "      <th>1</th>\n",
       "      <td>LEPIDOPTERA</td>\n",
       "      <td>ACROLEPIIDAE</td>\n",
       "      <td>Acrolepiopsis assectella Zell.</td>\n",
       "      <td>8/25/1994</td>\n",
       "      <td>1</td>\n",
       "      <td>Universitetsparken 15, 2100 KÃ¸benhavn, Denmark</td>\n",
       "      <td>66.3</td>\n",
       "      <td>59.1</td>\n",
       "      <td>62.3</td>\n",
       "      <td>89.8</td>\n",
       "    </tr>\n",
       "    <tr>\n",
       "      <th>2</th>\n",
       "      <td>LEPIDOPTERA</td>\n",
       "      <td>ACROLEPIIDAE</td>\n",
       "      <td>Acrolepiopsis assectella Zell.</td>\n",
       "      <td>7/25/1996</td>\n",
       "      <td>1</td>\n",
       "      <td>Universitetsparken 15, 2100 KÃ¸benhavn, Denmark</td>\n",
       "      <td>76.6</td>\n",
       "      <td>57.1</td>\n",
       "      <td>63.8</td>\n",
       "      <td>74.2</td>\n",
       "    </tr>\n",
       "    <tr>\n",
       "      <th>3</th>\n",
       "      <td>LEPIDOPTERA</td>\n",
       "      <td>ACROLEPIIDAE</td>\n",
       "      <td>Acrolepiopsis assectella Zell.</td>\n",
       "      <td>7/19/1998</td>\n",
       "      <td>1</td>\n",
       "      <td>Universitetsparken 15, 2100 KÃ¸benhavn, Denmark</td>\n",
       "      <td>62.9</td>\n",
       "      <td>49.9</td>\n",
       "      <td>57.6</td>\n",
       "      <td>83.2</td>\n",
       "    </tr>\n",
       "    <tr>\n",
       "      <th>4</th>\n",
       "      <td>LEPIDOPTERA</td>\n",
       "      <td>ACROLEPIIDAE</td>\n",
       "      <td>Acrolepiopsis assectella Zell.</td>\n",
       "      <td>8/10/1999</td>\n",
       "      <td>1</td>\n",
       "      <td>Universitetsparken 15, 2100 KÃ¸benhavn, Denmark</td>\n",
       "      <td>73.7</td>\n",
       "      <td>57.3</td>\n",
       "      <td>66.3</td>\n",
       "      <td>83.5</td>\n",
       "    </tr>\n",
       "  </tbody>\n",
       "</table>\n",
       "</div>"
      ],
      "text/plain": [
       "    order_name   family_name                 scientific_name   datetime  \\\n",
       "0  LEPIDOPTERA  ACROLEPIIDAE  Acrolepiopsis assectella Zell.  8/21/1994   \n",
       "1  LEPIDOPTERA  ACROLEPIIDAE  Acrolepiopsis assectella Zell.  8/25/1994   \n",
       "2  LEPIDOPTERA  ACROLEPIIDAE  Acrolepiopsis assectella Zell.  7/25/1996   \n",
       "3  LEPIDOPTERA  ACROLEPIIDAE  Acrolepiopsis assectella Zell.  7/19/1998   \n",
       "4  LEPIDOPTERA  ACROLEPIIDAE  Acrolepiopsis assectella Zell.  8/10/1999   \n",
       "\n",
       "   individuals                                    location_name  tempmax  \\\n",
       "0            1  Universitetsparken 15, 2100 KÃ¸benhavn, Denmark     66.1   \n",
       "1            1  Universitetsparken 15, 2100 KÃ¸benhavn, Denmark     66.3   \n",
       "2            1  Universitetsparken 15, 2100 KÃ¸benhavn, Denmark     76.6   \n",
       "3            1  Universitetsparken 15, 2100 KÃ¸benhavn, Denmark     62.9   \n",
       "4            1  Universitetsparken 15, 2100 KÃ¸benhavn, Denmark     73.7   \n",
       "\n",
       "   tempmin  temp_daily  humidity  \n",
       "0     49.9        59.6      72.9  \n",
       "1     59.1        62.3      89.8  \n",
       "2     57.1        63.8      74.2  \n",
       "3     49.9        57.6      83.2  \n",
       "4     57.3        66.3      83.5  "
      ]
     },
     "execution_count": 2,
     "metadata": {},
     "output_type": "execute_result"
    }
   ],
   "source": [
    "data = Path('./Resources/combined_data.csv')\n",
    "df = pd.read_csv(data)\n",
    "df.head()"
   ]
  },
  {
   "cell_type": "code",
   "execution_count": 3,
   "id": "03e3bff7",
   "metadata": {},
   "outputs": [],
   "source": [
    "y = df[\"individuals\"]\n",
    "X = df.loc[:,[\"tempmax\"]]"
   ]
  },
  {
   "cell_type": "code",
   "execution_count": 4,
   "id": "c8058768",
   "metadata": {},
   "outputs": [
    {
     "data": {
      "text/plain": [
       "(33066, 1)"
      ]
     },
     "execution_count": 4,
     "metadata": {},
     "output_type": "execute_result"
    }
   ],
   "source": [
    "from sklearn.model_selection import train_test_split\n",
    "\n",
    "X_train, X_test, y_train, y_test = train_test_split(X, \n",
    "                                                    y, \n",
    "                                                    random_state=1)\n",
    "X_train.shape"
   ]
  },
  {
   "cell_type": "code",
   "execution_count": 5,
   "id": "106c8ff8",
   "metadata": {},
   "outputs": [
    {
     "data": {
      "text/plain": [
       "LinearRegression()"
      ]
     },
     "execution_count": 5,
     "metadata": {},
     "output_type": "execute_result"
    }
   ],
   "source": [
    "#Fitting Simple Linear regression data model to train data set\n",
    "from sklearn.linear_model import LinearRegression\n",
    "classifier=LinearRegression()\n",
    "classifier.fit(X_train,y_train)"
   ]
  },
  {
   "cell_type": "code",
   "execution_count": 6,
   "id": "e715bb48",
   "metadata": {},
   "outputs": [
    {
     "data": {
      "image/png": "[encoded data removed]",
      "text/plain": [
       "<Figure size 640x480 with 1 Axes>"
      ]
     },
     "metadata": {},
     "output_type": "display_data"
    }
   ],
   "source": [
    "# Visualising the Training set results in a scatter plot\n",
    "plt.scatter(X_train, y_train, color = 'red')\n",
    "plt.plot(X_train, classifier.predict(X_train), color = 'blue')\n",
    "plt.title('Number of Insects Trapped vs Maximum Temperature (Training set)')\n",
    "plt.xlabel('Maximum Temperature (in degrees Fahrenheit) ')\n",
    "plt.ylabel('Number of Insects Trapped')\n",
    "plt.show()"
   ]
  },
  {
   "cell_type": "code",
   "execution_count": 7,
   "id": "2b9a07e2",
   "metadata": {},
   "outputs": [],
   "source": [
    "y = df[\"individuals\"]\n",
    "X = df.loc[:,[\"tempmin\"]]"
   ]
  },
  {
   "cell_type": "code",
   "execution_count": 8,
   "id": "5eae1792",
   "metadata": {},
   "outputs": [
    {
     "data": {
      "text/plain": [
       "(33066, 1)"
      ]
     },
     "execution_count": 8,
     "metadata": {},
     "output_type": "execute_result"
    }
   ],
   "source": [
    "from sklearn.model_selection import train_test_split\n",
    "\n",
    "X_train, X_test, y_train, y_test = train_test_split(X, \n",
    "                                                    y, \n",
    "                                                    random_state=1)\n",
    "X_train.shape"
   ]
  },
  {
   "cell_type": "code",
   "execution_count": 9,
   "id": "6ec7dd10",
   "metadata": {},
   "outputs": [
    {
     "data": {
      "text/plain": [
       "LinearRegression()"
      ]
     },
     "execution_count": 9,
     "metadata": {},
     "output_type": "execute_result"
    }
   ],
   "source": [
    "#Fitting Simple Linear regression data model to train data set\n",
    "from sklearn.linear_model import LinearRegression\n",
    "classifier=LinearRegression()\n",
    "classifier.fit(X_train,y_train)"
   ]
  },
  {
   "cell_type": "code",
   "execution_count": 10,
   "id": "c7772d66",
   "metadata": {},
   "outputs": [
    {
     "data": {
      "image/png": "[encoded data removed]",
      "text/plain": [
       "<Figure size 640x480 with 1 Axes>"
      ]
     },
     "metadata": {},
     "output_type": "display_data"
    }
   ],
   "source": [
    "# Visualising the Training set results in a scatter plot\n",
    "plt.scatter(X_train, y_train, color = 'red')\n",
    "plt.plot(X_train, classifier.predict(X_train), color = 'blue')\n",
    "plt.title('Number of Insects Trapped vs Minimum Temperature (Training set)')\n",
    "plt.xlabel('Minimum Temperature (in degrees Fahrenheit) ')\n",
    "plt.ylabel('Number of Insects Trapped')\n",
    "plt.show()"
   ]
  },
  {
   "cell_type": "code",
   "execution_count": 11,
   "id": "89ea7194",
   "metadata": {},
   "outputs": [],
   "source": [
    "y = df[\"individuals\"]\n",
    "X = df.loc[:,[\"temp_daily\"]]"
   ]
  },
  {
   "cell_type": "code",
   "execution_count": 12,
   "id": "4bdac537",
   "metadata": {},
   "outputs": [
    {
     "data": {
      "text/plain": [
       "(33066, 1)"
      ]
     },
     "execution_count": 12,
     "metadata": {},
     "output_type": "execute_result"
    }
   ],
   "source": [
    "from sklearn.model_selection import train_test_split\n",
    "\n",
    "X_train, X_test, y_train, y_test = train_test_split(X, \n",
    "                                                    y, \n",
    "                                                    random_state=1)\n",
    "X_train.shape"
   ]
  },
  {
   "cell_type": "code",
   "execution_count": 13,
   "id": "417d14df",
   "metadata": {},
   "outputs": [
    {
     "data": {
      "text/plain": [
       "LinearRegression()"
      ]
     },
     "execution_count": 13,
     "metadata": {},
     "output_type": "execute_result"
    }
   ],
   "source": [
    "#Fitting Simple Linear regression data model to train data set\n",
    "from sklearn.linear_model import LinearRegression\n",
    "classifier=LinearRegression()\n",
    "classifier.fit(X_train,y_train)"
   ]
  },
  {
   "cell_type": "code",
   "execution_count": 14,
   "id": "2dbb3a0d",
   "metadata": {
    "scrolled": true
   },
   "outputs": [
    {
     "data": {
      "image/png": "[encoded data removed]",
      "text/plain": [
       "<Figure size 640x480 with 1 Axes>"
      ]
     },
     "metadata": {},
     "output_type": "display_data"
    }
   ],
   "source": [
    "# Visualising the Training set results in a scatter plot\n",
    "plt.scatter(X_train, y_train, color = 'red')\n",
    "plt.plot(X_train, classifier.predict(X_train), color = 'blue')\n",
    "plt.title('Number of Insects Trapped vs Daily Temp (Training set)')\n",
    "plt.xlabel('Daily Temp (in degrees Fahrenheit) ')\n",
    "plt.ylabel('Number of Insects Trapped')\n",
    "plt.show()"
   ]
  },
  {
   "cell_type": "code",
   "execution_count": 15,
   "id": "e7c24a0d",
   "metadata": {},
   "outputs": [],
   "source": [
    "y = df[\"individuals\"]\n",
    "X = df.loc[:,[\"humidity\"]]"
   ]
  },
  {
   "cell_type": "code",
   "execution_count": 16,
   "id": "551c3100",
   "metadata": {},
   "outputs": [
    {
     "data": {
      "text/plain": [
       "(33066, 1)"
      ]
     },
     "execution_count": 16,
     "metadata": {},
     "output_type": "execute_result"
    }
   ],
   "source": [
    "from sklearn.model_selection import train_test_split\n",
    "\n",
    "X_train, X_test, y_train, y_test = train_test_split(X, \n",
    "                                                    y, \n",
    "                                                    random_state=1)\n",
    "X_train.shape"
   ]
  },
  {
   "cell_type": "code",
   "execution_count": 17,
   "id": "b37d19da",
   "metadata": {},
   "outputs": [
    {
     "data": {
      "text/plain": [
       "LinearRegression()"
      ]
     },
     "execution_count": 17,
     "metadata": {},
     "output_type": "execute_result"
    }
   ],
   "source": [
    "#Fitting Simple Linear regression data model to train data set\n",
    "from sklearn.linear_model import LinearRegression\n",
    "classifier=LinearRegression()\n",
    "classifier.fit(X_train,y_train)"
   ]
  },
  {
   "cell_type": "code",
   "execution_count": 18,
   "id": "a2b3d1f9",
   "metadata": {},
   "outputs": [
    {
     "data": {
      "image/png": "[encoded data removed]",
      "text/plain": [
       "<Figure size 640x480 with 1 Axes>"
      ]
     },
     "metadata": {},
     "output_type": "display_data"
    }
   ],
   "source": [
    "# Visualising the Training set results in a scatter plot\n",
    "plt.scatter(X_train, y_train, color = 'red')\n",
    "plt.plot(X_train, classifier.predict(X_train), color = 'blue')\n",
    "plt.title('Number of Insects Trapped vs Humidity (Training set)')\n",
    "plt.xlabel('Humidity (in degrees Fahrenheit) ')\n",
    "plt.ylabel('Number of Insects Trapped')\n",
    "plt.show()"
   ]
  },
  {
   "cell_type": "code",
   "execution_count": 19,
   "id": "cccf3642",
   "metadata": {},
   "outputs": [],
   "source": [
    "# Segment the features from the target\n",
    "y = df[\"individuals\"]\n",
    "X = df.drop(columns=[\"order_name\", \"family_name\", \"scientific_name\", \"datetime\", \"individuals\", \"location_name\",\"tempmax\",\"tempmin\"])"
   ]
  },
  {
   "cell_type": "code",
   "execution_count": 20,
   "id": "33f69c95",
   "metadata": {},
   "outputs": [
    {
     "data": {
      "text/plain": [
       "(35270, 2)"
      ]
     },
     "execution_count": 20,
     "metadata": {},
     "output_type": "execute_result"
    }
   ],
   "source": [
    "# Use the train_test_split function to create training and testing subsets\n",
    "from sklearn.model_selection import train_test_split\n",
    "\n",
    "X_train, X_test, y_train, y_test = train_test_split(X, y,test_size=0.2, random_state=42)\n",
    "X_train.shape"
   ]
  },
  {
   "cell_type": "code",
   "execution_count": 21,
   "id": "33f69c95",
   "metadata": {},
   "outputs": [],
   "source": [
    "# Instantiate a linear SVM model\n",
    "from sklearn.svm import SVC\n",
    "model = SVC(kernel='linear')"
   ]
  },
  {
   "cell_type": "code",
   "execution_count": 22,
   "id": "a93f1809",
   "metadata": {},
   "outputs": [
    {
     "data": {
      "text/plain": [
       "SVC(kernel='linear')"
      ]
     },
     "execution_count": 22,
     "metadata": {},
     "output_type": "execute_result"
    }
   ],
   "source": [
    "# Fit the data\n",
    "model.fit(X_train, y_train)"
   ]
  },
  {
   "cell_type": "code",
   "execution_count": 23,
   "id": "93c8a87c",
   "metadata": {},
   "outputs": [
    {
     "data": {
      "text/html": [
       "<div>\n",
       "<style scoped>\n",
       "    .dataframe tbody tr th:only-of-type {\n",
       "        vertical-align: middle;\n",
       "    }\n",
       "\n",
       "    .dataframe tbody tr th {\n",
       "        vertical-align: top;\n",
       "    }\n",
       "\n",
       "    .dataframe thead th {\n",
       "        text-align: right;\n",
       "    }\n",
       "</style>\n",
       "<table border=\"1\" class=\"dataframe\">\n",
       "  <thead>\n",
       "    <tr style=\"text-align: right;\">\n",
       "      <th></th>\n",
       "      <th>Prediction</th>\n",
       "      <th>Actual</th>\n",
       "    </tr>\n",
       "  </thead>\n",
       "  <tbody>\n",
       "    <tr>\n",
       "      <th>0</th>\n",
       "      <td>1</td>\n",
       "      <td>5</td>\n",
       "    </tr>\n",
       "    <tr>\n",
       "      <th>1</th>\n",
       "      <td>1</td>\n",
       "      <td>9</td>\n",
       "    </tr>\n",
       "    <tr>\n",
       "      <th>2</th>\n",
       "      <td>1</td>\n",
       "      <td>1</td>\n",
       "    </tr>\n",
       "    <tr>\n",
       "      <th>3</th>\n",
       "      <td>1</td>\n",
       "      <td>1</td>\n",
       "    </tr>\n",
       "    <tr>\n",
       "      <th>4</th>\n",
       "      <td>1</td>\n",
       "      <td>1</td>\n",
       "    </tr>\n",
       "  </tbody>\n",
       "</table>\n",
       "</div>"
      ],
      "text/plain": [
       "   Prediction  Actual\n",
       "0           1       5\n",
       "1           1       9\n",
       "2           1       1\n",
       "3           1       1\n",
       "4           1       1"
      ]
     },
     "execution_count": 23,
     "metadata": {},
     "output_type": "execute_result"
    }
   ],
   "source": [
    "# Make predictions using the test data\n",
    "y_pred = model.predict(X_test)\n",
    "results = pd.DataFrame({\n",
    "    \"Prediction\": y_pred, \n",
    "    \"Actual\": y_test\n",
    "}).reset_index(drop=True)\n",
    "results.head()"
   ]
  },
  {
   "cell_type": "code",
   "execution_count": 24,
   "id": "aca93df4",
   "metadata": {},
   "outputs": [
    {
     "data": {
      "text/plain": [
       "0.5249489680199592"
      ]
     },
     "execution_count": 24,
     "metadata": {},
     "output_type": "execute_result"
    }
   ],
   "source": [
    "from sklearn.metrics import accuracy_score\n",
    "accuracy_score(y_test, y_pred)"
   ]
  },
  {
   "cell_type": "code",
   "execution_count": 25,
   "id": "9b53fa1a",
   "metadata": {},
   "outputs": [
    {
     "data": {
      "text/plain": [
       "array([[4629,    0,    0, ...,    0,    0,    0],\n",
       "       [1359,    0,    0, ...,    0,    0,    0],\n",
       "       [ 700,    0,    0, ...,    0,    0,    0],\n",
       "       ...,\n",
       "       [   1,    0,    0, ...,    0,    0,    0],\n",
       "       [   1,    0,    0, ...,    0,    0,    0],\n",
       "       [   1,    0,    0, ...,    0,    0,    0]], dtype=int64)"
      ]
     },
     "execution_count": 25,
     "metadata": {},
     "output_type": "execute_result"
    }
   ],
   "source": [
    "from sklearn.metrics import confusion_matrix\n",
    "confusion_matrix(y_test, y_pred)"
   ]
  },
  {
   "cell_type": "code",
   "execution_count": 26,
   "id": "24034f02",
   "metadata": {},
   "outputs": [
    {
     "name": "stdout",
     "output_type": "stream",
     "text": [
      "              precision    recall  f1-score   support\n",
      "\n",
      "           1       0.52      1.00      0.69      4629\n",
      "           2       0.00      0.00      0.00      1359\n",
      "           3       0.00      0.00      0.00       700\n",
      "           4       0.00      0.00      0.00       421\n",
      "           5       0.00      0.00      0.00       287\n",
      "           6       0.00      0.00      0.00       214\n",
      "           7       0.00      0.00      0.00       176\n",
      "           8       0.00      0.00      0.00       112\n",
      "           9       0.00      0.00      0.00       100\n",
      "          10       0.00      0.00      0.00        69\n",
      "          11       0.00      0.00      0.00        68\n",
      "          12       0.00      0.00      0.00        54\n",
      "          13       0.00      0.00      0.00        54\n",
      "          14       0.00      0.00      0.00        35\n",
      "          15       0.00      0.00      0.00        42\n",
      "          16       0.00      0.00      0.00        37\n",
      "          17       0.00      0.00      0.00        38\n",
      "          18       0.00      0.00      0.00        36\n",
      "          19       0.00      0.00      0.00        20\n",
      "          20       0.00      0.00      0.00        24\n",
      "          21       0.00      0.00      0.00        14\n",
      "          22       0.00      0.00      0.00        15\n",
      "          23       0.00      0.00      0.00        16\n",
      "          24       0.00      0.00      0.00        11\n",
      "          25       0.00      0.00      0.00        12\n",
      "          26       0.00      0.00      0.00        17\n",
      "          27       0.00      0.00      0.00        15\n",
      "          28       0.00      0.00      0.00        12\n",
      "          29       0.00      0.00      0.00         6\n",
      "          30       0.00      0.00      0.00         8\n",
      "          31       0.00      0.00      0.00         9\n",
      "          32       0.00      0.00      0.00        13\n",
      "          33       0.00      0.00      0.00         7\n",
      "          34       0.00      0.00      0.00         7\n",
      "          35       0.00      0.00      0.00         6\n",
      "          36       0.00      0.00      0.00         8\n",
      "          37       0.00      0.00      0.00         5\n",
      "          38       0.00      0.00      0.00         8\n",
      "          39       0.00      0.00      0.00         4\n",
      "          40       0.00      0.00      0.00         4\n",
      "          41       0.00      0.00      0.00         3\n",
      "          42       0.00      0.00      0.00         6\n",
      "          43       0.00      0.00      0.00         1\n",
      "          44       0.00      0.00      0.00         4\n",
      "          45       0.00      0.00      0.00         3\n",
      "          46       0.00      0.00      0.00         3\n",
      "          47       0.00      0.00      0.00         3\n",
      "          48       0.00      0.00      0.00         4\n",
      "          49       0.00      0.00      0.00         2\n",
      "          50       0.00      0.00      0.00         2\n",
      "          51       0.00      0.00      0.00         1\n",
      "          53       0.00      0.00      0.00         1\n",
      "          54       0.00      0.00      0.00         4\n",
      "          55       0.00      0.00      0.00         7\n",
      "          56       0.00      0.00      0.00         3\n",
      "          57       0.00      0.00      0.00         1\n",
      "          58       0.00      0.00      0.00         2\n",
      "          59       0.00      0.00      0.00         4\n",
      "          60       0.00      0.00      0.00         2\n",
      "          61       0.00      0.00      0.00         2\n",
      "          62       0.00      0.00      0.00         1\n",
      "          63       0.00      0.00      0.00         2\n",
      "          64       0.00      0.00      0.00         1\n",
      "          65       0.00      0.00      0.00         1\n",
      "          66       0.00      0.00      0.00         3\n",
      "          67       0.00      0.00      0.00         4\n",
      "          68       0.00      0.00      0.00         2\n",
      "          69       0.00      0.00      0.00         2\n",
      "          70       0.00      0.00      0.00         1\n",
      "          71       0.00      0.00      0.00         2\n",
      "          72       0.00      0.00      0.00         3\n",
      "          73       0.00      0.00      0.00         1\n",
      "          75       0.00      0.00      0.00         3\n",
      "          76       0.00      0.00      0.00         2\n",
      "          77       0.00      0.00      0.00         3\n",
      "          78       0.00      0.00      0.00         1\n",
      "          79       0.00      0.00      0.00         4\n",
      "          80       0.00      0.00      0.00         2\n",
      "          81       0.00      0.00      0.00         1\n",
      "          82       0.00      0.00      0.00         1\n",
      "          83       0.00      0.00      0.00         1\n",
      "          85       0.00      0.00      0.00         1\n",
      "          86       0.00      0.00      0.00         2\n",
      "          87       0.00      0.00      0.00         1\n",
      "          90       0.00      0.00      0.00         1\n",
      "          91       0.00      0.00      0.00         1\n",
      "          95       0.00      0.00      0.00         1\n",
      "          96       0.00      0.00      0.00         1\n",
      "          97       0.00      0.00      0.00         2\n",
      "          98       0.00      0.00      0.00         1\n",
      "         101       0.00      0.00      0.00         1\n",
      "         102       0.00      0.00      0.00         1\n",
      "         110       0.00      0.00      0.00         1\n",
      "         111       0.00      0.00      0.00         1\n",
      "         116       0.00      0.00      0.00         1\n",
      "         117       0.00      0.00      0.00         1\n",
      "         121       0.00      0.00      0.00         1\n",
      "         122       0.00      0.00      0.00         1\n",
      "         123       0.00      0.00      0.00         2\n",
      "         124       0.00      0.00      0.00         1\n",
      "         125       0.00      0.00      0.00         1\n",
      "         126       0.00      0.00      0.00         1\n",
      "         137       0.00      0.00      0.00         1\n",
      "         138       0.00      0.00      0.00         1\n",
      "         139       0.00      0.00      0.00         1\n",
      "         140       0.00      0.00      0.00         1\n",
      "         144       0.00      0.00      0.00         1\n",
      "         146       0.00      0.00      0.00         1\n",
      "         148       0.00      0.00      0.00         1\n",
      "         155       0.00      0.00      0.00         1\n",
      "         161       0.00      0.00      0.00         1\n",
      "         175       0.00      0.00      0.00         1\n",
      "         183       0.00      0.00      0.00         1\n",
      "         191       0.00      0.00      0.00         1\n",
      "         200       0.00      0.00      0.00         1\n",
      "         220       0.00      0.00      0.00         1\n",
      "         229       0.00      0.00      0.00         1\n",
      "         245       0.00      0.00      0.00         1\n",
      "         311       0.00      0.00      0.00         1\n",
      "         467       0.00      0.00      0.00         1\n",
      "         501       0.00      0.00      0.00         1\n",
      "         633       0.00      0.00      0.00         1\n",
      "         754       0.00      0.00      0.00         1\n",
      "         839       0.00      0.00      0.00         1\n",
      "        8396       0.00      0.00      0.00         1\n",
      "\n",
      "    accuracy                           0.52      8818\n",
      "   macro avg       0.00      0.01      0.01      8818\n",
      "weighted avg       0.28      0.52      0.36      8818\n",
      "\n"
     ]
    },
    {
     "name": "stderr",
     "output_type": "stream",
     "text": [
      "c:\\Users\\Andrea\\anaconda3\\envs\\PythonData\\envs\\mlenv\\lib\\site-packages\\sklearn\\metrics\\_classification.py:1318: UndefinedMetricWarning: Precision and F-score are ill-defined and being set to 0.0 in labels with no predicted samples. Use `zero_division` parameter to control this behavior.\n",
      "  _warn_prf(average, modifier, msg_start, len(result))\n",
      "c:\\Users\\Andrea\\anaconda3\\envs\\PythonData\\envs\\mlenv\\lib\\site-packages\\sklearn\\metrics\\_classification.py:1318: UndefinedMetricWarning: Precision and F-score are ill-defined and being set to 0.0 in labels with no predicted samples. Use `zero_division` parameter to control this behavior.\n",
      "  _warn_prf(average, modifier, msg_start, len(result))\n",
      "c:\\Users\\Andrea\\anaconda3\\envs\\PythonData\\envs\\mlenv\\lib\\site-packages\\sklearn\\metrics\\_classification.py:1318: UndefinedMetricWarning: Precision and F-score are ill-defined and being set to 0.0 in labels with no predicted samples. Use `zero_division` parameter to control this behavior.\n",
      "  _warn_prf(average, modifier, msg_start, len(result))\n"
     ]
    }
   ],
   "source": [
    "from sklearn.metrics import classification_report\n",
    "print(classification_report(y_test, y_pred))"
   ]
  }
 ],
 "metadata": {
  "kernelspec": {
   "display_name": "mlenv",
   "language": "python",
   "name": "mlenv"
  },
  "language_info": {
   "codemirror_mode": {
    "name": "ipython",
    "version": 3
   },
   "file_extension": ".py",
   "mimetype": "text/x-python",
   "name": "python",
   "nbconvert_exporter": "python",
   "pygments_lexer": "ipython3",
   "version": "3.7.15"
  }
 },
 "nbformat": 4,
 "nbformat_minor": 5
}
