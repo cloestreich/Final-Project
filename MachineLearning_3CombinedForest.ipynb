{
 "cells": [
  {
   "cell_type": "code",
   "execution_count": 1,
   "id": "515e04be",
   "metadata": {},
   "outputs": [],
   "source": [
    "from pathlib import Path\n",
    "import pandas as pd\n",
    "import numpy as np\n",
    "import matplotlib.pyplot as plt"
   ]
  },
  {
   "cell_type": "code",
   "execution_count": 2,
   "id": "89890579",
   "metadata": {},
   "outputs": [
    {
     "data": {
      "text/html": [
       "<div>\n",
       "<style scoped>\n",
       "    .dataframe tbody tr th:only-of-type {\n",
       "        vertical-align: middle;\n",
       "    }\n",
       "\n",
       "    .dataframe tbody tr th {\n",
       "        vertical-align: top;\n",
       "    }\n",
       "\n",
       "    .dataframe thead th {\n",
       "        text-align: right;\n",
       "    }\n",
       "</style>\n",
       "<table border=\"1\" class=\"dataframe\">\n",
       "  <thead>\n",
       "    <tr style=\"text-align: right;\">\n",
       "      <th></th>\n",
       "      <th>order_name</th>\n",
       "      <th>family_name</th>\n",
       "      <th>datetime</th>\n",
       "      <th>individuals</th>\n",
       "      <th>tempmax</th>\n",
       "      <th>tempmin</th>\n",
       "      <th>temp_daily</th>\n",
       "      <th>humidity</th>\n",
       "    </tr>\n",
       "  </thead>\n",
       "  <tbody>\n",
       "    <tr>\n",
       "      <th>0</th>\n",
       "      <td>COLEOPTERA</td>\n",
       "      <td>CARABIDAE</td>\n",
       "      <td>37822</td>\n",
       "      <td>2</td>\n",
       "      <td>76.9</td>\n",
       "      <td>60.9</td>\n",
       "      <td>69.9</td>\n",
       "      <td>69.9</td>\n",
       "    </tr>\n",
       "    <tr>\n",
       "      <th>1</th>\n",
       "      <td>COLEOPTERA</td>\n",
       "      <td>CARABIDAE</td>\n",
       "      <td>36698</td>\n",
       "      <td>3</td>\n",
       "      <td>86.0</td>\n",
       "      <td>64.1</td>\n",
       "      <td>75.6</td>\n",
       "      <td>67.5</td>\n",
       "    </tr>\n",
       "    <tr>\n",
       "      <th>2</th>\n",
       "      <td>COLEOPTERA</td>\n",
       "      <td>CARABIDAE</td>\n",
       "      <td>39243</td>\n",
       "      <td>1</td>\n",
       "      <td>81.7</td>\n",
       "      <td>60.4</td>\n",
       "      <td>71.9</td>\n",
       "      <td>55.4</td>\n",
       "    </tr>\n",
       "    <tr>\n",
       "      <th>3</th>\n",
       "      <td>COLEOPTERA</td>\n",
       "      <td>CARABIDAE</td>\n",
       "      <td>33787</td>\n",
       "      <td>1</td>\n",
       "      <td>71.2</td>\n",
       "      <td>58.8</td>\n",
       "      <td>65.5</td>\n",
       "      <td>59.2</td>\n",
       "    </tr>\n",
       "    <tr>\n",
       "      <th>4</th>\n",
       "      <td>COLEOPTERA</td>\n",
       "      <td>CARABIDAE</td>\n",
       "      <td>34112</td>\n",
       "      <td>1</td>\n",
       "      <td>73.3</td>\n",
       "      <td>55.2</td>\n",
       "      <td>63.3</td>\n",
       "      <td>66.8</td>\n",
       "    </tr>\n",
       "  </tbody>\n",
       "</table>\n",
       "</div>"
      ],
      "text/plain": [
       "   order_name family_name  datetime  individuals  tempmax  tempmin  \\\n",
       "0  COLEOPTERA   CARABIDAE     37822            2     76.9     60.9   \n",
       "1  COLEOPTERA   CARABIDAE     36698            3     86.0     64.1   \n",
       "2  COLEOPTERA   CARABIDAE     39243            1     81.7     60.4   \n",
       "3  COLEOPTERA   CARABIDAE     33787            1     71.2     58.8   \n",
       "4  COLEOPTERA   CARABIDAE     34112            1     73.3     55.2   \n",
       "\n",
       "   temp_daily  humidity  \n",
       "0        69.9      69.9  \n",
       "1        75.6      67.5  \n",
       "2        71.9      55.4  \n",
       "3        65.5      59.2  \n",
       "4        63.3      66.8  "
      ]
     },
     "execution_count": 2,
     "metadata": {},
     "output_type": "execute_result"
    }
   ],
   "source": [
    "#data = Path('./Resources/combined_data.csv')\n",
    "data = Path('./Resources/CombinedTop5_chg.csv')\n",
    "df = pd.read_csv(data)\n",
    "df.head()"
   ]
  },
  {
   "cell_type": "code",
   "execution_count": 3,
   "id": "cccf3642",
   "metadata": {},
   "outputs": [],
   "source": [
    "# Segment the features from the target\n",
    "y = df[\"individuals\"]\n",
    "#X = df.drop(columns=[\"order_name\", \"family_name\", \"datetime\", \"individuals\", \"tempmax\",\"tempmin\"])\n",
    "X = df.drop(columns=[\"order_name\", \"family_name\", \"datetime\", \"individuals\", \"tempmax\",\"tempmin\", \"temp_daily\"])"
   ]
  },
  {
   "cell_type": "code",
   "execution_count": 4,
   "id": "33f69c95",
   "metadata": {},
   "outputs": [
    {
     "data": {
      "text/plain": [
       "(24926, 1)"
      ]
     },
     "execution_count": 4,
     "metadata": {},
     "output_type": "execute_result"
    }
   ],
   "source": [
    "# Use the train_test_split function to create training and testing subsets\n",
    "from sklearn.model_selection import train_test_split\n",
    "\n",
    "X_train, X_test, y_train, y_test = train_test_split(X, y,test_size=0.2, random_state=42)\n",
    "X_train.shape"
   ]
  },
  {
   "cell_type": "code",
   "execution_count": 5,
   "id": "58388e97",
   "metadata": {},
   "outputs": [
    {
     "data": {
      "text/plain": [
       "RandomForestRegressor(n_estimators=10, random_state=0)"
      ]
     },
     "execution_count": 5,
     "metadata": {},
     "output_type": "execute_result"
    }
   ],
   "source": [
    "from sklearn.ensemble import RandomForestRegressor\n",
    "regressor = RandomForestRegressor(n_estimators= 10, random_state= 0)\n",
    "regressor.fit(X_train, y_train)"
   ]
  },
  {
   "cell_type": "code",
   "execution_count": 6,
   "id": "2a421aad",
   "metadata": {},
   "outputs": [
    {
     "data": {
      "text/plain": [
       "array([4.32556133, 6.89110319, 6.14699717, ..., 2.18903579, 1.67439394,\n",
       "       2.36594928])"
      ]
     },
     "execution_count": 6,
     "metadata": {},
     "output_type": "execute_result"
    }
   ],
   "source": [
    "y_pred = regressor.predict(X_test)\n",
    "\n",
    "y_pred"
   ]
  },
  {
   "cell_type": "code",
   "execution_count": 7,
   "id": "367727e2",
   "metadata": {},
   "outputs": [
    {
     "data": {
      "text/plain": [
       "-0.016017638832902525"
      ]
     },
     "execution_count": 7,
     "metadata": {},
     "output_type": "execute_result"
    }
   ],
   "source": [
    "from sklearn.metrics import r2_score\n",
    "r2_score(y_test, y_pred)"
   ]
  },
  {
   "cell_type": "markdown",
   "id": "df9ff393",
   "metadata": {},
   "source": [
    "https://stats.stackexchange.com/questions/12900/when-is-r-squared-negative\n",
    "\n",
    "R2  compares the fit of the chosen model with that of a horizontal straight line (the null hypothesis). If the chosen model fits worse than a horizontal line, then R2 is negative. Note that R2 is not always the square of anything, so it can have a negative value without violating any rules of math. R2 is negative only when the chosen model does not follow the trend of the data, so fits worse than a horizontal line.\n",
    "\n",
    "Example: fit data to a linear regression model constrained so that the Y intercept must equal 1500.\n",
    "\n",
    "enter image description here\n",
    "\n",
    "The model makes no sense at all given these data. It is clearly the wrong model, perhaps chosen by accident.\n",
    "\n",
    "The fit of the model (a straight line constrained to go through the point (0,1500)) is worse than the fit of a horizontal line. Thus the sum-of-squares from the model (SSres) is larger than the sum-of-squares from the horizontal line (SStot).\n",
    "\n",
    "If R2 is computed as 1−SSresSStot. (here, SSres = residual error.)\n",
    "When SSres is greater than SStot, that equation could compute a negative value for R2, if the value of the coeficient is greater than 1.\n",
    "\n",
    "With linear regression with no constraints, R2 must be positive (or zero) and equals the square of the correlation coefficient, r. A negative R2 is only possible with linear regression when either the intercept or the slope are constrained so that the \"best-fit\" line (given the constraint) fits worse than a horizontal line. With nonlinear regression, the R2 can be negative whenever the best-fit model (given the chosen equation, and its constraints, if any) fits the data worse than a horizontal line.\n",
    "\n",
    "Bottom line: a negative R2 is not a mathematical impossibility or the sign of a computer bug. It simply means that the chosen model (with its constraints) fits the data really poorly."
   ]
  }
 ],
 "metadata": {
  "kernelspec": {
   "display_name": "mlenv",
   "language": "python",
   "name": "mlenv"
  },
  "language_info": {
   "codemirror_mode": {
    "name": "ipython",
    "version": 3
   },
   "file_extension": ".py",
   "mimetype": "text/x-python",
   "name": "python",
   "nbconvert_exporter": "python",
   "pygments_lexer": "ipython3",
   "version": "3.7.15"
  }
 },
 "nbformat": 4,
 "nbformat_minor": 5
}
