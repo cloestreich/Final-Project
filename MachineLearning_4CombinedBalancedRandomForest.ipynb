{
 "cells": [
  {
   "cell_type": "code",
   "execution_count": 11,
   "id": "515e04be",
   "metadata": {},
   "outputs": [],
   "source": [
    "from pathlib import Path\n",
    "import pandas as pd\n",
    "import numpy as np\n",
    "import matplotlib.pyplot as plt\n",
    "import warnings\n",
    "warnings.filterwarnings('ignore')\n",
    "from collections import Counter\n",
    "from sklearn.metrics import balanced_accuracy_score\n",
    "from sklearn.metrics import confusion_matrix\n",
    "from imblearn.metrics import classification_report_imbalanced"
   ]
  },
  {
   "cell_type": "code",
   "execution_count": 12,
   "id": "89890579",
   "metadata": {},
   "outputs": [
    {
     "data": {
      "text/html": [
       "<div>\n",
       "<style scoped>\n",
       "    .dataframe tbody tr th:only-of-type {\n",
       "        vertical-align: middle;\n",
       "    }\n",
       "\n",
       "    .dataframe tbody tr th {\n",
       "        vertical-align: top;\n",
       "    }\n",
       "\n",
       "    .dataframe thead th {\n",
       "        text-align: right;\n",
       "    }\n",
       "</style>\n",
       "<table border=\"1\" class=\"dataframe\">\n",
       "  <thead>\n",
       "    <tr style=\"text-align: right;\">\n",
       "      <th></th>\n",
       "      <th>order_name</th>\n",
       "      <th>family_name</th>\n",
       "      <th>datetime</th>\n",
       "      <th>individuals</th>\n",
       "      <th>tempmax</th>\n",
       "      <th>tempmin</th>\n",
       "      <th>temp_daily</th>\n",
       "      <th>humidity</th>\n",
       "    </tr>\n",
       "  </thead>\n",
       "  <tbody>\n",
       "    <tr>\n",
       "      <th>0</th>\n",
       "      <td>COLEOPTERA</td>\n",
       "      <td>CARABIDAE</td>\n",
       "      <td>37822</td>\n",
       "      <td>2</td>\n",
       "      <td>76.9</td>\n",
       "      <td>60.9</td>\n",
       "      <td>69.9</td>\n",
       "      <td>69.9</td>\n",
       "    </tr>\n",
       "    <tr>\n",
       "      <th>1</th>\n",
       "      <td>COLEOPTERA</td>\n",
       "      <td>CARABIDAE</td>\n",
       "      <td>36698</td>\n",
       "      <td>3</td>\n",
       "      <td>86.0</td>\n",
       "      <td>64.1</td>\n",
       "      <td>75.6</td>\n",
       "      <td>67.5</td>\n",
       "    </tr>\n",
       "    <tr>\n",
       "      <th>2</th>\n",
       "      <td>COLEOPTERA</td>\n",
       "      <td>CARABIDAE</td>\n",
       "      <td>39243</td>\n",
       "      <td>1</td>\n",
       "      <td>81.7</td>\n",
       "      <td>60.4</td>\n",
       "      <td>71.9</td>\n",
       "      <td>55.4</td>\n",
       "    </tr>\n",
       "    <tr>\n",
       "      <th>3</th>\n",
       "      <td>COLEOPTERA</td>\n",
       "      <td>CARABIDAE</td>\n",
       "      <td>33787</td>\n",
       "      <td>1</td>\n",
       "      <td>71.2</td>\n",
       "      <td>58.8</td>\n",
       "      <td>65.5</td>\n",
       "      <td>59.2</td>\n",
       "    </tr>\n",
       "    <tr>\n",
       "      <th>4</th>\n",
       "      <td>COLEOPTERA</td>\n",
       "      <td>CARABIDAE</td>\n",
       "      <td>34112</td>\n",
       "      <td>1</td>\n",
       "      <td>73.3</td>\n",
       "      <td>55.2</td>\n",
       "      <td>63.3</td>\n",
       "      <td>66.8</td>\n",
       "    </tr>\n",
       "  </tbody>\n",
       "</table>\n",
       "</div>"
      ],
      "text/plain": [
       "   order_name family_name  datetime  individuals  tempmax  tempmin  \\\n",
       "0  COLEOPTERA   CARABIDAE     37822            2     76.9     60.9   \n",
       "1  COLEOPTERA   CARABIDAE     36698            3     86.0     64.1   \n",
       "2  COLEOPTERA   CARABIDAE     39243            1     81.7     60.4   \n",
       "3  COLEOPTERA   CARABIDAE     33787            1     71.2     58.8   \n",
       "4  COLEOPTERA   CARABIDAE     34112            1     73.3     55.2   \n",
       "\n",
       "   temp_daily  humidity  \n",
       "0        69.9      69.9  \n",
       "1        75.6      67.5  \n",
       "2        71.9      55.4  \n",
       "3        65.5      59.2  \n",
       "4        63.3      66.8  "
      ]
     },
     "execution_count": 12,
     "metadata": {},
     "output_type": "execute_result"
    }
   ],
   "source": [
    "#data = Path('./Resources/combined_data.csv')\n",
    "data = Path('./Resources/CombinedTop5_chg.csv')\n",
    "df = pd.read_csv(data)\n",
    "df.head()"
   ]
  },
  {
   "cell_type": "code",
   "execution_count": 13,
   "id": "cccf3642",
   "metadata": {},
   "outputs": [],
   "source": [
    "# Segment the features from the target\n",
    "y = df[\"individuals\"]\n",
    "#X = df.drop(columns=[\"order_name\", \"family_name\", \"datetime\", \"individuals\", \"tempmax\",\"tempmin\"])\n",
    "X = df.drop(columns=[\"order_name\", \"family_name\", \"datetime\", \"individuals\"])"
   ]
  },
  {
   "cell_type": "code",
   "execution_count": 14,
   "id": "33f69c95",
   "metadata": {},
   "outputs": [
    {
     "name": "stdout",
     "output_type": "stream",
     "text": [
      "18207    1\n",
      "7254     4\n",
      "11600    1\n",
      "19327    1\n",
      "13757    6\n",
      "        ..\n",
      "6797     1\n",
      "25919    1\n",
      "28046    1\n",
      "14906    1\n",
      "22548    2\n",
      "Name: individuals, Length: 7790, dtype: int64\n"
     ]
    }
   ],
   "source": [
    "# Use the train_test_split function to create training and testing subsets\n",
    "from sklearn.model_selection import train_test_split\n",
    "\n",
    "X_train, X_test, y_train, y_test = train_test_split(X, y, random_state=1)\n",
    "#X_train.shape\n",
    "print(y_test)"
   ]
  },
  {
   "cell_type": "code",
   "execution_count": 15,
   "id": "58388e97",
   "metadata": {},
   "outputs": [
    {
     "data": {
      "text/plain": [
       "BalancedRandomForestClassifier(random_state=1)"
      ]
     },
     "execution_count": 15,
     "metadata": {},
     "output_type": "execute_result"
    }
   ],
   "source": [
    "# Resample the training data with the BalancedRandomForestClassifier\n",
    "from imblearn.ensemble import BalancedRandomForestClassifier\n",
    "rf_model = BalancedRandomForestClassifier(n_estimators=100, random_state=1)\n",
    "rf_model.fit(X_train, y_train)"
   ]
  },
  {
   "cell_type": "code",
   "execution_count": 16,
   "id": "2a421aad",
   "metadata": {},
   "outputs": [
    {
     "data": {
      "text/plain": [
       "0.004545454545454545"
      ]
     },
     "execution_count": 16,
     "metadata": {},
     "output_type": "execute_result"
    }
   ],
   "source": [
    "# Calculated the balanced accuracy score\n",
    "y_pred = rf_model.predict(X_test)\n",
    "balanced_accuracy_score(y_test, y_pred)"
   ]
  },
  {
   "cell_type": "code",
   "execution_count": 17,
   "id": "57e72914",
   "metadata": {},
   "outputs": [
    {
     "data": {
      "text/plain": [
       "array([[ 0,  0,  0, ..., 51,  0, 11],\n",
       "       [ 0,  0,  0, ..., 14,  0,  0],\n",
       "       [ 0,  0,  0, ...,  9,  0,  2],\n",
       "       ...,\n",
       "       [ 0,  0,  0, ...,  0,  0,  0],\n",
       "       [ 0,  0,  0, ...,  0,  0,  0],\n",
       "       [ 0,  0,  0, ...,  0,  0,  0]], dtype=int64)"
      ]
     },
     "execution_count": 17,
     "metadata": {},
     "output_type": "execute_result"
    }
   ],
   "source": [
    "# Display the confusion matrix\n",
    "from sklearn.metrics import confusion_matrix\n",
    "y_pred = rf_model.predict(X_test)\n",
    "confusion_matrix(y_test, y_pred)"
   ]
  },
  {
   "cell_type": "code",
   "execution_count": 18,
   "id": "8378d60d",
   "metadata": {},
   "outputs": [
    {
     "name": "stdout",
     "output_type": "stream",
     "text": [
      "                   pre       rec       spe        f1       geo       iba       sup\n",
      "\n",
      "          1       0.00      0.00      1.00      0.00      0.00      0.00      3897\n",
      "          2       0.00      0.00      1.00      0.00      0.00      0.00      1239\n",
      "          3       0.00      0.00      1.00      0.00      0.00      0.00       669\n",
      "          4       0.00      0.00      1.00      0.00      0.00      0.00       383\n",
      "          5       0.00      0.00      1.00      0.00      0.00      0.00       296\n",
      "          6       0.00      0.00      1.00      0.00      0.00      0.00       208\n",
      "          7       0.00      0.00      1.00      0.00      0.00      0.00       160\n",
      "          8       0.00      0.00      1.00      0.00      0.00      0.00        97\n",
      "          9       0.00      0.00      1.00      0.00      0.00      0.00        82\n",
      "         10       0.00      0.00      1.00      0.00      0.00      0.00        67\n",
      "         11       0.00      0.00      1.00      0.00      0.00      0.00        71\n",
      "         12       0.00      0.00      1.00      0.00      0.00      0.00        49\n",
      "         13       0.00      0.00      1.00      0.00      0.00      0.00        43\n",
      "         14       0.00      0.00      1.00      0.00      0.00      0.00        40\n",
      "         15       0.00      0.00      1.00      0.00      0.00      0.00        46\n",
      "         16       0.00      0.00      1.00      0.00      0.00      0.00        31\n",
      "         17       0.00      0.00      1.00      0.00      0.00      0.00        34\n",
      "         18       0.00      0.00      1.00      0.00      0.00      0.00        24\n",
      "         19       0.00      0.00      1.00      0.00      0.00      0.00        17\n",
      "         20       0.00      0.00      1.00      0.00      0.00      0.00        28\n",
      "         21       0.00      0.00      1.00      0.00      0.00      0.00        11\n",
      "         22       0.00      0.00      1.00      0.00      0.00      0.00        10\n",
      "         23       0.00      0.00      1.00      0.00      0.00      0.00        10\n",
      "         24       0.00      0.00      1.00      0.00      0.00      0.00        14\n",
      "         25       0.00      0.00      1.00      0.00      0.00      0.00        18\n",
      "         26       0.00      0.00      1.00      0.00      0.00      0.00        14\n",
      "         27       0.00      0.00      1.00      0.00      0.00      0.00        12\n",
      "         28       0.00      0.00      1.00      0.00      0.00      0.00        16\n",
      "         29       0.00      0.00      1.00      0.00      0.00      0.00        10\n",
      "         30       0.00      0.00      1.00      0.00      0.00      0.00         8\n",
      "         31       0.00      0.00      1.00      0.00      0.00      0.00         9\n",
      "         32       0.00      0.00      1.00      0.00      0.00      0.00        10\n",
      "         33       0.00      0.00      1.00      0.00      0.00      0.00         3\n",
      "         34       0.00      0.00      1.00      0.00      0.00      0.00         4\n",
      "         35       0.00      0.00      0.99      0.00      0.00      0.00         8\n",
      "         36       0.00      0.00      1.00      0.00      0.00      0.00         6\n",
      "         37       0.00      0.00      1.00      0.00      0.00      0.00         4\n",
      "         38       0.00      0.00      1.00      0.00      0.00      0.00         8\n",
      "         39       0.00      0.00      1.00      0.00      0.00      0.00         3\n",
      "         40       0.00      0.00      1.00      0.00      0.00      0.00         3\n",
      "         41       0.05      0.50      1.00      0.09      0.71      0.47         2\n",
      "         42       0.00      0.00      1.00      0.00      0.00      0.00         6\n",
      "         43       0.00      0.00      1.00      0.00      0.00      0.00         4\n",
      "         44       0.00      0.00      1.00      0.00      0.00      0.00         5\n",
      "         45       0.00      0.00      1.00      0.00      0.00      0.00         3\n",
      "         46       0.00      0.00      1.00      0.00      0.00      0.00         3\n",
      "         47       0.00      0.00      1.00      0.00      0.00      0.00         2\n",
      "         48       0.00      0.00      1.00      0.00      0.00      0.00         3\n",
      "         49       0.00      0.00      1.00      0.00      0.00      0.00         6\n",
      "         50       0.00      0.00      1.00      0.00      0.00      0.00         5\n",
      "         51       0.00      0.00      1.00      0.00      0.00      0.00         2\n",
      "         52       0.00      0.00      1.00      0.00      0.00      0.00         0\n",
      "         53       0.00      0.00      0.99      0.00      0.00      0.00         2\n",
      "         54       0.00      0.00      1.00      0.00      0.00      0.00         2\n",
      "         55       0.00      0.00      1.00      0.00      0.00      0.00         3\n",
      "         56       0.00      0.00      1.00      0.00      0.00      0.00         4\n",
      "         57       0.00      0.00      0.99      0.00      0.00      0.00         0\n",
      "         58       0.00      0.00      1.00      0.00      0.00      0.00         1\n",
      "         59       0.00      0.00      1.00      0.00      0.00      0.00         1\n",
      "         60       0.00      0.00      1.00      0.00      0.00      0.00         1\n",
      "         61       0.00      0.00      0.99      0.00      0.00      0.00         2\n",
      "         62       0.00      0.00      0.99      0.00      0.00      0.00         1\n",
      "         63       0.00      0.00      0.99      0.00      0.00      0.00         1\n",
      "         64       0.00      0.00      0.99      0.00      0.00      0.00         0\n",
      "         65       0.00      0.00      1.00      0.00      0.00      0.00         1\n",
      "         66       0.00      0.00      0.99      0.00      0.00      0.00         3\n",
      "         67       0.00      0.00      0.99      0.00      0.00      0.00         4\n",
      "         68       0.00      0.00      1.00      0.00      0.00      0.00         0\n",
      "         70       0.00      0.00      0.98      0.00      0.00      0.00         2\n",
      "         71       0.00      0.00      0.99      0.00      0.00      0.00         2\n",
      "         72       0.00      0.00      0.99      0.00      0.00      0.00         1\n",
      "         73       0.00      0.00      0.99      0.00      0.00      0.00         0\n",
      "         74       0.00      0.00      1.00      0.00      0.00      0.00         2\n",
      "         75       0.00      0.00      1.00      0.00      0.00      0.00         0\n",
      "         76       0.00      0.00      1.00      0.00      0.00      0.00         0\n",
      "         77       0.00      0.00      0.99      0.00      0.00      0.00         2\n",
      "         78       0.00      0.00      0.99      0.00      0.00      0.00         1\n",
      "         79       0.00      0.00      1.00      0.00      0.00      0.00         2\n",
      "         80       0.00      0.00      1.00      0.00      0.00      0.00         2\n",
      "         81       0.00      0.00      0.99      0.00      0.00      0.00         1\n",
      "         82       0.00      0.00      1.00      0.00      0.00      0.00         0\n",
      "         83       0.00      0.00      0.99      0.00      0.00      0.00         0\n",
      "         84       0.00      0.00      0.98      0.00      0.00      0.00         0\n",
      "         85       0.00      0.00      1.00      0.00      0.00      0.00         2\n",
      "         86       0.00      0.00      1.00      0.00      0.00      0.00         1\n",
      "         87       0.00      0.00      1.00      0.00      0.00      0.00         1\n",
      "         88       0.00      0.00      0.99      0.00      0.00      0.00         0\n",
      "         89       0.00      0.00      1.00      0.00      0.00      0.00         1\n",
      "         90       0.00      0.00      0.99      0.00      0.00      0.00         3\n",
      "         91       0.00      0.00      0.99      0.00      0.00      0.00         1\n",
      "         92       0.00      0.00      1.00      0.00      0.00      0.00         1\n",
      "         93       0.00      0.00      0.99      0.00      0.00      0.00         0\n",
      "         95       0.00      0.00      0.99      0.00      0.00      0.00         1\n",
      "         96       0.00      0.00      0.98      0.00      0.00      0.00         1\n",
      "         97       0.00      0.00      0.99      0.00      0.00      0.00         0\n",
      "         98       0.00      0.00      0.98      0.00      0.00      0.00         1\n",
      "         99       0.00      0.00      1.00      0.00      0.00      0.00         0\n",
      "        100       0.00      0.00      0.99      0.00      0.00      0.00         0\n",
      "        101       0.00      0.00      0.99      0.00      0.00      0.00         2\n",
      "        102       0.00      0.00      1.00      0.00      0.00      0.00         1\n",
      "        103       0.00      0.00      0.98      0.00      0.00      0.00         0\n",
      "        104       0.00      0.00      1.00      0.00      0.00      0.00         0\n",
      "        105       0.00      0.00      0.99      0.00      0.00      0.00         0\n",
      "        106       0.00      0.00      0.99      0.00      0.00      0.00         0\n",
      "        108       0.00      0.00      0.99      0.00      0.00      0.00         0\n",
      "        109       0.00      0.00      0.98      0.00      0.00      0.00         2\n",
      "        110       0.00      0.00      0.99      0.00      0.00      0.00         0\n",
      "        111       0.00      0.00      1.00      0.00      0.00      0.00         0\n",
      "        114       0.00      0.00      0.99      0.00      0.00      0.00         1\n",
      "        115       0.00      0.00      0.99      0.00      0.00      0.00         0\n",
      "        116       0.00      0.00      1.00      0.00      0.00      0.00         2\n",
      "        117       0.00      0.00      1.00      0.00      0.00      0.00         1\n",
      "        119       0.00      0.00      0.98      0.00      0.00      0.00         0\n",
      "        120       0.00      0.00      0.99      0.00      0.00      0.00         0\n",
      "        121       0.00      0.00      1.00      0.00      0.00      0.00         1\n",
      "        122       0.00      0.00      0.98      0.00      0.00      0.00         0\n",
      "        123       0.00      0.00      1.00      0.00      0.00      0.00         1\n",
      "        124       0.00      0.00      1.00      0.00      0.00      0.00         1\n",
      "        126       0.00      0.00      0.99      0.00      0.00      0.00         0\n",
      "        127       0.00      0.00      0.99      0.00      0.00      0.00         0\n",
      "        128       0.00      0.00      0.99      0.00      0.00      0.00         0\n",
      "        131       0.00      0.00      1.00      0.00      0.00      0.00         1\n",
      "        135       0.00      0.00      0.99      0.00      0.00      0.00         0\n",
      "        136       0.00      0.00      0.99      0.00      0.00      0.00         0\n",
      "        138       0.00      0.00      0.97      0.00      0.00      0.00         0\n",
      "        139       0.00      0.00      0.99      0.00      0.00      0.00         0\n",
      "        140       0.00      0.00      0.98      0.00      0.00      0.00         0\n",
      "        143       0.00      0.00      1.00      0.00      0.00      0.00         1\n",
      "        144       0.00      0.00      0.98      0.00      0.00      0.00         0\n",
      "        145       0.00      0.00      0.99      0.00      0.00      0.00         0\n",
      "        146       0.00      0.00      0.99      0.00      0.00      0.00         2\n",
      "        147       0.00      0.00      0.98      0.00      0.00      0.00         1\n",
      "        150       0.00      0.00      1.00      0.00      0.00      0.00         1\n",
      "        152       0.00      0.00      0.99      0.00      0.00      0.00         0\n",
      "        155       0.00      0.00      1.00      0.00      0.00      0.00         1\n",
      "        156       0.00      0.00      1.00      0.00      0.00      0.00         1\n",
      "        157       0.00      0.00      0.99      0.00      0.00      0.00         0\n",
      "        158       0.00      0.00      1.00      0.00      0.00      0.00         1\n",
      "        161       0.00      0.00      1.00      0.00      0.00      0.00         1\n",
      "        165       0.00      0.00      1.00      0.00      0.00      0.00         0\n",
      "        166       0.00      0.00      0.98      0.00      0.00      0.00         0\n",
      "        170       0.00      0.00      0.99      0.00      0.00      0.00         0\n",
      "        171       0.00      0.00      0.99      0.00      0.00      0.00         0\n",
      "        172       0.00      0.00      0.99      0.00      0.00      0.00         0\n",
      "        173       0.00      0.00      0.99      0.00      0.00      0.00         0\n",
      "        175       0.00      0.00      0.99      0.00      0.00      0.00         0\n",
      "        183       0.00      0.00      0.99      0.00      0.00      0.00         0\n",
      "        186       0.00      0.00      1.00      0.00      0.00      0.00         2\n",
      "        197       0.00      0.00      0.99      0.00      0.00      0.00         0\n",
      "        199       0.00      0.00      1.00      0.00      0.00      0.00         1\n",
      "        200       0.00      0.00      0.99      0.00      0.00      0.00         0\n",
      "        205       0.00      0.00      0.98      0.00      0.00      0.00         0\n",
      "        213       0.00      0.00      1.00      0.00      0.00      0.00         1\n",
      "        214       0.00      0.00      1.00      0.00      0.00      0.00         0\n",
      "        222       0.00      0.00      1.00      0.00      0.00      0.00         1\n",
      "        224       0.00      0.00      0.98      0.00      0.00      0.00         0\n",
      "        229       0.00      0.00      0.99      0.00      0.00      0.00         0\n",
      "        230       0.00      0.00      1.00      0.00      0.00      0.00         0\n",
      "        245       0.00      0.00      1.00      0.00      0.00      0.00         2\n",
      "        251       0.00      0.00      0.99      0.00      0.00      0.00         0\n",
      "        269       0.00      0.00      1.00      0.00      0.00      0.00         1\n",
      "        274       0.00      0.00      1.00      0.00      0.00      0.00         0\n",
      "        276       0.00      0.00      1.00      0.00      0.00      0.00         1\n",
      "        288       0.00      0.00      0.99      0.00      0.00      0.00         0\n",
      "        291       0.00      0.00      0.98      0.00      0.00      0.00         0\n",
      "        294       0.00      0.00      0.99      0.00      0.00      0.00         0\n",
      "        296       0.00      0.00      1.00      0.00      0.00      0.00         0\n",
      "        303       0.00      0.00      1.00      0.00      0.00      0.00         0\n",
      "        304       0.00      0.00      0.98      0.00      0.00      0.00         0\n",
      "        334       0.00      0.00      1.00      0.00      0.00      0.00         0\n",
      "        336       0.00      0.00      0.99      0.00      0.00      0.00         0\n",
      "        357       0.00      0.00      0.99      0.00      0.00      0.00         0\n",
      "        377       0.00      0.00      0.99      0.00      0.00      0.00         0\n",
      "        383       0.00      0.00      0.99      0.00      0.00      0.00         0\n",
      "        592       0.00      0.00      0.99      0.00      0.00      0.00         0\n",
      "        642       0.00      0.00      0.98      0.00      0.00      0.00         0\n",
      "        675       0.00      0.00      1.00      0.00      0.00      0.00         0\n",
      "        754       0.00      0.00      1.00      0.00      0.00      0.00         1\n",
      "        827       0.00      0.00      0.99      0.00      0.00      0.00         0\n",
      "       1281       0.00      0.00      1.00      0.00      0.00      0.00         1\n",
      "       1656       0.00      0.00      1.00      0.00      0.00      0.00         0\n",
      "\n",
      "avg / total       0.00      0.00      1.00      0.00      0.00      0.00      7790\n",
      "\n"
     ]
    }
   ],
   "source": [
    "# Print the imbalanced classification report\n",
    "from imblearn.metrics import classification_report_imbalanced\n",
    "print(classification_report_imbalanced(y_test, y_pred))"
   ]
  },
  {
   "cell_type": "code",
   "execution_count": 19,
   "id": "8d85fd94",
   "metadata": {},
   "outputs": [
    {
     "data": {
      "text/plain": [
       "[(0.25550263374599264, 'humidity'),\n",
       " (0.2505717264962924, 'tempmax'),\n",
       " (0.24778362540076238, 'temp_daily'),\n",
       " (0.24614201435695268, 'tempmin')]"
      ]
     },
     "execution_count": 19,
     "metadata": {},
     "output_type": "execute_result"
    }
   ],
   "source": [
    "# List the features sorted in descending order by feature importance\n",
    "importances = rf_model.feature_importances_\n",
    "importances\n",
    "sorted(zip(rf_model.feature_importances_, X.columns), reverse=True)"
   ]
  },
  {
   "cell_type": "code",
   "execution_count": 20,
   "id": "d0f1613b",
   "metadata": {},
   "outputs": [
    {
     "data": {
      "text/plain": [
       "EasyEnsembleClassifier(n_estimators=100, random_state=1)"
      ]
     },
     "execution_count": 20,
     "metadata": {},
     "output_type": "execute_result"
    }
   ],
   "source": [
    "# Train the EasyEnsembleClassifier\n",
    "from imblearn.ensemble import EasyEnsembleClassifier\n",
    "eec = EasyEnsembleClassifier(n_estimators=100, random_state=1)\n",
    "eec.fit(X_train, y_train)"
   ]
  },
  {
   "cell_type": "code",
   "execution_count": 21,
   "id": "b49689d7",
   "metadata": {},
   "outputs": [
    {
     "data": {
      "text/plain": [
       "0.0"
      ]
     },
     "execution_count": 21,
     "metadata": {},
     "output_type": "execute_result"
    }
   ],
   "source": [
    "# Calculated the balanced accuracy score\n",
    "y_pred = eec.predict(X_test)\n",
    "balanced_accuracy_score(y_test, y_pred)"
   ]
  },
  {
   "cell_type": "code",
   "execution_count": 22,
   "id": "1855f997",
   "metadata": {},
   "outputs": [],
   "source": [
    "# Tableau Visualization\n",
    "# https://public.tableau.com/authoring/MOTH_V_BEETLE/Story1#1"
   ]
  }
 ],
 "metadata": {
  "kernelspec": {
   "display_name": "mlenv",
   "language": "python",
   "name": "mlenv"
  },
  "language_info": {
   "codemirror_mode": {
    "name": "ipython",
    "version": 3
   },
   "file_extension": ".py",
   "mimetype": "text/x-python",
   "name": "python",
   "nbconvert_exporter": "python",
   "pygments_lexer": "ipython3",
   "version": "3.7.15"
  }
 },
 "nbformat": 4,
 "nbformat_minor": 5
}
