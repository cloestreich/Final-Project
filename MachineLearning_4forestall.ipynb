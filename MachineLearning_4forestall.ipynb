{
 "cells": [
  {
   "cell_type": "code",
   "execution_count": 1,
   "id": "515e04be",
   "metadata": {},
   "outputs": [],
   "source": [
    "from pathlib import Path\n",
    "import pandas as pd\n",
    "import numpy as np\n",
    "import matplotlib.pyplot as plt"
   ]
  },
  {
   "cell_type": "code",
   "execution_count": 2,
   "id": "89890579",
   "metadata": {},
   "outputs": [
    {
     "data": {
      "text/html": [
       "<div>\n",
       "<style scoped>\n",
       "    .dataframe tbody tr th:only-of-type {\n",
       "        vertical-align: middle;\n",
       "    }\n",
       "\n",
       "    .dataframe tbody tr th {\n",
       "        vertical-align: top;\n",
       "    }\n",
       "\n",
       "    .dataframe thead th {\n",
       "        text-align: right;\n",
       "    }\n",
       "</style>\n",
       "<table border=\"1\" class=\"dataframe\">\n",
       "  <thead>\n",
       "    <tr style=\"text-align: right;\">\n",
       "      <th></th>\n",
       "      <th>order_name</th>\n",
       "      <th>family_name</th>\n",
       "      <th>datetime</th>\n",
       "      <th>individuals</th>\n",
       "      <th>tempmax</th>\n",
       "      <th>tempmin</th>\n",
       "      <th>temp_daily</th>\n",
       "      <th>humidity</th>\n",
       "    </tr>\n",
       "  </thead>\n",
       "  <tbody>\n",
       "    <tr>\n",
       "      <th>0</th>\n",
       "      <td>COLEOPTERA</td>\n",
       "      <td>CARABIDAE</td>\n",
       "      <td>37822</td>\n",
       "      <td>2</td>\n",
       "      <td>76.9</td>\n",
       "      <td>60.9</td>\n",
       "      <td>69.9</td>\n",
       "      <td>69.9</td>\n",
       "    </tr>\n",
       "    <tr>\n",
       "      <th>1</th>\n",
       "      <td>COLEOPTERA</td>\n",
       "      <td>CARABIDAE</td>\n",
       "      <td>36698</td>\n",
       "      <td>3</td>\n",
       "      <td>86.0</td>\n",
       "      <td>64.1</td>\n",
       "      <td>75.6</td>\n",
       "      <td>67.5</td>\n",
       "    </tr>\n",
       "    <tr>\n",
       "      <th>2</th>\n",
       "      <td>COLEOPTERA</td>\n",
       "      <td>CARABIDAE</td>\n",
       "      <td>39243</td>\n",
       "      <td>1</td>\n",
       "      <td>81.7</td>\n",
       "      <td>60.4</td>\n",
       "      <td>71.9</td>\n",
       "      <td>55.4</td>\n",
       "    </tr>\n",
       "    <tr>\n",
       "      <th>3</th>\n",
       "      <td>COLEOPTERA</td>\n",
       "      <td>CARABIDAE</td>\n",
       "      <td>33787</td>\n",
       "      <td>1</td>\n",
       "      <td>71.2</td>\n",
       "      <td>58.8</td>\n",
       "      <td>65.5</td>\n",
       "      <td>59.2</td>\n",
       "    </tr>\n",
       "    <tr>\n",
       "      <th>4</th>\n",
       "      <td>COLEOPTERA</td>\n",
       "      <td>CARABIDAE</td>\n",
       "      <td>34112</td>\n",
       "      <td>1</td>\n",
       "      <td>73.3</td>\n",
       "      <td>55.2</td>\n",
       "      <td>63.3</td>\n",
       "      <td>66.8</td>\n",
       "    </tr>\n",
       "  </tbody>\n",
       "</table>\n",
       "</div>"
      ],
      "text/plain": [
       "   order_name family_name  datetime  individuals  tempmax  tempmin  \\\n",
       "0  COLEOPTERA   CARABIDAE     37822            2     76.9     60.9   \n",
       "1  COLEOPTERA   CARABIDAE     36698            3     86.0     64.1   \n",
       "2  COLEOPTERA   CARABIDAE     39243            1     81.7     60.4   \n",
       "3  COLEOPTERA   CARABIDAE     33787            1     71.2     58.8   \n",
       "4  COLEOPTERA   CARABIDAE     34112            1     73.3     55.2   \n",
       "\n",
       "   temp_daily  humidity  \n",
       "0        69.9      69.9  \n",
       "1        75.6      67.5  \n",
       "2        71.9      55.4  \n",
       "3        65.5      59.2  \n",
       "4        63.3      66.8  "
      ]
     },
     "execution_count": 2,
     "metadata": {},
     "output_type": "execute_result"
    }
   ],
   "source": [
    "#data = Path('./Resources/combined_data.csv')\n",
    "data = Path('./Resources/CombinedTop5_chg.csv')\n",
    "df = pd.read_csv(data)\n",
    "df.head()"
   ]
  },
  {
   "cell_type": "code",
   "execution_count": 3,
   "id": "cccf3642",
   "metadata": {},
   "outputs": [],
   "source": [
    "# Segment the features from the target\n",
    "y = df[\"individuals\"]\n",
    "#X = df.drop(columns=[\"order_name\", \"family_name\", \"datetime\", \"individuals\", \"tempmax\",\"tempmin\"])\n",
    "X = df.drop(columns=[\"order_name\", \"family_name\", \"datetime\", \"individuals\", \"tempmin\", \"temp_daily\"])"
   ]
  },
  {
   "cell_type": "code",
   "execution_count": 4,
   "id": "33f69c95",
   "metadata": {},
   "outputs": [
    {
     "data": {
      "text/plain": [
       "(24926, 2)"
      ]
     },
     "execution_count": 4,
     "metadata": {},
     "output_type": "execute_result"
    }
   ],
   "source": [
    "# Use the train_test_split function to create training and testing subsets\n",
    "from sklearn.model_selection import train_test_split\n",
    "\n",
    "X_train, X_test, y_train, y_test = train_test_split(X, y,test_size=0.2, random_state=42)\n",
    "X_train.shape"
   ]
  },
  {
   "cell_type": "code",
   "execution_count": 5,
   "id": "58388e97",
   "metadata": {},
   "outputs": [
    {
     "data": {
      "text/plain": [
       "RandomForestRegressor(n_estimators=10, random_state=0)"
      ]
     },
     "execution_count": 5,
     "metadata": {},
     "output_type": "execute_result"
    }
   ],
   "source": [
    "from sklearn.ensemble import RandomForestRegressor\n",
    "regressor = RandomForestRegressor(n_estimators= 10, random_state= 0)\n",
    "regressor.fit(X_train, y_train)"
   ]
  },
  {
   "cell_type": "code",
   "execution_count": 6,
   "id": "2a421aad",
   "metadata": {},
   "outputs": [
    {
     "data": {
      "text/plain": [
       "array([4.32556133, 5.28380825, 6.28892742, ..., 2.18903579, 1.67439394,\n",
       "       2.36594928])"
      ]
     },
     "execution_count": 6,
     "metadata": {},
     "output_type": "execute_result"
    }
   ],
   "source": [
    "y_pred = regressor.predict(X_test)\n",
    "\n",
    "y_pred"
   ]
  },
  {
   "cell_type": "code",
   "execution_count": 7,
   "id": "367727e2",
   "metadata": {},
   "outputs": [
    {
     "data": {
      "text/plain": [
       "-0.029707469967689137"
      ]
     },
     "execution_count": 7,
     "metadata": {},
     "output_type": "execute_result"
    }
   ],
   "source": [
    "from sklearn.metrics import r2_score\n",
    "r2_score(y_test, y_pred)"
   ]
  },
  {
   "cell_type": "markdown",
   "id": "df9ff393",
   "metadata": {},
   "source": [
    "https://stats.stackexchange.com/questions/12900/when-is-r-squared-negative\n",
    "\n",
    "R2  compares the fit of the chosen model with that of a horizontal straight line (the null hypothesis). If the chosen model fits worse than a horizontal line, then R2 is negative. Note that R2 is not always the square of anything, so it can have a negative value without violating any rules of math. R2 is negative only when the chosen model does not follow the trend of the data, so fits worse than a horizontal line.\n",
    "\n",
    "Example: fit data to a linear regression model constrained so that the Y intercept must equal 1500.\n",
    "\n",
    "enter image description here\n",
    "\n",
    "The model makes no sense at all given these data. It is clearly the wrong model, perhaps chosen by accident.\n",
    "\n",
    "The fit of the model (a straight line constrained to go through the point (0,1500)) is worse than the fit of a horizontal line. Thus the sum-of-squares from the model (SSres) is larger than the sum-of-squares from the horizontal line (SStot).\n",
    "\n",
    "If R2 is computed as 1−SSresSStot. (here, SSres = residual error.)\n",
    "When SSres is greater than SStot, that equation could compute a negative value for R2, if the value of the coeficient is greater than 1.\n",
    "\n",
    "With linear regression with no constraints, R2 must be positive (or zero) and equals the square of the correlation coefficient, r. A negative R2 is only possible with linear regression when either the intercept or the slope are constrained so that the \"best-fit\" line (given the constraint) fits worse than a horizontal line. With nonlinear regression, the R2 can be negative whenever the best-fit model (given the chosen equation, and its constraints, if any) fits the data worse than a horizontal line.\n",
    "\n",
    "Bottom line: a negative R2 is not a mathematical impossibility or the sign of a computer bug. It simply means that the chosen model (with its constraints) fits the data really poorly."
   ]
  },
  {
   "cell_type": "code",
   "execution_count": 8,
   "id": "515e04be",
   "metadata": {},
   "outputs": [],
   "source": [
    "from pathlib import Path\n",
    "import pandas as pd\n",
    "import numpy as np\n",
    "import matplotlib.pyplot as plt"
   ]
  },
  {
   "cell_type": "code",
   "execution_count": 9,
   "id": "89890579",
   "metadata": {},
   "outputs": [
    {
     "data": {
      "text/html": [
       "<div>\n",
       "<style scoped>\n",
       "    .dataframe tbody tr th:only-of-type {\n",
       "        vertical-align: middle;\n",
       "    }\n",
       "\n",
       "    .dataframe tbody tr th {\n",
       "        vertical-align: top;\n",
       "    }\n",
       "\n",
       "    .dataframe thead th {\n",
       "        text-align: right;\n",
       "    }\n",
       "</style>\n",
       "<table border=\"1\" class=\"dataframe\">\n",
       "  <thead>\n",
       "    <tr style=\"text-align: right;\">\n",
       "      <th></th>\n",
       "      <th>order_name</th>\n",
       "      <th>family_name</th>\n",
       "      <th>datetime</th>\n",
       "      <th>individuals</th>\n",
       "      <th>tempmax</th>\n",
       "      <th>tempmin</th>\n",
       "      <th>temp_daily</th>\n",
       "      <th>humidity</th>\n",
       "    </tr>\n",
       "  </thead>\n",
       "  <tbody>\n",
       "    <tr>\n",
       "      <th>0</th>\n",
       "      <td>COLEOPTERA</td>\n",
       "      <td>CARABIDAE</td>\n",
       "      <td>2003-07-20</td>\n",
       "      <td>2</td>\n",
       "      <td>76.9</td>\n",
       "      <td>60.9</td>\n",
       "      <td>69.9</td>\n",
       "      <td>69.9</td>\n",
       "    </tr>\n",
       "    <tr>\n",
       "      <th>1</th>\n",
       "      <td>COLEOPTERA</td>\n",
       "      <td>CARABIDAE</td>\n",
       "      <td>2000-06-21</td>\n",
       "      <td>3</td>\n",
       "      <td>86.0</td>\n",
       "      <td>64.1</td>\n",
       "      <td>75.6</td>\n",
       "      <td>67.5</td>\n",
       "    </tr>\n",
       "    <tr>\n",
       "      <th>2</th>\n",
       "      <td>COLEOPTERA</td>\n",
       "      <td>CARABIDAE</td>\n",
       "      <td>2007-06-10</td>\n",
       "      <td>1</td>\n",
       "      <td>81.7</td>\n",
       "      <td>60.4</td>\n",
       "      <td>71.9</td>\n",
       "      <td>55.4</td>\n",
       "    </tr>\n",
       "    <tr>\n",
       "      <th>3</th>\n",
       "      <td>COLEOPTERA</td>\n",
       "      <td>CARABIDAE</td>\n",
       "      <td>1992-07-02</td>\n",
       "      <td>1</td>\n",
       "      <td>71.2</td>\n",
       "      <td>58.8</td>\n",
       "      <td>65.5</td>\n",
       "      <td>59.2</td>\n",
       "    </tr>\n",
       "    <tr>\n",
       "      <th>4</th>\n",
       "      <td>COLEOPTERA</td>\n",
       "      <td>CARABIDAE</td>\n",
       "      <td>1993-05-23</td>\n",
       "      <td>1</td>\n",
       "      <td>73.3</td>\n",
       "      <td>55.2</td>\n",
       "      <td>63.3</td>\n",
       "      <td>66.8</td>\n",
       "    </tr>\n",
       "  </tbody>\n",
       "</table>\n",
       "</div>"
      ],
      "text/plain": [
       "   order_name family_name    datetime  individuals  tempmax  tempmin  \\\n",
       "0  COLEOPTERA   CARABIDAE  2003-07-20            2     76.9     60.9   \n",
       "1  COLEOPTERA   CARABIDAE  2000-06-21            3     86.0     64.1   \n",
       "2  COLEOPTERA   CARABIDAE  2007-06-10            1     81.7     60.4   \n",
       "3  COLEOPTERA   CARABIDAE  1992-07-02            1     71.2     58.8   \n",
       "4  COLEOPTERA   CARABIDAE  1993-05-23            1     73.3     55.2   \n",
       "\n",
       "   temp_daily  humidity  \n",
       "0        69.9      69.9  \n",
       "1        75.6      67.5  \n",
       "2        71.9      55.4  \n",
       "3        65.5      59.2  \n",
       "4        63.3      66.8  "
      ]
     },
     "execution_count": 9,
     "metadata": {},
     "output_type": "execute_result"
    }
   ],
   "source": [
    "#data = Path('./Resources/combined_data.csv')\n",
    "data = Path('./Resources/topfive_coleoptera.csv')\n",
    "df = pd.read_csv(data)\n",
    "df.head()"
   ]
  },
  {
   "cell_type": "code",
   "execution_count": 10,
   "id": "cccf3642",
   "metadata": {},
   "outputs": [],
   "source": [
    "# Segment the features from the target\n",
    "y = df[\"individuals\"]\n",
    "#X = df.drop(columns=[\"order_name\", \"family_name\", \"datetime\", \"individuals\", \"tempmax\",\"tempmin\"])\n",
    "X = df.drop(columns=[\"order_name\", \"family_name\", \"datetime\", \"individuals\", \"tempmin\", \"temp_daily\"])"
   ]
  },
  {
   "cell_type": "code",
   "execution_count": 11,
   "id": "33f69c95",
   "metadata": {},
   "outputs": [
    {
     "data": {
      "text/plain": [
       "(3125, 2)"
      ]
     },
     "execution_count": 11,
     "metadata": {},
     "output_type": "execute_result"
    }
   ],
   "source": [
    "# Use the train_test_split function to create training and testing subsets\n",
    "from sklearn.model_selection import train_test_split\n",
    "\n",
    "X_train, X_test, y_train, y_test = train_test_split(X, y,test_size=0.2, random_state=42)\n",
    "X_train.shape"
   ]
  },
  {
   "cell_type": "code",
   "execution_count": 12,
   "id": "58388e97",
   "metadata": {},
   "outputs": [
    {
     "data": {
      "text/plain": [
       "RandomForestRegressor(n_estimators=10, random_state=0)"
      ]
     },
     "execution_count": 12,
     "metadata": {},
     "output_type": "execute_result"
    }
   ],
   "source": [
    "from sklearn.ensemble import RandomForestRegressor\n",
    "regressor = RandomForestRegressor(n_estimators= 10, random_state= 0)\n",
    "regressor.fit(X_train, y_train)"
   ]
  },
  {
   "cell_type": "code",
   "execution_count": 13,
   "id": "2a421aad",
   "metadata": {},
   "outputs": [
    {
     "data": {
      "text/plain": [
       "array([ 2.77074134,  2.78333333, 10.70725284,  7.63238095,  6.73333333,\n",
       "        1.90396825,  1.        , 51.95371725, 10.87192818,  3.8       ,\n",
       "        1.21428571,  1.2577381 ,  2.50700967,  1.        ,  1.995     ,\n",
       "        3.98931796, 25.79487047, 14.51328801, 10.3869697 ,  5.44038653,\n",
       "        2.15555556,  4.19925907,  2.14606643,  2.96575304,  4.1065873 ,\n",
       "        3.48722222,  4.1928619 ,  1.67673351,  1.58333333,  2.93061811,\n",
       "        4.06085561,  2.14606643,  4.74142857, 14.51328801,  4.45776769,\n",
       "        1.        ,  1.12190476,  1.67673351, 10.70725284,  1.70634921,\n",
       "        4.3972619 ,  5.52966896,  3.79528442,  9.11387013,  4.42524869,\n",
       "        3.64666667,  8.70760744,  3.22357143,  1.36949815,  6.05064935,\n",
       "        3.53904762, 10.70725284, 44.61980544,  6.0551274 ,  1.2577381 ,\n",
       "       11.29333333,  2.77930597, 10.18246032,  3.06666667,  4.78571429,\n",
       "        6.67484886,  4.16390123,  5.99698773,  4.45776769,  3.47734474,\n",
       "        9.11387013,  1.95539794,  3.29786325,  2.87026144,  3.8       ,\n",
       "        6.0551274 ,  1.60674603, 17.09035354,  3.98931796, 19.22067434,\n",
       "        5.91238095,  1.73261905, 14.49047619,  8.78666667,  3.48722222,\n",
       "        6.67484886,  3.7077381 ,  3.1       ,  1.6165633 ,  2.51666667,\n",
       "        2.98333333,  5.15210933, 14.49047619,  3.61974709,  4.16390123,\n",
       "        5.20647325,  2.85981424,  4.74142857,  2.39390588,  3.61666667,\n",
       "       17.53809524,  2.4653083 ,  2.77930597,  5.26009053,  1.        ,\n",
       "       10.70725284,  1.        ,  6.78903658,  1.        ,  3.54415085,\n",
       "        6.73304107,  4.06085561,  5.26009053,  3.74555556,  1.6165633 ,\n",
       "        1.70634921,  4.19925907,  3.98931796, 19.01284723, 25.79487047,\n",
       "        4.42524869,  6.41112221,  6.05064935,  4.4640873 , 14.49047619,\n",
       "        5.28333333, 10.4025    ,  7.37761075,  3.80333333,  1.49755245,\n",
       "        5.85634921,  2.77930597,  9.29707451, 16.21053458,  1.8032906 ,\n",
       "        3.66718105, 51.95371725, 11.14101232,  6.05902778,  4.4398673 ,\n",
       "        1.90396825,  5.15      , 10.70725284,  2.33806903, 16.21053458,\n",
       "       51.95371725,  2.50700967,  7.34825397, 17.53809524,  1.        ,\n",
       "       25.79487047,  2.06837302,  2.53334827, 19.01284723,  9.21472407,\n",
       "        1.44666667,  1.995     ,  7.11971898,  2.65350762,  3.79877581,\n",
       "        1.12190476, 16.21053458, 16.21053458,  2.32178571,  1.425     ,\n",
       "        2.65350762, 20.17851038,  1.38333333,  1.31166667,  4.78571429,\n",
       "        1.76640054, 10.59575905, 44.61980544,  4.06085561, 23.99258722,\n",
       "        1.39988095,  7.98214286,  4.4398673 ,  2.85981424,  1.44821429,\n",
       "        7.63238095,  6.64934524,  6.73304107, 14.51328801, 10.59575905,\n",
       "        2.29666667,  1.96813853, 10.70725284,  1.5       ,  1.82      ,\n",
       "        4.878557  ,  4.16390123, 18.92866409,  5.11279915,  6.0551274 ,\n",
       "        5.31106494,  2.99333333,  1.995     , 44.15762169,  4.74142857,\n",
       "        2.53334827,  3.64666667, 17.53809524,  6.62222222,  5.44038653,\n",
       "        1.5025    ,  2.96575304,  7.63238095,  5.99698773, 17.53809524,\n",
       "        1.        ,  1.35457376,  6.67484886,  4.45776769,  1.8       ,\n",
       "        2.63476801,  7.98214286,  1.84590077,  1.6       ,  1.19      ,\n",
       "        2.4       ,  1.40690476,  5.44038653,  2.37464286,  1.        ,\n",
       "        5.05585012,  3.62287356, 11.050777  ,  3.8208547 ,  4.42524869,\n",
       "        1.2       , 44.15762169,  3.64666667, 51.95371725,  7.63238095,\n",
       "        1.        ,  3.44362765,  7.98214286,  1.28339161,  1.33333333,\n",
       "       10.59575905, 19.22067434,  1.93      ,  3.54415085,  2.77930597,\n",
       "        1.43134921, 23.99258722, 11.29333333,  3.98931796,  1.60674603,\n",
       "        2.33909091,  4.19925907,  5.44038653,  3.3       ,  4.74208147,\n",
       "        2.40611222,  3.50239899, 14.51328801,  2.87424242,  6.64319095,\n",
       "        5.85634921,  3.98931796,  1.2577381 ,  4.28333333, 10.59575905,\n",
       "        1.1       ,  7.9089795 ,  7.9089795 ,  3.79924242,  1.9094697 ,\n",
       "        4.64702775,  3.96428571,  1.86130952,  4.4640873 ,  4.03541676,\n",
       "        5.52966896,  1.        ,  6.73304107,  5.85634921,  3.50239899,\n",
       "       19.22067434,  2.58095238,  1.39988095,  2.29666667,  5.7017366 ,\n",
       "        2.29375   , 51.95371725,  3.50239899,  3.68420159,  1.14595238,\n",
       "       19.01284723,  4.42524869,  7.9089795 ,  1.39988095,  7.81809524,\n",
       "        1.53801587,  5.31106494,  7.99285714,  2.29666667,  5.31106494,\n",
       "        2.74      ,  4.69930556,  4.05041209,  2.77930597,  3.67      ,\n",
       "        3.66718105,  3.02261905,  1.83666667,  1.2       ,  4.4398673 ,\n",
       "        6.32      ,  2.75568182,  5.16430433,  3.98931796,  1.36205128,\n",
       "        2.98333333,  2.96575304,  4.16390123,  7.0646645 ,  1.67673351,\n",
       "        5.44038653,  1.995     ,  9.11387013,  1.1       ,  2.91771978,\n",
       "        1.14595238,  6.21897412, 15.05833333, 44.61980544,  4.06085561,\n",
       "       10.59123377,  1.35      ,  3.47734474,  1.28339161, 17.09035354,\n",
       "       51.95371725,  1.67673351, 16.21053458,  4.29519536,  2.50700967,\n",
       "        3.47734474,  2.29666667,  1.585     ,  4.4398673 ,  4.06085561,\n",
       "        6.05902778,  1.55666667,  8.25904974,  1.16270202,  2.39390588,\n",
       "        2.44451754,  3.48722222,  8.70438007,  2.44451754,  1.65619048,\n",
       "        5.93333333,  4.1065873 ,  5.31106494,  2.87424242,  9.52025641,\n",
       "        1.76640054,  7.99285714, 10.87192818,  2.77930597, 26.08534149,\n",
       "       17.09035354,  2.98      ,  1.60674603, 16.21053458,  5.99698773,\n",
       "        4.4398673 ,  2.64855072,  3.79528442,  1.39988095, 19.22067434,\n",
       "        4.16390123,  8.35309524,  7.63238095,  1.485     , 14.51328801,\n",
       "        1.4       ,  7.81809524,  1.67952381, 19.22067434,  2.98333333,\n",
       "        1.73261905, 10.87192818,  1.53801587,  1.86130952,  3.43186203,\n",
       "        3.73190476,  2.65350762,  1.14595238, 11.14101232,  3.79528442,\n",
       "        3.79528442, 14.51328801,  3.88003968,  1.15      ,  3.47734474,\n",
       "        3.79924242, 10.59575905,  1.86130952,  4.19925907,  2.82119048,\n",
       "        6.41112221,  1.41666667, 14.51328801, 44.15762169,  3.88003968,\n",
       "        9.52025641,  1.88416667,  6.21897412,  6.0551274 ,  5.11279915,\n",
       "        3.44362765,  6.73304107, 26.08534149,  5.7017366 ,  2.33806903,\n",
       "       18.92866409,  5.11279915,  4.05041209,  3.43186203,  3.98931796,\n",
       "        2.23288961, 25.79487047,  5.63676534,  5.49189691,  6.30188374,\n",
       "       10.3869697 ,  6.52273352,  2.14606643,  1.47      ,  1.64333333,\n",
       "        1.8       ,  5.44038653,  1.35457376,  4.1928619 ,  4.19925907,\n",
       "        1.        ,  5.59965002,  6.52273352, 14.51328801,  1.41666667,\n",
       "        1.42333333,  2.4653083 , 18.92866409,  3.98931796,  4.19925907,\n",
       "        2.44451754,  1.51      ,  6.30188374,  3.52206759, 11.14101232,\n",
       "        5.51892094,  7.63238095,  2.04631313,  4.47154483,  1.4       ,\n",
       "        2.62333333,  6.67484886,  7.60666667,  1.6165633 ,  2.77074134,\n",
       "        2.87026144,  1.60588235,  1.        ,  2.14606643,  1.67673351,\n",
       "        4.9173131 ,  8.70760744,  1.96813853,  1.        ,  2.11011905,\n",
       "        2.14606643,  2.94730547,  1.44258065,  6.0551274 ,  3.55166667,\n",
       "       25.79487047,  4.16390123,  2.46172161,  9.11387013,  7.81809524,\n",
       "        1.39988095,  3.68420159,  5.20647325,  2.77074134, 10.8       ,\n",
       "        3.54415085,  1.        ,  5.99698773,  2.29375   ,  2.14606643,\n",
       "        4.65666667,  1.25666667,  1.        , 51.95371725, 11.050777  ,\n",
       "       16.21053458, 11.050777  ,  2.19166667,  9.21472407,  5.51892094,\n",
       "        3.29786325,  2.64224054, 10.18246032,  3.88003968,  2.40611222,\n",
       "       20.17851038,  4.16390123,  8.70760744,  2.39390588,  1.84590077,\n",
       "        1.43085555,  1.73261905,  2.04631313,  2.77930597,  4.4640873 ,\n",
       "        4.16390123,  7.60666667,  2.75897871,  1.6165633 , 16.21053458,\n",
       "        1.25      ,  4.74208147, 19.01284723,  1.        ,  3.88003968,\n",
       "        2.29375   ,  2.87026144,  1.83892329,  3.74555556,  1.9094697 ,\n",
       "       17.53809524,  4.78571429,  1.8147619 ,  4.69930556,  2.65350762,\n",
       "        3.985     ,  2.50700967,  4.16390123,  6.21897412,  5.51892094,\n",
       "        1.4       ,  1.19      ,  3.67      ,  8.26399041, 11.14101232,\n",
       "        1.        ,  4.47154483,  3.22357143, 19.01284723,  1.60674603,\n",
       "        2.06837302, 44.61980544,  2.14606643,  3.43186203,  2.85981424,\n",
       "        4.69930556,  1.49641026, 10.59123377,  2.40952381,  5.7017366 ,\n",
       "        3.79528442,  9.21472407,  9.52025641,  2.762886  ,  3.06178571,\n",
       "        1.        , 10.70725284,  1.03846154,  1.88416667,  2.4       ,\n",
       "        4.45776769,  1.        ,  2.762886  ,  1.44821429,  8.48      ,\n",
       "       23.99258722,  5.52966896, 10.59575905,  3.25      ,  1.68507937,\n",
       "        5.52966896,  8.48      ,  5.7017366 , 10.59575905,  7.99472721,\n",
       "        2.33909091,  4.03541676,  4.19925907, 10.3869697 ,  1.40333333,\n",
       "        2.77074134,  3.17361111,  3.88003968,  4.45776769,  8.70760744,\n",
       "       19.22067434, 10.59575905,  1.2       ,  7.99472721,  8.70760744,\n",
       "        1.        ,  5.16430433,  1.        ,  2.77074134,  2.62333333,\n",
       "        2.62333333,  1.21428571,  3.90095238,  3.66718105, 44.61980544,\n",
       "        4.1065873 ,  9.11387013,  6.54293337,  1.30909091,  2.75897871,\n",
       "       10.8       ,  2.14606643,  2.87026144, 10.59575905,  4.64702775,\n",
       "       10.87192818,  2.65350762, 10.18246032,  6.78903658,  1.8032906 ,\n",
       "        3.79877581,  6.05902778, 10.59575905,  4.74142857,  7.60666667,\n",
       "        6.78903658,  4.29166667,  7.34825397,  4.69930556,  9.11387013,\n",
       "        4.16390123,  2.11011905, 20.46245473,  2.14606643,  2.40952381,\n",
       "        1.6165633 ,  4.29519536,  2.35      ,  1.6       ,  2.75897871,\n",
       "        1.30666667, 10.70725284,  3.52206759, 20.46245473,  2.85981424,\n",
       "       10.59575905,  2.50700967, 16.21053458,  3.80333333,  2.85981424,\n",
       "        2.475     ,  6.21897412, 23.99258722,  3.68420159,  2.762886  ,\n",
       "        4.05041209,  4.47154483,  1.6165633 ,  4.16390123,  3.52206759,\n",
       "        2.46363636, 14.51328801,  2.4       ,  2.72111111,  3.91666667,\n",
       "        4.47154483,  9.11387013,  7.0646645 ,  2.77930597, 25.79487047,\n",
       "       23.99258722,  2.37464286,  1.        ,  1.83666667,  3.47734474,\n",
       "        2.87026144,  1.5025    ,  3.06341991, 17.53809524,  6.05902778,\n",
       "        2.65350762,  8.70438007,  3.88003968,  1.        , 16.21053458,\n",
       "        3.47734474,  3.7077381 ,  8.26399041,  5.85634921,  1.76640054,\n",
       "        1.35      ,  3.25      ,  1.        ,  3.88003968,  7.98214286,\n",
       "       23.99258722,  9.11387013,  3.73333333,  1.60674603,  6.0551274 ,\n",
       "        1.1       ,  4.16390123,  3.73190476,  2.65350762, 44.15762169,\n",
       "        2.14606643,  1.84590077, 23.99258722,  2.99531046,  3.74555556,\n",
       "        2.56559524,  1.49      ,  6.54293337,  1.62833333,  8.70760744,\n",
       "        1.35457376,  2.14606643, 10.87192818,  5.59809524,  3.64666667,\n",
       "        2.64224054,  1.35      ,  5.05585012,  2.62571429,  2.77930597,\n",
       "       34.80891775,  1.3       , 10.4025    ,  1.36949815, 26.08534149,\n",
       "       34.80891775,  1.39988095,  1.58171717,  2.37      , 11.050777  ,\n",
       "        5.26009053,  4.29519536,  4.29166667,  5.16430433,  2.75897871,\n",
       "        3.79528442, 10.70725284,  6.32      ,  5.91238095,  7.37761075,\n",
       "        7.99472721,  4.47154483,  2.762886  ,  2.44451754,  3.55166667,\n",
       "        3.55166667,  6.36377178, 23.99258722, 16.21053458,  2.14606643,\n",
       "       44.15762169,  2.5       ,  4.29519536,  6.0551274 ,  4.06085561,\n",
       "        2.34309524,  2.46497253, 18.92866409,  6.64934524,  1.49      ,\n",
       "       13.66309524,  3.88003968,  1.96813853,  9.11387013,  6.97387266,\n",
       "        3.88003968,  2.98      ,  2.73333333, 12.44742424,  2.23288961,\n",
       "        1.39988095,  2.29375   ])"
      ]
     },
     "execution_count": 13,
     "metadata": {},
     "output_type": "execute_result"
    }
   ],
   "source": [
    "y_pred = regressor.predict(X_test)\n",
    "\n",
    "y_pred"
   ]
  },
  {
   "cell_type": "code",
   "execution_count": 14,
   "id": "367727e2",
   "metadata": {},
   "outputs": [
    {
     "data": {
      "text/plain": [
       "-0.12200775724842217"
      ]
     },
     "execution_count": 14,
     "metadata": {},
     "output_type": "execute_result"
    }
   ],
   "source": [
    "from sklearn.metrics import r2_score\n",
    "r2_score(y_test, y_pred)"
   ]
  },
  {
   "cell_type": "markdown",
   "id": "df9ff393",
   "metadata": {},
   "source": [
    "https://stats.stackexchange.com/questions/12900/when-is-r-squared-negative\n",
    "\n",
    "R2  compares the fit of the chosen model with that of a horizontal straight line (the null hypothesis). If the chosen model fits worse than a horizontal line, then R2 is negative. Note that R2 is not always the square of anything, so it can have a negative value without violating any rules of math. R2 is negative only when the chosen model does not follow the trend of the data, so fits worse than a horizontal line.\n",
    "\n",
    "Example: fit data to a linear regression model constrained so that the Y intercept must equal 1500.\n",
    "\n",
    "enter image description here\n",
    "\n",
    "The model makes no sense at all given these data. It is clearly the wrong model, perhaps chosen by accident.\n",
    "\n",
    "The fit of the model (a straight line constrained to go through the point (0,1500)) is worse than the fit of a horizontal line. Thus the sum-of-squares from the model (SSres) is larger than the sum-of-squares from the horizontal line (SStot).\n",
    "\n",
    "If R2 is computed as 1−SSresSStot. (here, SSres = residual error.)\n",
    "When SSres is greater than SStot, that equation could compute a negative value for R2, if the value of the coeficient is greater than 1.\n",
    "\n",
    "With linear regression with no constraints, R2 must be positive (or zero) and equals the square of the correlation coefficient, r. A negative R2 is only possible with linear regression when either the intercept or the slope are constrained so that the \"best-fit\" line (given the constraint) fits worse than a horizontal line. With nonlinear regression, the R2 can be negative whenever the best-fit model (given the chosen equation, and its constraints, if any) fits the data worse than a horizontal line.\n",
    "\n",
    "Bottom line: a negative R2 is not a mathematical impossibility or the sign of a computer bug. It simply means that the chosen model (with its constraints) fits the data really poorly."
   ]
  },
  {
   "cell_type": "code",
   "execution_count": 15,
   "id": "515e04be",
   "metadata": {},
   "outputs": [],
   "source": [
    "from pathlib import Path\n",
    "import pandas as pd\n",
    "import numpy as np\n",
    "import matplotlib.pyplot as plt"
   ]
  },
  {
   "cell_type": "code",
   "execution_count": 16,
   "id": "89890579",
   "metadata": {},
   "outputs": [
    {
     "data": {
      "text/html": [
       "<div>\n",
       "<style scoped>\n",
       "    .dataframe tbody tr th:only-of-type {\n",
       "        vertical-align: middle;\n",
       "    }\n",
       "\n",
       "    .dataframe tbody tr th {\n",
       "        vertical-align: top;\n",
       "    }\n",
       "\n",
       "    .dataframe thead th {\n",
       "        text-align: right;\n",
       "    }\n",
       "</style>\n",
       "<table border=\"1\" class=\"dataframe\">\n",
       "  <thead>\n",
       "    <tr style=\"text-align: right;\">\n",
       "      <th></th>\n",
       "      <th>order_name</th>\n",
       "      <th>family_name</th>\n",
       "      <th>datetime</th>\n",
       "      <th>individuals</th>\n",
       "      <th>tempmax</th>\n",
       "      <th>tempmin</th>\n",
       "      <th>temp_daily</th>\n",
       "      <th>humidity</th>\n",
       "    </tr>\n",
       "  </thead>\n",
       "  <tbody>\n",
       "    <tr>\n",
       "      <th>0</th>\n",
       "      <td>LEPIDOPTERA</td>\n",
       "      <td>GEOMETRIDAE</td>\n",
       "      <td>1995-06-25</td>\n",
       "      <td>4</td>\n",
       "      <td>77.1</td>\n",
       "      <td>56.0</td>\n",
       "      <td>67.4</td>\n",
       "      <td>60.0</td>\n",
       "    </tr>\n",
       "    <tr>\n",
       "      <th>1</th>\n",
       "      <td>LEPIDOPTERA</td>\n",
       "      <td>GEOMETRIDAE</td>\n",
       "      <td>1995-06-27</td>\n",
       "      <td>3</td>\n",
       "      <td>69.9</td>\n",
       "      <td>57.3</td>\n",
       "      <td>63.7</td>\n",
       "      <td>54.5</td>\n",
       "    </tr>\n",
       "    <tr>\n",
       "      <th>2</th>\n",
       "      <td>LEPIDOPTERA</td>\n",
       "      <td>GEOMETRIDAE</td>\n",
       "      <td>2006-07-20</td>\n",
       "      <td>1</td>\n",
       "      <td>82.4</td>\n",
       "      <td>66.1</td>\n",
       "      <td>73.8</td>\n",
       "      <td>68.3</td>\n",
       "    </tr>\n",
       "    <tr>\n",
       "      <th>3</th>\n",
       "      <td>LEPIDOPTERA</td>\n",
       "      <td>GEOMETRIDAE</td>\n",
       "      <td>2006-06-13</td>\n",
       "      <td>1</td>\n",
       "      <td>79.6</td>\n",
       "      <td>59.9</td>\n",
       "      <td>71.1</td>\n",
       "      <td>55.6</td>\n",
       "    </tr>\n",
       "    <tr>\n",
       "      <th>4</th>\n",
       "      <td>LEPIDOPTERA</td>\n",
       "      <td>GEOMETRIDAE</td>\n",
       "      <td>1995-07-17</td>\n",
       "      <td>1</td>\n",
       "      <td>71.5</td>\n",
       "      <td>59.1</td>\n",
       "      <td>65.1</td>\n",
       "      <td>73.8</td>\n",
       "    </tr>\n",
       "  </tbody>\n",
       "</table>\n",
       "</div>"
      ],
      "text/plain": [
       "    order_name  family_name    datetime  individuals  tempmax  tempmin  \\\n",
       "0  LEPIDOPTERA  GEOMETRIDAE  1995-06-25            4     77.1     56.0   \n",
       "1  LEPIDOPTERA  GEOMETRIDAE  1995-06-27            3     69.9     57.3   \n",
       "2  LEPIDOPTERA  GEOMETRIDAE  2006-07-20            1     82.4     66.1   \n",
       "3  LEPIDOPTERA  GEOMETRIDAE  2006-06-13            1     79.6     59.9   \n",
       "4  LEPIDOPTERA  GEOMETRIDAE  1995-07-17            1     71.5     59.1   \n",
       "\n",
       "   temp_daily  humidity  \n",
       "0        67.4      60.0  \n",
       "1        63.7      54.5  \n",
       "2        73.8      68.3  \n",
       "3        71.1      55.6  \n",
       "4        65.1      73.8  "
      ]
     },
     "execution_count": 16,
     "metadata": {},
     "output_type": "execute_result"
    }
   ],
   "source": [
    "#data = Path('./Resources/combined_data.csv')\n",
    "data = Path('./Resources/topfive_lepidoptera.csv')\n",
    "df = pd.read_csv(data)\n",
    "df.head()"
   ]
  },
  {
   "cell_type": "code",
   "execution_count": 17,
   "id": "cccf3642",
   "metadata": {},
   "outputs": [],
   "source": [
    "# Segment the features from the target\n",
    "y = df[\"individuals\"]\n",
    "#X = df.drop(columns=[\"order_name\", \"family_name\", \"datetime\", \"individuals\", \"tempmax\",\"tempmin\"])\n",
    "X = df.drop(columns=[\"order_name\", \"family_name\", \"datetime\", \"individuals\", \"tempmin\", \"temp_daily\"])"
   ]
  },
  {
   "cell_type": "code",
   "execution_count": 18,
   "id": "33f69c95",
   "metadata": {},
   "outputs": [
    {
     "data": {
      "text/plain": [
       "(21800, 2)"
      ]
     },
     "execution_count": 18,
     "metadata": {},
     "output_type": "execute_result"
    }
   ],
   "source": [
    "# Use the train_test_split function to create training and testing subsets\n",
    "from sklearn.model_selection import train_test_split\n",
    "\n",
    "X_train, X_test, y_train, y_test = train_test_split(X, y,test_size=0.2, random_state=42)\n",
    "X_train.shape"
   ]
  },
  {
   "cell_type": "code",
   "execution_count": 19,
   "id": "58388e97",
   "metadata": {},
   "outputs": [
    {
     "data": {
      "text/plain": [
       "RandomForestRegressor(n_estimators=10, random_state=0)"
      ]
     },
     "execution_count": 19,
     "metadata": {},
     "output_type": "execute_result"
    }
   ],
   "source": [
    "from sklearn.ensemble import RandomForestRegressor\n",
    "regressor = RandomForestRegressor(n_estimators= 10, random_state= 0)\n",
    "regressor.fit(X_train, y_train)"
   ]
  },
  {
   "cell_type": "code",
   "execution_count": 20,
   "id": "2a421aad",
   "metadata": {},
   "outputs": [
    {
     "data": {
      "text/plain": [
       "array([5.96450186, 4.45432123, 6.83713369, ..., 3.22919141, 4.50068853,\n",
       "       7.55111917])"
      ]
     },
     "execution_count": 20,
     "metadata": {},
     "output_type": "execute_result"
    }
   ],
   "source": [
    "y_pred = regressor.predict(X_test)\n",
    "\n",
    "y_pred"
   ]
  },
  {
   "cell_type": "code",
   "execution_count": 21,
   "id": "367727e2",
   "metadata": {},
   "outputs": [
    {
     "data": {
      "text/plain": [
       "-0.018126948996319836"
      ]
     },
     "execution_count": 21,
     "metadata": {},
     "output_type": "execute_result"
    }
   ],
   "source": [
    "from sklearn.metrics import r2_score\n",
    "r2_score(y_test, y_pred)"
   ]
  },
  {
   "cell_type": "markdown",
   "id": "df9ff393",
   "metadata": {},
   "source": [
    "https://stats.stackexchange.com/questions/12900/when-is-r-squared-negative\n",
    "\n",
    "R2  compares the fit of the chosen model with that of a horizontal straight line (the null hypothesis). If the chosen model fits worse than a horizontal line, then R2 is negative. Note that R2 is not always the square of anything, so it can have a negative value without violating any rules of math. R2 is negative only when the chosen model does not follow the trend of the data, so fits worse than a horizontal line.\n",
    "\n",
    "Example: fit data to a linear regression model constrained so that the Y intercept must equal 1500.\n",
    "\n",
    "enter image description here\n",
    "\n",
    "The model makes no sense at all given these data. It is clearly the wrong model, perhaps chosen by accident.\n",
    "\n",
    "The fit of the model (a straight line constrained to go through the point (0,1500)) is worse than the fit of a horizontal line. Thus the sum-of-squares from the model (SSres) is larger than the sum-of-squares from the horizontal line (SStot).\n",
    "\n",
    "If R2 is computed as 1−SSresSStot. (here, SSres = residual error.)\n",
    "When SSres is greater than SStot, that equation could compute a negative value for R2, if the value of the coeficient is greater than 1.\n",
    "\n",
    "With linear regression with no constraints, R2 must be positive (or zero) and equals the square of the correlation coefficient, r. A negative R2 is only possible with linear regression when either the intercept or the slope are constrained so that the \"best-fit\" line (given the constraint) fits worse than a horizontal line. With nonlinear regression, the R2 can be negative whenever the best-fit model (given the chosen equation, and its constraints, if any) fits the data worse than a horizontal line.\n",
    "\n",
    "Bottom line: a negative R2 is not a mathematical impossibility or the sign of a computer bug. It simply means that the chosen model (with its constraints) fits the data really poorly."
   ]
  }
 ],
 "metadata": {
  "kernelspec": {
   "display_name": "mlenv",
   "language": "python",
   "name": "mlenv"
  },
  "language_info": {
   "codemirror_mode": {
    "name": "ipython",
    "version": 3
   },
   "file_extension": ".py",
   "mimetype": "text/x-python",
   "name": "python",
   "nbconvert_exporter": "python",
   "pygments_lexer": "ipython3",
   "version": "3.7.15"
  }
 },
 "nbformat": 4,
 "nbformat_minor": 5
}
