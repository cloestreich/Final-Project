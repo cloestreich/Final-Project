{
 "cells": [
  {
   "cell_type": "code",
   "execution_count": 1,
   "id": "515e04be",
   "metadata": {},
   "outputs": [],
   "source": [
    "from pathlib import Path\n",
    "import pandas as pd\n",
    "import numpy as np\n",
    "import matplotlib.pyplot as plt\n",
    "import warnings\n",
    "warnings.filterwarnings('ignore')\n",
    "from collections import Counter\n",
    "from sklearn.metrics import balanced_accuracy_score\n",
    "from sklearn.metrics import confusion_matrix\n",
    "from imblearn.metrics import classification_report_imbalanced"
   ]
  },
  {
   "cell_type": "markdown",
   "id": "2cc50f0e",
   "metadata": {},
   "source": [
    "plt.scatter(df.individuals, df.tempmax, df.tempmin, df.humidity)\n",
    "plt.xlabel('tempmax,tempmin,humidity')\n",
    "plt.ylabel('individuals')\n",
    "plt.show()"
   ]
  },
  {
   "cell_type": "code",
   "execution_count": 3,
   "id": "89890579",
   "metadata": {},
   "outputs": [
    {
     "data": {
      "text/html": [
       "<div>\n",
       "<style scoped>\n",
       "    .dataframe tbody tr th:only-of-type {\n",
       "        vertical-align: middle;\n",
       "    }\n",
       "\n",
       "    .dataframe tbody tr th {\n",
       "        vertical-align: top;\n",
       "    }\n",
       "\n",
       "    .dataframe thead th {\n",
       "        text-align: right;\n",
       "    }\n",
       "</style>\n",
       "<table border=\"1\" class=\"dataframe\">\n",
       "  <thead>\n",
       "    <tr style=\"text-align: right;\">\n",
       "      <th></th>\n",
       "      <th>order_name</th>\n",
       "      <th>family_name</th>\n",
       "      <th>datetime</th>\n",
       "      <th>individuals</th>\n",
       "      <th>tempmax</th>\n",
       "      <th>tempmin</th>\n",
       "      <th>temp_daily</th>\n",
       "      <th>humidity</th>\n",
       "    </tr>\n",
       "  </thead>\n",
       "  <tbody>\n",
       "    <tr>\n",
       "      <th>0</th>\n",
       "      <td>COLEOPTERA</td>\n",
       "      <td>CARABIDAE</td>\n",
       "      <td>2003-07-20</td>\n",
       "      <td>2</td>\n",
       "      <td>76.9</td>\n",
       "      <td>60.9</td>\n",
       "      <td>69.9</td>\n",
       "      <td>69.9</td>\n",
       "    </tr>\n",
       "    <tr>\n",
       "      <th>1</th>\n",
       "      <td>COLEOPTERA</td>\n",
       "      <td>CARABIDAE</td>\n",
       "      <td>2000-06-21</td>\n",
       "      <td>3</td>\n",
       "      <td>86.0</td>\n",
       "      <td>64.1</td>\n",
       "      <td>75.6</td>\n",
       "      <td>67.5</td>\n",
       "    </tr>\n",
       "    <tr>\n",
       "      <th>2</th>\n",
       "      <td>COLEOPTERA</td>\n",
       "      <td>CARABIDAE</td>\n",
       "      <td>2007-06-10</td>\n",
       "      <td>1</td>\n",
       "      <td>81.7</td>\n",
       "      <td>60.4</td>\n",
       "      <td>71.9</td>\n",
       "      <td>55.4</td>\n",
       "    </tr>\n",
       "    <tr>\n",
       "      <th>3</th>\n",
       "      <td>COLEOPTERA</td>\n",
       "      <td>CARABIDAE</td>\n",
       "      <td>1992-07-02</td>\n",
       "      <td>1</td>\n",
       "      <td>71.2</td>\n",
       "      <td>58.8</td>\n",
       "      <td>65.5</td>\n",
       "      <td>59.2</td>\n",
       "    </tr>\n",
       "    <tr>\n",
       "      <th>4</th>\n",
       "      <td>COLEOPTERA</td>\n",
       "      <td>CARABIDAE</td>\n",
       "      <td>1993-05-23</td>\n",
       "      <td>1</td>\n",
       "      <td>73.3</td>\n",
       "      <td>55.2</td>\n",
       "      <td>63.3</td>\n",
       "      <td>66.8</td>\n",
       "    </tr>\n",
       "  </tbody>\n",
       "</table>\n",
       "</div>"
      ],
      "text/plain": [
       "   order_name family_name    datetime  individuals  tempmax  tempmin  \\\n",
       "0  COLEOPTERA   CARABIDAE  2003-07-20            2     76.9     60.9   \n",
       "1  COLEOPTERA   CARABIDAE  2000-06-21            3     86.0     64.1   \n",
       "2  COLEOPTERA   CARABIDAE  2007-06-10            1     81.7     60.4   \n",
       "3  COLEOPTERA   CARABIDAE  1992-07-02            1     71.2     58.8   \n",
       "4  COLEOPTERA   CARABIDAE  1993-05-23            1     73.3     55.2   \n",
       "\n",
       "   temp_daily  humidity  \n",
       "0        69.9      69.9  \n",
       "1        75.6      67.5  \n",
       "2        71.9      55.4  \n",
       "3        65.5      59.2  \n",
       "4        63.3      66.8  "
      ]
     },
     "execution_count": 3,
     "metadata": {},
     "output_type": "execute_result"
    }
   ],
   "source": [
    "#data = Path('./Resources/combined_data.csv')\n",
    "data = Path('./Resources/topfive_coleoptera.csv')\n",
    "df = pd.read_csv(data)\n",
    "df.head()"
   ]
  },
  {
   "cell_type": "code",
   "execution_count": 4,
   "id": "cccf3642",
   "metadata": {},
   "outputs": [],
   "source": [
    "# Segment the features from the target\n",
    "y = df[\"individuals\"]\n",
    "#X = df.drop(columns=[\"order_name\", \"family_name\", \"datetime\", \"individuals\", \"tempmax\",\"tempmin\"])\n",
    "X = df.drop(columns=[\"order_name\", \"family_name\", \"datetime\", \"individuals\"])"
   ]
  },
  {
   "cell_type": "code",
   "execution_count": 5,
   "id": "33f69c95",
   "metadata": {},
   "outputs": [
    {
     "name": "stdout",
     "output_type": "stream",
     "text": [
      "2867    1\n",
      "943     2\n",
      "3052    4\n",
      "2977    2\n",
      "486     3\n",
      "       ..\n",
      "1533    3\n",
      "3600    1\n",
      "2306    3\n",
      "1896    1\n",
      "1707    1\n",
      "Name: individuals, Length: 977, dtype: int64\n"
     ]
    }
   ],
   "source": [
    "# Use the train_test_split function to create training and testing subsets\n",
    "from sklearn.model_selection import train_test_split\n",
    "\n",
    "X_train, X_test, y_train, y_test = train_test_split(X, y, random_state=1)\n",
    "#X_train.shape\n",
    "print(y_test)"
   ]
  },
  {
   "cell_type": "code",
   "execution_count": 6,
   "id": "58388e97",
   "metadata": {},
   "outputs": [
    {
     "data": {
      "text/plain": [
       "BalancedRandomForestClassifier(random_state=1)"
      ]
     },
     "execution_count": 6,
     "metadata": {},
     "output_type": "execute_result"
    }
   ],
   "source": [
    "# Resample the training data with the BalancedRandomForestClassifier\n",
    "from imblearn.ensemble import BalancedRandomForestClassifier\n",
    "rf_model = BalancedRandomForestClassifier(n_estimators=100, random_state=1)\n",
    "rf_model.fit(X_train, y_train)"
   ]
  },
  {
   "cell_type": "code",
   "execution_count": 7,
   "id": "2a421aad",
   "metadata": {},
   "outputs": [
    {
     "data": {
      "text/plain": [
       "0.0"
      ]
     },
     "execution_count": 7,
     "metadata": {},
     "output_type": "execute_result"
    }
   ],
   "source": [
    "# Calculated the balanced accuracy score\n",
    "y_pred = rf_model.predict(X_test)\n",
    "balanced_accuracy_score(y_test, y_pred)"
   ]
  },
  {
   "cell_type": "code",
   "execution_count": 8,
   "id": "57e72914",
   "metadata": {},
   "outputs": [
    {
     "data": {
      "text/plain": [
       "array([[0, 0, 0, ..., 5, 8, 8],\n",
       "       [0, 0, 0, ..., 2, 4, 1],\n",
       "       [0, 0, 0, ..., 2, 3, 2],\n",
       "       ...,\n",
       "       [0, 0, 0, ..., 0, 0, 0],\n",
       "       [0, 0, 0, ..., 0, 0, 0],\n",
       "       [0, 0, 0, ..., 0, 0, 0]], dtype=int64)"
      ]
     },
     "execution_count": 8,
     "metadata": {},
     "output_type": "execute_result"
    }
   ],
   "source": [
    "# Display the confusion matrix\n",
    "from sklearn.metrics import confusion_matrix\n",
    "y_pred = rf_model.predict(X_test)\n",
    "confusion_matrix(y_test, y_pred)"
   ]
  },
  {
   "cell_type": "code",
   "execution_count": 9,
   "id": "8378d60d",
   "metadata": {},
   "outputs": [
    {
     "name": "stdout",
     "output_type": "stream",
     "text": [
      "                   pre       rec       spe        f1       geo       iba       sup\n",
      "\n",
      "          1       0.00      0.00      1.00      0.00      0.00      0.00     522.0\n",
      "          2       0.00      0.00      1.00      0.00      0.00      0.00     143.0\n",
      "          3       0.00      0.00      1.00      0.00      0.00      0.00      83.0\n",
      "          4       0.00      0.00      1.00      0.00      0.00      0.00      44.0\n",
      "          5       0.00      0.00      1.00      0.00      0.00      0.00      32.0\n",
      "          6       0.00      0.00      1.00      0.00      0.00      0.00      19.0\n",
      "          7       0.00      0.00      1.00      0.00      0.00      0.00      15.0\n",
      "          8       0.00      0.00      1.00      0.00      0.00      0.00      12.0\n",
      "          9       0.00      0.00      1.00      0.00      0.00      0.00       5.0\n",
      "         10       0.00      0.00      1.00      0.00      0.00      0.00      11.0\n",
      "         11       0.00      0.00      1.00      0.00      0.00      0.00       8.0\n",
      "         12       0.00      0.00      1.00      0.00      0.00      0.00       4.0\n",
      "         13       0.00      0.00      1.00      0.00      0.00      0.00       6.0\n",
      "         14       0.00      0.00      1.00      0.00      0.00      0.00       3.0\n",
      "         15       0.00      0.00      1.00      0.00      0.00      0.00       3.0\n",
      "         16       0.00      0.00      1.00      0.00      0.00      0.00       4.0\n",
      "         17       0.00      0.00      1.00      0.00      0.00      0.00       3.0\n",
      "         18       0.00      0.00      1.00      0.00      0.00      0.00       3.0\n",
      "         19       0.00      0.00      1.00      0.00      0.00      0.00       1.0\n",
      "         20       0.00      0.00      1.00      0.00      0.00      0.00       4.0\n",
      "         21       0.00      0.00      1.00      0.00      0.00      0.00       2.0\n",
      "         22       0.00      0.00      1.00      0.00      0.00      0.00       2.0\n",
      "         23       0.00      0.00      0.99      0.00      0.00      0.00       3.0\n",
      "         24       0.00      0.00      0.97      0.00      0.00      0.00       2.0\n",
      "         25       0.00      0.00      0.98      0.00      0.00      0.00       1.0\n",
      "         26       0.00      0.00      0.99      0.00      0.00      0.00       2.0\n",
      "         27       0.00      0.00      0.97      0.00      0.00      0.00       1.0\n",
      "         28       0.00      0.00      1.00      0.00      0.00      0.00       2.0\n",
      "         29       0.00      0.00      1.00      0.00      0.00      0.00       2.0\n",
      "         30       0.00      0.00      0.98      0.00      0.00      0.00       1.0\n",
      "         31       0.00      0.00      0.99      0.00      0.00      0.00       1.0\n",
      "         32       0.00      0.00      1.00      0.00      0.00      0.00       0.0\n",
      "         33       0.00      0.00      0.98      0.00      0.00      0.00       1.0\n",
      "         34       0.00      0.00      0.99      0.00      0.00      0.00       0.0\n",
      "         35       0.00      0.00      0.98      0.00      0.00      0.00       0.0\n",
      "         37       0.00      0.00      1.00      0.00      0.00      0.00       0.0\n",
      "         38       0.00      0.00      0.99      0.00      0.00      0.00       3.0\n",
      "         39       0.00      0.00      0.98      0.00      0.00      0.00       0.0\n",
      "         40       0.00      0.00      0.99      0.00      0.00      0.00       1.0\n",
      "         41       0.00      0.00      0.96      0.00      0.00      0.00       1.0\n",
      "         42       0.00      0.00      0.99      0.00      0.00      0.00       1.0\n",
      "         43       0.00      0.00      0.99      0.00      0.00      0.00       0.0\n",
      "         44       0.00      0.00      1.00      0.00      0.00      0.00       2.0\n",
      "         46       0.00      0.00      0.99      0.00      0.00      0.00       0.0\n",
      "         47       0.00      0.00      1.00      0.00      0.00      0.00       1.0\n",
      "         48       0.00      0.00      1.00      0.00      0.00      0.00       1.0\n",
      "         49       0.00      0.00      0.99      0.00      0.00      0.00       1.0\n",
      "         50       0.00      0.00      0.89      0.00      0.00      0.00       0.0\n",
      "         51       0.00      0.00      0.99      0.00      0.00      0.00       0.0\n",
      "         54       0.00      0.00      0.99      0.00      0.00      0.00       0.0\n",
      "         55       0.00      0.00      1.00      0.00      0.00      0.00       1.0\n",
      "         56       0.00      0.00      0.97      0.00      0.00      0.00       0.0\n",
      "         57       0.00      0.00      0.99      0.00      0.00      0.00       0.0\n",
      "         58       0.00      0.00      1.00      0.00      0.00      0.00       1.0\n",
      "         59       0.00      0.00      0.97      0.00      0.00      0.00       1.0\n",
      "         60       0.00      0.00      1.00      0.00      0.00      0.00       1.0\n",
      "         61       0.00      0.00      0.98      0.00      0.00      0.00       0.0\n",
      "         63       0.00      0.00      0.98      0.00      0.00      0.00       0.0\n",
      "         65       0.00      0.00      1.00      0.00      0.00      0.00       1.0\n",
      "         66       0.00      0.00      0.98      0.00      0.00      0.00       0.0\n",
      "         67       0.00      0.00      0.98      0.00      0.00      0.00       2.0\n",
      "         68       0.00      0.00      0.99      0.00      0.00      0.00       0.0\n",
      "         69       0.00      0.00      0.97      0.00      0.00      0.00       0.0\n",
      "         71       0.00      0.00      0.99      0.00      0.00      0.00       0.0\n",
      "         74       0.00      0.00      1.00      0.00      0.00      0.00       1.0\n",
      "         75       0.00      0.00      0.98      0.00      0.00      0.00       0.0\n",
      "         76       0.00      0.00      0.99      0.00      0.00      0.00       1.0\n",
      "         77       0.00      0.00      1.00      0.00      0.00      0.00       0.0\n",
      "         79       0.00      0.00      1.00      0.00      0.00      0.00       1.0\n",
      "         80       0.00      0.00      0.99      0.00      0.00      0.00       0.0\n",
      "         81       0.00      0.00      1.00      0.00      0.00      0.00       1.0\n",
      "         85       0.00      0.00      0.99      0.00      0.00      0.00       0.0\n",
      "         86       0.00      0.00      0.99      0.00      0.00      0.00       0.0\n",
      "         88       0.00      0.00      1.00      0.00      0.00      0.00       1.0\n",
      "         91       0.00      0.00      0.99      0.00      0.00      0.00       0.0\n",
      "        101       0.00      0.00      1.00      0.00      0.00      0.00       1.0\n",
      "        111       0.00      0.00      0.99      0.00      0.00      0.00       0.0\n",
      "        116       0.00      0.00      0.99      0.00      0.00      0.00       1.0\n",
      "        120       0.00      0.00      0.98      0.00      0.00      0.00       0.0\n",
      "        121       0.00      0.00      1.00      0.00      0.00      0.00       1.0\n",
      "        122       0.00      0.00      0.98      0.00      0.00      0.00       0.0\n",
      "        128       0.00      0.00      0.98      0.00      0.00      0.00       0.0\n",
      "        131       0.00      0.00      0.99      0.00      0.00      0.00       0.0\n",
      "        133       0.00      0.00      1.00      0.00      0.00      0.00       1.0\n",
      "        144       0.00      0.00      0.98      0.00      0.00      0.00       0.0\n",
      "        145       0.00      0.00      1.00      0.00      0.00      0.00       1.0\n",
      "        146       0.00      0.00      0.99      0.00      0.00      0.00       0.0\n",
      "        152       0.00      0.00      0.99      0.00      0.00      0.00       0.0\n",
      "        165       0.00      0.00      0.98      0.00      0.00      0.00       0.0\n",
      "        205       0.00      0.00      0.97      0.00      0.00      0.00       0.0\n",
      "        214       0.00      0.00      0.99      0.00      0.00      0.00       0.0\n",
      "        222       0.00      0.00      1.00      0.00      0.00      0.00       0.0\n",
      "        229       0.00      0.00      0.99      0.00      0.00      0.00       0.0\n",
      "        230       0.00      0.00      1.00      0.00      0.00      0.00       1.0\n",
      "        245       0.00      0.00      0.98      0.00      0.00      0.00       1.0\n",
      "        251       0.00      0.00      1.00      0.00      0.00      0.00       1.0\n",
      "        308       0.00      0.00      1.00      0.00      0.00      0.00       1.0\n",
      "        336       0.00      0.00      0.98      0.00      0.00      0.00       0.0\n",
      "        377       0.00      0.00      0.98      0.00      0.00      0.00       0.0\n",
      "        520       0.00      0.00      0.99      0.00      0.00      0.00       0.0\n",
      "        675       0.00      0.00      0.98      0.00      0.00      0.00       0.0\n",
      "        754       0.00      0.00      0.98      0.00      0.00      0.00       0.0\n",
      "       1281       0.00      0.00      0.99      0.00      0.00      0.00       0.0\n",
      "\n",
      "avg / total       0.00      0.00      1.00      0.00      0.00      0.00     977.0\n",
      "\n"
     ]
    }
   ],
   "source": [
    "# Print the imbalanced classification report\n",
    "from imblearn.metrics import classification_report_imbalanced\n",
    "print(classification_report_imbalanced(y_test, y_pred))"
   ]
  },
  {
   "cell_type": "code",
   "execution_count": 10,
   "id": "8d85fd94",
   "metadata": {},
   "outputs": [
    {
     "data": {
      "text/plain": [
       "[(0.2635934651135191, 'tempmin'),\n",
       " (0.24834819623162666, 'humidity'),\n",
       " (0.24405649683273242, 'temp_daily'),\n",
       " (0.24400184182212187, 'tempmax')]"
      ]
     },
     "execution_count": 10,
     "metadata": {},
     "output_type": "execute_result"
    }
   ],
   "source": [
    "# List the features sorted in descending order by feature importance\n",
    "importances = rf_model.feature_importances_\n",
    "importances\n",
    "sorted(zip(rf_model.feature_importances_, X.columns), reverse=True)"
   ]
  },
  {
   "cell_type": "code",
   "execution_count": 11,
   "id": "d0f1613b",
   "metadata": {},
   "outputs": [
    {
     "data": {
      "text/plain": [
       "EasyEnsembleClassifier(n_estimators=100, random_state=1)"
      ]
     },
     "execution_count": 11,
     "metadata": {},
     "output_type": "execute_result"
    }
   ],
   "source": [
    "# Train the EasyEnsembleClassifier\n",
    "from imblearn.ensemble import EasyEnsembleClassifier\n",
    "eec = EasyEnsembleClassifier(n_estimators=100, random_state=1)\n",
    "eec.fit(X_train, y_train)"
   ]
  },
  {
   "cell_type": "code",
   "execution_count": 12,
   "id": "b49689d7",
   "metadata": {},
   "outputs": [
    {
     "data": {
      "text/plain": [
       "0.0"
      ]
     },
     "execution_count": 12,
     "metadata": {},
     "output_type": "execute_result"
    }
   ],
   "source": [
    "# Calculated the balanced accuracy score\n",
    "y_pred = eec.predict(X_test)\n",
    "balanced_accuracy_score(y_test, y_pred)"
   ]
  },
  {
   "cell_type": "code",
   "execution_count": null,
   "id": "1855f997",
   "metadata": {},
   "outputs": [],
   "source": [
    "# Tableau Visualization\n",
    "# https://public.tableau.com/authoring/MOTH_V_BEETLE/Story1#1"
   ]
  }
 ],
 "metadata": {
  "kernelspec": {
   "display_name": "mlenv",
   "language": "python",
   "name": "mlenv"
  },
  "language_info": {
   "codemirror_mode": {
    "name": "ipython",
    "version": 3
   },
   "file_extension": ".py",
   "mimetype": "text/x-python",
   "name": "python",
   "nbconvert_exporter": "python",
   "pygments_lexer": "ipython3",
   "version": "3.7.15"
  }
 },
 "nbformat": 4,
 "nbformat_minor": 5
}
