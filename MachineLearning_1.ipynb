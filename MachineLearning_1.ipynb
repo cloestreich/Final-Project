{
 "cells": [
  {
   "cell_type": "code",
   "execution_count": 1,
   "id": "515e04be",
   "metadata": {},
   "outputs": [],
   "source": [
    "from pathlib import Path\n",
    "import pandas as pd\n",
    "import numpy as np\n",
    "import matplotlib.pyplot as plt"
   ]
  },
  {
   "cell_type": "code",
   "execution_count": 2,
   "id": "89890579",
   "metadata": {},
   "outputs": [
    {
     "data": {
      "text/html": [
       "<div>\n",
       "<style scoped>\n",
       "    .dataframe tbody tr th:only-of-type {\n",
       "        vertical-align: middle;\n",
       "    }\n",
       "\n",
       "    .dataframe tbody tr th {\n",
       "        vertical-align: top;\n",
       "    }\n",
       "\n",
       "    .dataframe thead th {\n",
       "        text-align: right;\n",
       "    }\n",
       "</style>\n",
       "<table border=\"1\" class=\"dataframe\">\n",
       "  <thead>\n",
       "    <tr style=\"text-align: right;\">\n",
       "      <th></th>\n",
       "      <th>order_name</th>\n",
       "      <th>family_name</th>\n",
       "      <th>scientific_name</th>\n",
       "      <th>datetime</th>\n",
       "      <th>individuals</th>\n",
       "      <th>location_name</th>\n",
       "      <th>tempmax</th>\n",
       "      <th>tempmin</th>\n",
       "      <th>temp_daily</th>\n",
       "      <th>humidity</th>\n",
       "    </tr>\n",
       "  </thead>\n",
       "  <tbody>\n",
       "    <tr>\n",
       "      <th>0</th>\n",
       "      <td>LEPIDOPTERA</td>\n",
       "      <td>ACROLEPIIDAE</td>\n",
       "      <td>Acrolepiopsis assectella Zell.</td>\n",
       "      <td>8/21/1994</td>\n",
       "      <td>1</td>\n",
       "      <td>Universitetsparken 15, 2100 KÃ¸benhavn, Denmark</td>\n",
       "      <td>66.1</td>\n",
       "      <td>49.9</td>\n",
       "      <td>59.6</td>\n",
       "      <td>72.9</td>\n",
       "    </tr>\n",
       "    <tr>\n",
       "      <th>1</th>\n",
       "      <td>LEPIDOPTERA</td>\n",
       "      <td>ACROLEPIIDAE</td>\n",
       "      <td>Acrolepiopsis assectella Zell.</td>\n",
       "      <td>8/25/1994</td>\n",
       "      <td>1</td>\n",
       "      <td>Universitetsparken 15, 2100 KÃ¸benhavn, Denmark</td>\n",
       "      <td>66.3</td>\n",
       "      <td>59.1</td>\n",
       "      <td>62.3</td>\n",
       "      <td>89.8</td>\n",
       "    </tr>\n",
       "    <tr>\n",
       "      <th>2</th>\n",
       "      <td>LEPIDOPTERA</td>\n",
       "      <td>ACROLEPIIDAE</td>\n",
       "      <td>Acrolepiopsis assectella Zell.</td>\n",
       "      <td>7/25/1996</td>\n",
       "      <td>1</td>\n",
       "      <td>Universitetsparken 15, 2100 KÃ¸benhavn, Denmark</td>\n",
       "      <td>76.6</td>\n",
       "      <td>57.1</td>\n",
       "      <td>63.8</td>\n",
       "      <td>74.2</td>\n",
       "    </tr>\n",
       "    <tr>\n",
       "      <th>3</th>\n",
       "      <td>LEPIDOPTERA</td>\n",
       "      <td>ACROLEPIIDAE</td>\n",
       "      <td>Acrolepiopsis assectella Zell.</td>\n",
       "      <td>7/19/1998</td>\n",
       "      <td>1</td>\n",
       "      <td>Universitetsparken 15, 2100 KÃ¸benhavn, Denmark</td>\n",
       "      <td>62.9</td>\n",
       "      <td>49.9</td>\n",
       "      <td>57.6</td>\n",
       "      <td>83.2</td>\n",
       "    </tr>\n",
       "    <tr>\n",
       "      <th>4</th>\n",
       "      <td>LEPIDOPTERA</td>\n",
       "      <td>ACROLEPIIDAE</td>\n",
       "      <td>Acrolepiopsis assectella Zell.</td>\n",
       "      <td>8/10/1999</td>\n",
       "      <td>1</td>\n",
       "      <td>Universitetsparken 15, 2100 KÃ¸benhavn, Denmark</td>\n",
       "      <td>73.7</td>\n",
       "      <td>57.3</td>\n",
       "      <td>66.3</td>\n",
       "      <td>83.5</td>\n",
       "    </tr>\n",
       "  </tbody>\n",
       "</table>\n",
       "</div>"
      ],
      "text/plain": [
       "    order_name   family_name                 scientific_name   datetime  \\\n",
       "0  LEPIDOPTERA  ACROLEPIIDAE  Acrolepiopsis assectella Zell.  8/21/1994   \n",
       "1  LEPIDOPTERA  ACROLEPIIDAE  Acrolepiopsis assectella Zell.  8/25/1994   \n",
       "2  LEPIDOPTERA  ACROLEPIIDAE  Acrolepiopsis assectella Zell.  7/25/1996   \n",
       "3  LEPIDOPTERA  ACROLEPIIDAE  Acrolepiopsis assectella Zell.  7/19/1998   \n",
       "4  LEPIDOPTERA  ACROLEPIIDAE  Acrolepiopsis assectella Zell.  8/10/1999   \n",
       "\n",
       "   individuals                                    location_name  tempmax  \\\n",
       "0            1  Universitetsparken 15, 2100 KÃ¸benhavn, Denmark     66.1   \n",
       "1            1  Universitetsparken 15, 2100 KÃ¸benhavn, Denmark     66.3   \n",
       "2            1  Universitetsparken 15, 2100 KÃ¸benhavn, Denmark     76.6   \n",
       "3            1  Universitetsparken 15, 2100 KÃ¸benhavn, Denmark     62.9   \n",
       "4            1  Universitetsparken 15, 2100 KÃ¸benhavn, Denmark     73.7   \n",
       "\n",
       "   tempmin  temp_daily  humidity  \n",
       "0     49.9        59.6      72.9  \n",
       "1     59.1        62.3      89.8  \n",
       "2     57.1        63.8      74.2  \n",
       "3     49.9        57.6      83.2  \n",
       "4     57.3        66.3      83.5  "
      ]
     },
     "execution_count": 2,
     "metadata": {},
     "output_type": "execute_result"
    }
   ],
   "source": [
    "data = Path('./Resources/combined_data.csv')\n",
    "df = pd.read_csv(data)\n",
    "df.head()"
   ]
  },
  {
   "cell_type": "code",
   "execution_count": 3,
   "id": "03e3bff7",
   "metadata": {},
   "outputs": [],
   "source": [
    "y = df[\"individuals\"]\n",
    "X = df.loc[:,[\"tempmax\"]]"
   ]
  },
  {
   "cell_type": "code",
   "execution_count": 4,
   "id": "c8058768",
   "metadata": {},
   "outputs": [
    {
     "data": {
      "text/plain": [
       "(33066, 1)"
      ]
     },
     "execution_count": 4,
     "metadata": {},
     "output_type": "execute_result"
    }
   ],
   "source": [
    "from sklearn.model_selection import train_test_split\n",
    "\n",
    "X_train, X_test, y_train, y_test = train_test_split(X, \n",
    "                                                    y, \n",
    "                                                    random_state=1)\n",
    "X_train.shape"
   ]
  },
  {
   "cell_type": "code",
   "execution_count": 5,
   "id": "106c8ff8",
   "metadata": {},
   "outputs": [
    {
     "data": {
      "text/plain": [
       "LinearRegression()"
      ]
     },
     "execution_count": 5,
     "metadata": {},
     "output_type": "execute_result"
    }
   ],
   "source": [
    "#Fitting Simple Linear regression data model to train data set\n",
    "from sklearn.linear_model import LinearRegression\n",
    "classifier=LinearRegression()\n",
    "classifier.fit(X_train,y_train)"
   ]
  },
  {
   "cell_type": "code",
   "execution_count": 6,
   "id": "e715bb48",
   "metadata": {},
   "outputs": [
    {
     "data": {
      "image/png": "[encoded data removed]",
      "text/plain": [
       "<Figure size 640x480 with 1 Axes>"
      ]
     },
     "metadata": {},
     "output_type": "display_data"
    }
   ],
   "source": [
    "# Visualising the Training set results in a scatter plot\n",
    "plt.scatter(X_train, y_train, color = 'red')\n",
    "plt.plot(X_train, classifier.predict(X_train), color = 'blue')\n",
    "plt.title('Number of Deaths vs Maximum Temperature (Training set)')\n",
    "plt.xlabel('Maximum Temperature (in degrees Fahrenheit) ')\n",
    "plt.ylabel('Number of Deaths')\n",
    "plt.show()"
   ]
  },
  {
   "cell_type": "code",
   "execution_count": null,
   "id": "2b9a07e2",
   "metadata": {},
   "outputs": [],
   "source": []
  }
 ],
 "metadata": {
  "kernelspec": {
   "display_name": "mlenv",
   "language": "python",
   "name": "mlenv"
  },
  "language_info": {
   "codemirror_mode": {
    "name": "ipython",
    "version": 3
   },
   "file_extension": ".py",
   "mimetype": "text/x-python",
   "name": "python",
   "nbconvert_exporter": "python",
   "pygments_lexer": "ipython3",
   "version": "3.7.13"
  }
 },
 "nbformat": 4,
 "nbformat_minor": 5
}
