{
 "cells": [
  {
   "cell_type": "code",
   "execution_count": 1,
   "id": "515e04be",
   "metadata": {},
   "outputs": [],
   "source": [
    "from pathlib import Path\n",
    "import pandas as pd\n",
    "import numpy as np\n",
    "import matplotlib.pyplot as plt"
   ]
  },
  {
   "cell_type": "code",
   "execution_count": 2,
   "id": "89890579",
   "metadata": {},
   "outputs": [
    {
     "data": {
      "text/html": [
       "<div>\n",
       "<style scoped>\n",
       "    .dataframe tbody tr th:only-of-type {\n",
       "        vertical-align: middle;\n",
       "    }\n",
       "\n",
       "    .dataframe tbody tr th {\n",
       "        vertical-align: top;\n",
       "    }\n",
       "\n",
       "    .dataframe thead th {\n",
       "        text-align: right;\n",
       "    }\n",
       "</style>\n",
       "<table border=\"1\" class=\"dataframe\">\n",
       "  <thead>\n",
       "    <tr style=\"text-align: right;\">\n",
       "      <th></th>\n",
       "      <th>order_name</th>\n",
       "      <th>family_name</th>\n",
       "      <th>datetime</th>\n",
       "      <th>individuals</th>\n",
       "      <th>tempmax</th>\n",
       "      <th>tempmin</th>\n",
       "      <th>temp_daily</th>\n",
       "      <th>humidity</th>\n",
       "    </tr>\n",
       "  </thead>\n",
       "  <tbody>\n",
       "    <tr>\n",
       "      <th>0</th>\n",
       "      <td>LEPIDOPTERA</td>\n",
       "      <td>GEOMETRIDAE</td>\n",
       "      <td>1995-06-25</td>\n",
       "      <td>4</td>\n",
       "      <td>77.1</td>\n",
       "      <td>56.0</td>\n",
       "      <td>67.4</td>\n",
       "      <td>60.0</td>\n",
       "    </tr>\n",
       "    <tr>\n",
       "      <th>1</th>\n",
       "      <td>LEPIDOPTERA</td>\n",
       "      <td>GEOMETRIDAE</td>\n",
       "      <td>1995-06-27</td>\n",
       "      <td>3</td>\n",
       "      <td>69.9</td>\n",
       "      <td>57.3</td>\n",
       "      <td>63.7</td>\n",
       "      <td>54.5</td>\n",
       "    </tr>\n",
       "    <tr>\n",
       "      <th>2</th>\n",
       "      <td>LEPIDOPTERA</td>\n",
       "      <td>GEOMETRIDAE</td>\n",
       "      <td>2006-07-20</td>\n",
       "      <td>1</td>\n",
       "      <td>82.4</td>\n",
       "      <td>66.1</td>\n",
       "      <td>73.8</td>\n",
       "      <td>68.3</td>\n",
       "    </tr>\n",
       "    <tr>\n",
       "      <th>3</th>\n",
       "      <td>LEPIDOPTERA</td>\n",
       "      <td>GEOMETRIDAE</td>\n",
       "      <td>2006-06-13</td>\n",
       "      <td>1</td>\n",
       "      <td>79.6</td>\n",
       "      <td>59.9</td>\n",
       "      <td>71.1</td>\n",
       "      <td>55.6</td>\n",
       "    </tr>\n",
       "    <tr>\n",
       "      <th>4</th>\n",
       "      <td>LEPIDOPTERA</td>\n",
       "      <td>GEOMETRIDAE</td>\n",
       "      <td>1995-07-17</td>\n",
       "      <td>1</td>\n",
       "      <td>71.5</td>\n",
       "      <td>59.1</td>\n",
       "      <td>65.1</td>\n",
       "      <td>73.8</td>\n",
       "    </tr>\n",
       "  </tbody>\n",
       "</table>\n",
       "</div>"
      ],
      "text/plain": [
       "    order_name  family_name    datetime  individuals  tempmax  tempmin  \\\n",
       "0  LEPIDOPTERA  GEOMETRIDAE  1995-06-25            4     77.1     56.0   \n",
       "1  LEPIDOPTERA  GEOMETRIDAE  1995-06-27            3     69.9     57.3   \n",
       "2  LEPIDOPTERA  GEOMETRIDAE  2006-07-20            1     82.4     66.1   \n",
       "3  LEPIDOPTERA  GEOMETRIDAE  2006-06-13            1     79.6     59.9   \n",
       "4  LEPIDOPTERA  GEOMETRIDAE  1995-07-17            1     71.5     59.1   \n",
       "\n",
       "   temp_daily  humidity  \n",
       "0        67.4      60.0  \n",
       "1        63.7      54.5  \n",
       "2        73.8      68.3  \n",
       "3        71.1      55.6  \n",
       "4        65.1      73.8  "
      ]
     },
     "execution_count": 2,
     "metadata": {},
     "output_type": "execute_result"
    }
   ],
   "source": [
    "#data = Path('./Resources/combined_data.csv')\n",
    "data = Path('./Resources/topfive_LEPIDOPTERA.csv')\n",
    "df = pd.read_csv(data)\n",
    "df.head()"
   ]
  },
  {
   "cell_type": "code",
   "execution_count": 3,
   "id": "cccf3642",
   "metadata": {},
   "outputs": [],
   "source": [
    "# Segment the features from the target\n",
    "y = df[\"individuals\"]\n",
    "#X = df.drop(columns=[\"order_name\", \"family_name\", \"datetime\", \"individuals\", \"tempmax\",\"tempmin\"])\n",
    "X = df.drop(columns=[\"order_name\", \"family_name\", \"datetime\", \"individuals\", \"tempmax\",\"tempmin\", \"temp_daily\"])"
   ]
  },
  {
   "cell_type": "code",
   "execution_count": 4,
   "id": "33f69c95",
   "metadata": {},
   "outputs": [
    {
     "data": {
      "text/plain": [
       "(21800, 1)"
      ]
     },
     "execution_count": 4,
     "metadata": {},
     "output_type": "execute_result"
    }
   ],
   "source": [
    "# Use the train_test_split function to create training and testing subsets\n",
    "from sklearn.model_selection import train_test_split\n",
    "\n",
    "X_train, X_test, y_train, y_test = train_test_split(X, y,test_size=0.2, random_state=42)\n",
    "X_train.shape"
   ]
  },
  {
   "cell_type": "code",
   "execution_count": 5,
   "id": "58388e97",
   "metadata": {},
   "outputs": [
    {
     "data": {
      "text/plain": [
       "RandomForestRegressor(random_state=0)"
      ]
     },
     "execution_count": 5,
     "metadata": {},
     "output_type": "execute_result"
    }
   ],
   "source": [
    "from sklearn.ensemble import RandomForestRegressor\n",
    "regressor = RandomForestRegressor(n_estimators= 100, random_state= 0)\n",
    "regressor.fit(X_train, y_train)"
   ]
  },
  {
   "cell_type": "code",
   "execution_count": 6,
   "id": "2a421aad",
   "metadata": {},
   "outputs": [
    {
     "data": {
      "text/plain": [
       "array([6.10387497, 4.01329722, 7.72199187, ..., 3.848864  , 4.56036331,\n",
       "       7.05127546])"
      ]
     },
     "execution_count": 6,
     "metadata": {},
     "output_type": "execute_result"
    }
   ],
   "source": [
    "y_pred = regressor.predict(X_test)\n",
    "\n",
    "y_pred"
   ]
  },
  {
   "cell_type": "code",
   "execution_count": 7,
   "id": "367727e2",
   "metadata": {},
   "outputs": [
    {
     "data": {
      "text/plain": [
       "-0.010381972921759575"
      ]
     },
     "execution_count": 7,
     "metadata": {},
     "output_type": "execute_result"
    }
   ],
   "source": [
    "from sklearn.metrics import r2_score\n",
    "r2_score(y_test, y_pred)"
   ]
  },
  {
   "cell_type": "markdown",
   "id": "df9ff393",
   "metadata": {},
   "source": [
    "https://stats.stackexchange.com/questions/12900/when-is-r-squared-negative\n",
    "\n",
    "R2  compares the fit of the chosen model with that of a horizontal straight line (the null hypothesis). If the chosen model fits worse than a horizontal line, then R2 is negative. Note that R2 is not always the square of anything, so it can have a negative value without violating any rules of math. R2 is negative only when the chosen model does not follow the trend of the data, so fits worse than a horizontal line.\n",
    "\n",
    "Example: fit data to a linear regression model constrained so that the Y intercept must equal 1500.\n",
    "\n",
    "enter image description here\n",
    "\n",
    "The model makes no sense at all given these data. It is clearly the wrong model, perhaps chosen by accident.\n",
    "\n",
    "The fit of the model (a straight line constrained to go through the point (0,1500)) is worse than the fit of a horizontal line. Thus the sum-of-squares from the model (SSres) is larger than the sum-of-squares from the horizontal line (SStot).\n",
    "\n",
    "If R2 is computed as 1−SSresSStot. (here, SSres = residual error.)\n",
    "When SSres is greater than SStot, that equation could compute a negative value for R2, if the value of the coeficient is greater than 1.\n",
    "\n",
    "With linear regression with no constraints, R2 must be positive (or zero) and equals the square of the correlation coefficient, r. A negative R2 is only possible with linear regression when either the intercept or the slope are constrained so that the \"best-fit\" line (given the constraint) fits worse than a horizontal line. With nonlinear regression, the R2 can be negative whenever the best-fit model (given the chosen equation, and its constraints, if any) fits the data worse than a horizontal line.\n",
    "\n",
    "Bottom line: a negative R2 is not a mathematical impossibility or the sign of a computer bug. It simply means that the chosen model (with its constraints) fits the data really poorly."
   ]
  }
 ],
 "metadata": {
  "kernelspec": {
   "display_name": "mlenv",
   "language": "python",
   "name": "mlenv"
  },
  "language_info": {
   "codemirror_mode": {
    "name": "ipython",
    "version": 3
   },
   "file_extension": ".py",
   "mimetype": "text/x-python",
   "name": "python",
   "nbconvert_exporter": "python",
   "pygments_lexer": "ipython3",
   "version": "3.7.15"
  }
 },
 "nbformat": 4,
 "nbformat_minor": 5
}
