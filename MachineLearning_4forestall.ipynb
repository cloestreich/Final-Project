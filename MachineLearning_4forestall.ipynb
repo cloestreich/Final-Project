{
 "cells": [
  {
   "cell_type": "code",
   "execution_count": 3,
   "id": "515e04be",
   "metadata": {},
   "outputs": [],
   "source": [
    "from pathlib import Path\n",
    "import pandas as pd\n",
    "import numpy as np\n",
    "import matplotlib.pyplot as plt"
   ]
  },
  {
   "cell_type": "code",
   "execution_count": 4,
   "id": "89890579",
   "metadata": {},
   "outputs": [
    {
     "data": {
      "text/html": [
       "<div>\n",
       "<style scoped>\n",
       "    .dataframe tbody tr th:only-of-type {\n",
       "        vertical-align: middle;\n",
       "    }\n",
       "\n",
       "    .dataframe tbody tr th {\n",
       "        vertical-align: top;\n",
       "    }\n",
       "\n",
       "    .dataframe thead th {\n",
       "        text-align: right;\n",
       "    }\n",
       "</style>\n",
       "<table border=\"1\" class=\"dataframe\">\n",
       "  <thead>\n",
       "    <tr style=\"text-align: right;\">\n",
       "      <th></th>\n",
       "      <th>order_name</th>\n",
       "      <th>family_name</th>\n",
       "      <th>datetime</th>\n",
       "      <th>individuals</th>\n",
       "      <th>tempmax</th>\n",
       "      <th>tempmin</th>\n",
       "      <th>temp_daily</th>\n",
       "      <th>humidity</th>\n",
       "    </tr>\n",
       "  </thead>\n",
       "  <tbody>\n",
       "    <tr>\n",
       "      <th>0</th>\n",
       "      <td>COLEOPTERA</td>\n",
       "      <td>CARABIDAE</td>\n",
       "      <td>37822</td>\n",
       "      <td>2</td>\n",
       "      <td>76.9</td>\n",
       "      <td>60.9</td>\n",
       "      <td>69.9</td>\n",
       "      <td>69.9</td>\n",
       "    </tr>\n",
       "    <tr>\n",
       "      <th>1</th>\n",
       "      <td>COLEOPTERA</td>\n",
       "      <td>CARABIDAE</td>\n",
       "      <td>36698</td>\n",
       "      <td>3</td>\n",
       "      <td>86.0</td>\n",
       "      <td>64.1</td>\n",
       "      <td>75.6</td>\n",
       "      <td>67.5</td>\n",
       "    </tr>\n",
       "    <tr>\n",
       "      <th>2</th>\n",
       "      <td>COLEOPTERA</td>\n",
       "      <td>CARABIDAE</td>\n",
       "      <td>39243</td>\n",
       "      <td>1</td>\n",
       "      <td>81.7</td>\n",
       "      <td>60.4</td>\n",
       "      <td>71.9</td>\n",
       "      <td>55.4</td>\n",
       "    </tr>\n",
       "    <tr>\n",
       "      <th>3</th>\n",
       "      <td>COLEOPTERA</td>\n",
       "      <td>CARABIDAE</td>\n",
       "      <td>33787</td>\n",
       "      <td>1</td>\n",
       "      <td>71.2</td>\n",
       "      <td>58.8</td>\n",
       "      <td>65.5</td>\n",
       "      <td>59.2</td>\n",
       "    </tr>\n",
       "    <tr>\n",
       "      <th>4</th>\n",
       "      <td>COLEOPTERA</td>\n",
       "      <td>CARABIDAE</td>\n",
       "      <td>34112</td>\n",
       "      <td>1</td>\n",
       "      <td>73.3</td>\n",
       "      <td>55.2</td>\n",
       "      <td>63.3</td>\n",
       "      <td>66.8</td>\n",
       "    </tr>\n",
       "  </tbody>\n",
       "</table>\n",
       "</div>"
      ],
      "text/plain": [
       "   order_name family_name  datetime  individuals  tempmax  tempmin  \\\n",
       "0  COLEOPTERA   CARABIDAE     37822            2     76.9     60.9   \n",
       "1  COLEOPTERA   CARABIDAE     36698            3     86.0     64.1   \n",
       "2  COLEOPTERA   CARABIDAE     39243            1     81.7     60.4   \n",
       "3  COLEOPTERA   CARABIDAE     33787            1     71.2     58.8   \n",
       "4  COLEOPTERA   CARABIDAE     34112            1     73.3     55.2   \n",
       "\n",
       "   temp_daily  humidity  \n",
       "0        69.9      69.9  \n",
       "1        75.6      67.5  \n",
       "2        71.9      55.4  \n",
       "3        65.5      59.2  \n",
       "4        63.3      66.8  "
      ]
     },
     "execution_count": 4,
     "metadata": {},
     "output_type": "execute_result"
    }
   ],
   "source": [
    "#data = Path('./Resources/combined_data.csv')\n",
    "data = Path('./Resources/CombinedTop5_chg.csv')\n",
    "df = pd.read_csv(data)\n",
    "df.head()"
   ]
  },
  {
   "cell_type": "code",
   "execution_count": 5,
   "id": "cccf3642",
   "metadata": {},
   "outputs": [],
   "source": [
    "# Segment the features from the target\n",
    "y = df[\"individuals\"]\n",
    "#X = df.drop(columns=[\"order_name\", \"family_name\", \"datetime\", \"individuals\", \"tempmax\",\"tempmin\"])\n",
    "X = df.drop(columns=[\"order_name\", \"family_name\", \"datetime\", \"individuals\", \"tempmax\",\"tempmin\", \"temp_daily\"])"
   ]
  },
  {
   "cell_type": "code",
   "execution_count": 6,
   "id": "33f69c95",
   "metadata": {},
   "outputs": [
    {
     "data": {
      "text/plain": [
       "(24926, 1)"
      ]
     },
     "execution_count": 6,
     "metadata": {},
     "output_type": "execute_result"
    }
   ],
   "source": [
    "# Use the train_test_split function to create training and testing subsets\n",
    "from sklearn.model_selection import train_test_split\n",
    "\n",
    "X_train, X_test, y_train, y_test = train_test_split(X, y,test_size=0.2, random_state=42)\n",
    "X_train.shape"
   ]
  },
  {
   "cell_type": "code",
   "execution_count": 7,
   "id": "58388e97",
   "metadata": {},
   "outputs": [
    {
     "data": {
      "text/plain": [
       "RandomForestRegressor(n_estimators=10, random_state=0)"
      ]
     },
     "execution_count": 7,
     "metadata": {},
     "output_type": "execute_result"
    }
   ],
   "source": [
    "from sklearn.ensemble import RandomForestRegressor\n",
    "regressor = RandomForestRegressor(n_estimators= 10, random_state= 0)\n",
    "regressor.fit(X_train, y_train)"
   ]
  },
  {
   "cell_type": "code",
   "execution_count": 8,
   "id": "2a421aad",
   "metadata": {},
   "outputs": [
    {
     "data": {
      "text/plain": [
       "array([4.32556133, 6.89110319, 6.14699717, ..., 2.18903579, 1.67439394,\n",
       "       2.36594928])"
      ]
     },
     "execution_count": 8,
     "metadata": {},
     "output_type": "execute_result"
    }
   ],
   "source": [
    "y_pred = regressor.predict(X_test)\n",
    "\n",
    "y_pred"
   ]
  },
  {
   "cell_type": "code",
   "execution_count": 9,
   "id": "367727e2",
   "metadata": {},
   "outputs": [
    {
     "data": {
      "text/plain": [
       "-0.016017638832902525"
      ]
     },
     "execution_count": 9,
     "metadata": {},
     "output_type": "execute_result"
    }
   ],
   "source": [
    "from sklearn.metrics import r2_score\n",
    "r2_score(y_test, y_pred)"
   ]
  },
  {
   "cell_type": "markdown",
   "id": "df9ff393",
   "metadata": {},
   "source": [
    "https://stats.stackexchange.com/questions/12900/when-is-r-squared-negative\n",
    "\n",
    "R2  compares the fit of the chosen model with that of a horizontal straight line (the null hypothesis). If the chosen model fits worse than a horizontal line, then R2 is negative. Note that R2 is not always the square of anything, so it can have a negative value without violating any rules of math. R2 is negative only when the chosen model does not follow the trend of the data, so fits worse than a horizontal line.\n",
    "\n",
    "Example: fit data to a linear regression model constrained so that the Y intercept must equal 1500.\n",
    "\n",
    "enter image description here\n",
    "\n",
    "The model makes no sense at all given these data. It is clearly the wrong model, perhaps chosen by accident.\n",
    "\n",
    "The fit of the model (a straight line constrained to go through the point (0,1500)) is worse than the fit of a horizontal line. Thus the sum-of-squares from the model (SSres) is larger than the sum-of-squares from the horizontal line (SStot).\n",
    "\n",
    "If R2 is computed as 1−SSresSStot. (here, SSres = residual error.)\n",
    "When SSres is greater than SStot, that equation could compute a negative value for R2, if the value of the coeficient is greater than 1.\n",
    "\n",
    "With linear regression with no constraints, R2 must be positive (or zero) and equals the square of the correlation coefficient, r. A negative R2 is only possible with linear regression when either the intercept or the slope are constrained so that the \"best-fit\" line (given the constraint) fits worse than a horizontal line. With nonlinear regression, the R2 can be negative whenever the best-fit model (given the chosen equation, and its constraints, if any) fits the data worse than a horizontal line.\n",
    "\n",
    "Bottom line: a negative R2 is not a mathematical impossibility or the sign of a computer bug. It simply means that the chosen model (with its constraints) fits the data really poorly."
   ]
  },
  {
   "cell_type": "code",
   "execution_count": 10,
   "id": "515e04be",
   "metadata": {},
   "outputs": [],
   "source": [
    "from pathlib import Path\n",
    "import pandas as pd\n",
    "import numpy as np\n",
    "import matplotlib.pyplot as plt"
   ]
  },
  {
   "cell_type": "code",
   "execution_count": 11,
   "id": "89890579",
   "metadata": {},
   "outputs": [
    {
     "data": {
      "text/html": [
       "<div>\n",
       "<style scoped>\n",
       "    .dataframe tbody tr th:only-of-type {\n",
       "        vertical-align: middle;\n",
       "    }\n",
       "\n",
       "    .dataframe tbody tr th {\n",
       "        vertical-align: top;\n",
       "    }\n",
       "\n",
       "    .dataframe thead th {\n",
       "        text-align: right;\n",
       "    }\n",
       "</style>\n",
       "<table border=\"1\" class=\"dataframe\">\n",
       "  <thead>\n",
       "    <tr style=\"text-align: right;\">\n",
       "      <th></th>\n",
       "      <th>order_name</th>\n",
       "      <th>family_name</th>\n",
       "      <th>datetime</th>\n",
       "      <th>individuals</th>\n",
       "      <th>tempmax</th>\n",
       "      <th>tempmin</th>\n",
       "      <th>temp_daily</th>\n",
       "      <th>humidity</th>\n",
       "    </tr>\n",
       "  </thead>\n",
       "  <tbody>\n",
       "    <tr>\n",
       "      <th>0</th>\n",
       "      <td>COLEOPTERA</td>\n",
       "      <td>CARABIDAE</td>\n",
       "      <td>2003-07-20</td>\n",
       "      <td>2</td>\n",
       "      <td>76.9</td>\n",
       "      <td>60.9</td>\n",
       "      <td>69.9</td>\n",
       "      <td>69.9</td>\n",
       "    </tr>\n",
       "    <tr>\n",
       "      <th>1</th>\n",
       "      <td>COLEOPTERA</td>\n",
       "      <td>CARABIDAE</td>\n",
       "      <td>2000-06-21</td>\n",
       "      <td>3</td>\n",
       "      <td>86.0</td>\n",
       "      <td>64.1</td>\n",
       "      <td>75.6</td>\n",
       "      <td>67.5</td>\n",
       "    </tr>\n",
       "    <tr>\n",
       "      <th>2</th>\n",
       "      <td>COLEOPTERA</td>\n",
       "      <td>CARABIDAE</td>\n",
       "      <td>2007-06-10</td>\n",
       "      <td>1</td>\n",
       "      <td>81.7</td>\n",
       "      <td>60.4</td>\n",
       "      <td>71.9</td>\n",
       "      <td>55.4</td>\n",
       "    </tr>\n",
       "    <tr>\n",
       "      <th>3</th>\n",
       "      <td>COLEOPTERA</td>\n",
       "      <td>CARABIDAE</td>\n",
       "      <td>1992-07-02</td>\n",
       "      <td>1</td>\n",
       "      <td>71.2</td>\n",
       "      <td>58.8</td>\n",
       "      <td>65.5</td>\n",
       "      <td>59.2</td>\n",
       "    </tr>\n",
       "    <tr>\n",
       "      <th>4</th>\n",
       "      <td>COLEOPTERA</td>\n",
       "      <td>CARABIDAE</td>\n",
       "      <td>1993-05-23</td>\n",
       "      <td>1</td>\n",
       "      <td>73.3</td>\n",
       "      <td>55.2</td>\n",
       "      <td>63.3</td>\n",
       "      <td>66.8</td>\n",
       "    </tr>\n",
       "  </tbody>\n",
       "</table>\n",
       "</div>"
      ],
      "text/plain": [
       "   order_name family_name    datetime  individuals  tempmax  tempmin  \\\n",
       "0  COLEOPTERA   CARABIDAE  2003-07-20            2     76.9     60.9   \n",
       "1  COLEOPTERA   CARABIDAE  2000-06-21            3     86.0     64.1   \n",
       "2  COLEOPTERA   CARABIDAE  2007-06-10            1     81.7     60.4   \n",
       "3  COLEOPTERA   CARABIDAE  1992-07-02            1     71.2     58.8   \n",
       "4  COLEOPTERA   CARABIDAE  1993-05-23            1     73.3     55.2   \n",
       "\n",
       "   temp_daily  humidity  \n",
       "0        69.9      69.9  \n",
       "1        75.6      67.5  \n",
       "2        71.9      55.4  \n",
       "3        65.5      59.2  \n",
       "4        63.3      66.8  "
      ]
     },
     "execution_count": 11,
     "metadata": {},
     "output_type": "execute_result"
    }
   ],
   "source": [
    "#data = Path('./Resources/combined_data.csv')\n",
    "data = Path('./Resources/topfive_coleoptera.csv')\n",
    "df = pd.read_csv(data)\n",
    "df.head()"
   ]
  },
  {
   "cell_type": "code",
   "execution_count": 12,
   "id": "cccf3642",
   "metadata": {},
   "outputs": [],
   "source": [
    "# Segment the features from the target\n",
    "y = df[\"individuals\"]\n",
    "#X = df.drop(columns=[\"order_name\", \"family_name\", \"datetime\", \"individuals\", \"tempmax\",\"tempmin\"])\n",
    "X = df.drop(columns=[\"order_name\", \"family_name\", \"datetime\", \"individuals\", \"tempmax\",\"tempmin\", \"temp_daily\"])"
   ]
  },
  {
   "cell_type": "code",
   "execution_count": 13,
   "id": "33f69c95",
   "metadata": {},
   "outputs": [
    {
     "data": {
      "text/plain": [
       "(3125, 1)"
      ]
     },
     "execution_count": 13,
     "metadata": {},
     "output_type": "execute_result"
    }
   ],
   "source": [
    "# Use the train_test_split function to create training and testing subsets\n",
    "from sklearn.model_selection import train_test_split\n",
    "\n",
    "X_train, X_test, y_train, y_test = train_test_split(X, y,test_size=0.2, random_state=42)\n",
    "X_train.shape"
   ]
  },
  {
   "cell_type": "code",
   "execution_count": 14,
   "id": "58388e97",
   "metadata": {},
   "outputs": [
    {
     "data": {
      "text/plain": [
       "RandomForestRegressor(n_estimators=10, random_state=0)"
      ]
     },
     "execution_count": 14,
     "metadata": {},
     "output_type": "execute_result"
    }
   ],
   "source": [
    "from sklearn.ensemble import RandomForestRegressor\n",
    "regressor = RandomForestRegressor(n_estimators= 10, random_state= 0)\n",
    "regressor.fit(X_train, y_train)"
   ]
  },
  {
   "cell_type": "code",
   "execution_count": 15,
   "id": "2a421aad",
   "metadata": {},
   "outputs": [
    {
     "data": {
      "text/plain": [
       "array([ 2.92367602,  5.10590059, 10.70725284,  6.7400091 ,  6.03571429,\n",
       "        1.85871856,  1.        , 29.13853353, 10.87192818,  2.1518254 ,\n",
       "        1.34833333,  1.21595238,  5.28420776,  2.16249452,  2.41090909,\n",
       "        3.7924529 , 11.9312909 , 14.51328801, 10.3869697 ,  4.63199758,\n",
       "        2.59964286,  3.63495169,  2.14606643,  2.96575304,  4.1065873 ,\n",
       "        3.48722222,  4.63199758,  1.68453297,  1.58333333,  2.93061811,\n",
       "        3.12888008,  2.14606643,  3.91029824, 14.51328801,  4.45776769,\n",
       "        2.16249452,  6.36377178,  1.68453297, 10.70725284,  4.75525021,\n",
       "        8.88527545,  4.25475685,  3.39280303,  9.11387013,  4.42524869,\n",
       "        2.16249452,  7.12461035,  2.62797619,  2.02332321,  4.24344017,\n",
       "        2.84      , 10.70725284, 44.61980544,  5.10590059,  1.21595238,\n",
       "       10.48928571,  2.77930597, 10.48928571,  2.02332321,  4.16806429,\n",
       "        6.51301126,  4.29607287,  4.33825033,  4.45776769,  4.74859818,\n",
       "        9.11387013,  6.26557441,  1.95527778,  2.87026144,  2.1518254 ,\n",
       "        5.10590059,  1.60674603, 16.60111111,  3.7924529 , 17.58991249,\n",
       "        4.99237613,  3.54094572, 14.49047619,  5.4234127 ,  3.48722222,\n",
       "        6.51301126,  3.22364223,  1.68453297,  4.08988094,  2.51666667,\n",
       "        2.98333333,  5.15210933, 14.49047619,  4.33825033,  4.29607287,\n",
       "        4.12267521,  3.07808266,  3.91029824,  3.41620585,  3.67666667,\n",
       "       11.42576798,  3.00310686,  2.77930597, 11.9312909 ,  1.        ,\n",
       "       10.70725284,  1.        ,  6.03288293,  1.        ,  3.54415085,\n",
       "       10.01603364,  3.12888008, 11.9312909 ,  3.16064872,  4.08988094,\n",
       "        4.75525021,  3.63495169,  3.7924529 , 14.60395511, 11.9312909 ,\n",
       "        4.42524869,  3.22364223,  4.24344017,  4.4640873 , 14.49047619,\n",
       "        5.28333333,  6.03896603,  7.37761075,  3.17592802,  1.        ,\n",
       "        5.85634921,  2.77930597,  8.64197052, 10.64493692,  1.8032906 ,\n",
       "        3.66718105, 29.13853353,  8.23781109,  5.15112479,  4.29607287,\n",
       "        1.85871856,  5.15      , 10.70725284, 16.43839296, 10.64493692,\n",
       "       29.13853353,  5.28420776,  4.53036797, 11.42576798, 10.53396825,\n",
       "       11.9312909 ,  4.12267521,  4.12267521, 14.60395511,  7.91263942,\n",
       "        1.        ,  2.41090909,  7.11971898,  2.65350762,  2.81816427,\n",
       "        6.36377178, 10.64493692, 10.64493692,  2.41488095,  1.425     ,\n",
       "        2.65350762, 10.01603364,  3.11590602,  4.33825033,  4.16806429,\n",
       "        1.76640054, 10.59575905, 44.61980544,  3.12888008, 23.99258722,\n",
       "       10.64493692,  7.98214286,  4.29607287,  3.07808266,  1.44821429,\n",
       "        6.7400091 , 10.48928571, 10.01603364, 14.51328801, 10.59575905,\n",
       "        2.05162698, 10.01603364, 10.70725284,  1.        ,  2.05162698,\n",
       "        4.58239705,  4.29607287, 17.60198333,  5.11279915,  5.10590059,\n",
       "        5.31106494,  2.69      ,  2.41090909, 43.38523015,  3.91029824,\n",
       "        4.12267521,  2.16249452, 11.42576798,  6.27222222,  4.63199758,\n",
       "        2.43333333,  2.96575304,  6.7400091 ,  4.33825033, 11.42576798,\n",
       "        6.03896603,  6.03288293,  6.51301126,  4.45776769,  2.81816427,\n",
       "        2.02332321,  7.98214286,  1.72159091,  2.1518254 ,  1.11444444,\n",
       "        1.68453297,  4.63199758,  4.63199758,  2.10871212,  4.13024453,\n",
       "        4.377664  ,  3.48830753,  8.88527545,  3.8208547 ,  4.42524869,\n",
       "        1.21595238, 43.38523015,  2.16249452, 29.13853353,  6.7400091 ,\n",
       "        2.81816427,  4.18177754,  7.98214286,  4.25475685, 17.58991249,\n",
       "       10.59575905, 17.58991249,  2.18333333,  3.54415085,  2.77930597,\n",
       "        3.91029824, 23.99258722, 10.48928571,  3.7924529 ,  1.60674603,\n",
       "        2.33909091,  3.63495169,  4.63199758,  1.51666667,  4.78093214,\n",
       "        3.12888008,  2.28540333, 14.51328801,  2.77583333,  6.64319095,\n",
       "        5.85634921,  3.7924529 ,  1.21595238,  2.92367602, 10.59575905,\n",
       "        1.325     ,  7.9089795 ,  7.9089795 ,  2.77583333,  1.9094697 ,\n",
       "        4.18177754,  3.53333333,  1.86130952,  4.4640873 ,  4.03541676,\n",
       "        4.25475685,  2.57460317, 10.01603364,  5.85634921,  2.28540333,\n",
       "       17.58991249,  1.34833333, 10.64493692,  2.05162698,  5.10528319,\n",
       "        2.43666667, 29.13853353,  2.28540333, 29.13853353,  3.23677759,\n",
       "       14.60395511,  4.42524869,  7.9089795 , 10.64493692,  6.20113636,\n",
       "        4.75525021,  5.31106494,  1.4       ,  2.05162698,  5.31106494,\n",
       "        5.4234127 ,  4.69930556,  4.05041209,  2.77930597,  3.67      ,\n",
       "        3.66718105,  4.12267521,  1.83666667,  1.30801587,  4.29607287,\n",
       "        6.32      ,  2.85      ,  4.22116959,  3.7924529 ,  4.20487637,\n",
       "        2.98333333,  2.96575304,  4.29607287,  5.63837218,  1.68453297,\n",
       "        4.63199758,  2.41090909,  9.11387013,  1.325     ,  1.51555556,\n",
       "        3.23677759,  6.21897412, 16.60111111, 44.61980544,  3.12888008,\n",
       "        5.28420776,  1.        ,  4.74859818,  4.25475685, 16.60111111,\n",
       "       29.13853353,  1.68453297, 10.64493692,  3.41620585,  5.28420776,\n",
       "        4.74859818,  2.05162698,  1.585     ,  4.29607287,  3.12888008,\n",
       "        5.15112479,  1.95909091,  6.51301126,  2.28540333,  3.41620585,\n",
       "        3.12888008,  3.48722222,  5.90816872,  3.12888008,  6.03896603,\n",
       "        5.77166667,  4.1065873 ,  5.31106494,  2.77583333,  6.03288293,\n",
       "        1.76640054,  1.4       , 10.87192818,  2.77930597, 16.43839296,\n",
       "       16.60111111,  1.30666667,  1.60674603, 10.64493692,  4.33825033,\n",
       "        4.29607287,  6.64319095,  3.39280303, 10.64493692, 17.58991249,\n",
       "        4.29607287,  4.08988094,  6.7400091 ,  6.03896603, 14.51328801,\n",
       "        2.85714286,  6.20113636, 17.52838371, 17.58991249,  2.98333333,\n",
       "        3.54094572, 10.87192818,  4.75525021,  1.86130952,  3.43186203,\n",
       "        3.73190476,  2.65350762,  3.23677759,  8.23781109,  3.39280303,\n",
       "        3.39280303, 14.51328801,  3.23677759,  1.30801587,  4.74859818,\n",
       "        2.77583333, 10.59575905,  1.86130952,  3.63495169, 17.60198333,\n",
       "        3.22364223,  1.41666667, 14.51328801, 43.38523015,  3.23677759,\n",
       "        6.03288293,  1.88416667,  6.21897412,  5.10590059,  5.11279915,\n",
       "        4.18177754, 10.01603364, 16.43839296,  5.10528319, 16.43839296,\n",
       "       17.60198333,  5.11279915,  4.05041209,  3.43186203,  3.7924529 ,\n",
       "        3.16064872, 11.9312909 ,  5.63676534,  4.74859818, 11.9312909 ,\n",
       "       10.3869697 ,  5.74288421,  2.14606643,  1.30801587,  3.23677759,\n",
       "        2.81816427,  4.63199758,  6.03288293,  4.63199758,  3.63495169,\n",
       "       17.52838371,  4.75525021,  5.74288421, 14.51328801,  1.41666667,\n",
       "        1.34833333,  3.00310686, 17.60198333,  3.7924529 ,  3.63495169,\n",
       "        3.12888008,  1.51      , 11.9312909 ,  7.12461035,  8.23781109,\n",
       "        5.51892094,  6.7400091 ,  2.04631313,  5.90816872,  2.85714286,\n",
       "       17.52838371,  6.51301126,  5.82285714,  4.08988094,  2.92367602,\n",
       "        2.87026144,  1.4       ,  5.74288421,  2.14606643,  1.68453297,\n",
       "        3.54094572,  7.12461035, 10.01603364,  2.62797619,  2.15938742,\n",
       "        2.14606643,  2.9620299 ,  2.65506026,  5.10590059,  3.48830753,\n",
       "       11.9312909 ,  4.29607287,  1.75714286,  9.11387013,  6.20113636,\n",
       "       10.64493692, 29.13853353,  4.12267521,  2.92367602,  4.63199758,\n",
       "        3.54415085,  6.03896603,  4.33825033,  2.43666667,  2.14606643,\n",
       "        4.65666667,  1.05      ,  1.        , 29.13853353,  8.88527545,\n",
       "       10.64493692,  8.88527545,  1.59166667,  7.91263942,  5.51892094,\n",
       "        1.95527778,  2.50123377, 10.48928571,  3.23677759,  3.12888008,\n",
       "       10.01603364,  4.29607287,  7.12461035,  3.41620585,  1.72159091,\n",
       "        1.43085555,  3.54094572,  2.04631313,  2.77930597,  4.4640873 ,\n",
       "        4.29607287,  5.82285714,  2.65506026,  4.08988094, 10.64493692,\n",
       "        1.11444444,  4.78093214, 14.60395511,  1.        ,  3.23677759,\n",
       "        2.43666667,  2.87026144,  3.22364223,  3.16064872,  1.9094697 ,\n",
       "       11.42576798,  4.16806429, 10.53396825,  4.69930556,  2.65350762,\n",
       "        5.08917194,  5.28420776,  4.29607287,  6.21897412,  5.51892094,\n",
       "        2.85714286,  1.11444444,  3.67      ,  7.0658657 ,  8.23781109,\n",
       "        1.        ,  5.90816872,  2.62797619, 14.60395511,  1.60674603,\n",
       "        4.12267521, 44.61980544,  2.14606643,  3.43186203,  3.07808266,\n",
       "        4.69930556,  6.10111111,  5.28420776,  2.15938742,  5.10528319,\n",
       "        3.39280303,  7.91263942,  6.03288293,  2.1502083 ,  3.19198906,\n",
       "        2.81816427, 10.70725284,  4.377664  ,  1.88416667,  1.68453297,\n",
       "        4.45776769, 10.53396825,  2.1502083 ,  1.44821429,  6.10111111,\n",
       "       23.99258722,  4.25475685, 10.59575905,  3.17087719,  1.85871856,\n",
       "        4.25475685,  6.10111111,  5.10528319, 10.59575905,  7.99472721,\n",
       "        2.33909091,  4.03541676,  3.63495169, 10.3869697 , 11.9312909 ,\n",
       "        2.92367602,  3.17361111,  3.23677759,  4.45776769,  7.12461035,\n",
       "       17.58991249, 10.59575905,  1.09047619,  7.99472721,  7.12461035,\n",
       "        6.03896603,  4.22116959,  1.44138528,  2.92367602, 17.52838371,\n",
       "       17.52838371,  1.34833333,  6.10111111,  3.66718105, 44.61980544,\n",
       "        4.1065873 ,  9.11387013,  6.7400091 ,  5.10590059,  2.65506026,\n",
       "        4.63199758,  2.14606643,  2.87026144, 10.59575905,  4.18177754,\n",
       "       10.87192818,  2.65350762, 10.48928571,  6.03288293,  1.8032906 ,\n",
       "        2.81816427,  5.15112479, 10.59575905,  3.91029824,  5.82285714,\n",
       "        6.03288293,  4.265     ,  4.53036797,  4.69930556,  9.11387013,\n",
       "        4.29607287,  2.15938742, 20.46245473,  2.14606643,  2.15938742,\n",
       "        4.08988094,  3.41620585,  1.88416667,  2.1518254 ,  2.65506026,\n",
       "        1.30666667, 10.70725284,  7.12461035, 20.46245473,  3.07808266,\n",
       "       10.59575905,  5.28420776, 10.64493692,  3.17592802,  3.07808266,\n",
       "        4.1065873 ,  6.21897412, 23.99258722, 29.13853353,  2.1502083 ,\n",
       "        4.05041209,  5.90816872,  4.08988094,  4.29607287,  7.12461035,\n",
       "        2.4       , 14.51328801,  1.68453297,  1.44689794,  3.11590602,\n",
       "        5.90816872,  9.11387013,  5.63837218,  2.77930597, 11.9312909 ,\n",
       "       23.99258722,  2.10871212,  6.20113636,  1.83666667,  4.74859818,\n",
       "        2.87026144,  2.43333333,  3.06341991, 11.42576798,  5.15112479,\n",
       "        2.65350762,  5.90816872,  3.23677759,  1.        , 10.64493692,\n",
       "        4.74859818,  3.22364223,  7.0658657 ,  5.85634921,  1.76640054,\n",
       "        1.        ,  3.17087719,  2.62797619,  3.23677759,  7.98214286,\n",
       "       23.99258722,  9.11387013,  3.73333333,  1.60674603,  5.10590059,\n",
       "        1.44138528,  4.29607287,  3.73190476,  2.65350762, 43.38523015,\n",
       "        2.14606643,  1.72159091, 23.99258722,  3.11590602,  3.16064872,\n",
       "        5.90816872,  2.10871212,  6.7400091 ,  1.51555556,  7.12461035,\n",
       "        6.03288293,  2.14606643, 10.87192818,  3.97359307,  2.16249452,\n",
       "        2.50123377,  1.        ,  4.377664  , 17.58991249,  2.77930597,\n",
       "       17.52838371,  1.3       ,  6.03896603,  2.02332321, 16.43839296,\n",
       "       17.52838371, 10.64493692,  1.44689794,  1.28666667,  8.88527545,\n",
       "       11.9312909 ,  3.41620585,  4.265     ,  4.22116959,  2.65506026,\n",
       "        3.39280303, 10.70725284,  6.32      ,  4.99237613,  7.37761075,\n",
       "        7.99472721,  5.90816872,  2.1502083 ,  3.12888008,  3.48830753,\n",
       "        3.48830753,  6.36377178, 23.99258722, 10.64493692,  2.14606643,\n",
       "       43.38523015,  2.5       ,  3.41620585,  5.10590059,  3.12888008,\n",
       "        2.25404762,  3.63495169, 17.60198333, 10.48928571,  2.10871212,\n",
       "        4.12267521,  3.23677759, 10.01603364,  9.11387013,  5.15112479,\n",
       "        3.23677759,  1.30666667,  6.03288293,  6.26557441,  3.16064872,\n",
       "       10.64493692,  2.43666667])"
      ]
     },
     "execution_count": 15,
     "metadata": {},
     "output_type": "execute_result"
    }
   ],
   "source": [
    "y_pred = regressor.predict(X_test)\n",
    "\n",
    "y_pred"
   ]
  },
  {
   "cell_type": "code",
   "execution_count": 16,
   "id": "367727e2",
   "metadata": {},
   "outputs": [
    {
     "data": {
      "text/plain": [
       "-0.08585033350866156"
      ]
     },
     "execution_count": 16,
     "metadata": {},
     "output_type": "execute_result"
    }
   ],
   "source": [
    "from sklearn.metrics import r2_score\n",
    "r2_score(y_test, y_pred)"
   ]
  },
  {
   "cell_type": "markdown",
   "id": "df9ff393",
   "metadata": {},
   "source": [
    "https://stats.stackexchange.com/questions/12900/when-is-r-squared-negative\n",
    "\n",
    "R2  compares the fit of the chosen model with that of a horizontal straight line (the null hypothesis). If the chosen model fits worse than a horizontal line, then R2 is negative. Note that R2 is not always the square of anything, so it can have a negative value without violating any rules of math. R2 is negative only when the chosen model does not follow the trend of the data, so fits worse than a horizontal line.\n",
    "\n",
    "Example: fit data to a linear regression model constrained so that the Y intercept must equal 1500.\n",
    "\n",
    "enter image description here\n",
    "\n",
    "The model makes no sense at all given these data. It is clearly the wrong model, perhaps chosen by accident.\n",
    "\n",
    "The fit of the model (a straight line constrained to go through the point (0,1500)) is worse than the fit of a horizontal line. Thus the sum-of-squares from the model (SSres) is larger than the sum-of-squares from the horizontal line (SStot).\n",
    "\n",
    "If R2 is computed as 1−SSresSStot. (here, SSres = residual error.)\n",
    "When SSres is greater than SStot, that equation could compute a negative value for R2, if the value of the coeficient is greater than 1.\n",
    "\n",
    "With linear regression with no constraints, R2 must be positive (or zero) and equals the square of the correlation coefficient, r. A negative R2 is only possible with linear regression when either the intercept or the slope are constrained so that the \"best-fit\" line (given the constraint) fits worse than a horizontal line. With nonlinear regression, the R2 can be negative whenever the best-fit model (given the chosen equation, and its constraints, if any) fits the data worse than a horizontal line.\n",
    "\n",
    "Bottom line: a negative R2 is not a mathematical impossibility or the sign of a computer bug. It simply means that the chosen model (with its constraints) fits the data really poorly."
   ]
  },
  {
   "cell_type": "code",
   "execution_count": 17,
   "id": "515e04be",
   "metadata": {},
   "outputs": [],
   "source": [
    "from pathlib import Path\n",
    "import pandas as pd\n",
    "import numpy as np\n",
    "import matplotlib.pyplot as plt"
   ]
  },
  {
   "cell_type": "code",
   "execution_count": 18,
   "id": "89890579",
   "metadata": {},
   "outputs": [
    {
     "data": {
      "text/html": [
       "<div>\n",
       "<style scoped>\n",
       "    .dataframe tbody tr th:only-of-type {\n",
       "        vertical-align: middle;\n",
       "    }\n",
       "\n",
       "    .dataframe tbody tr th {\n",
       "        vertical-align: top;\n",
       "    }\n",
       "\n",
       "    .dataframe thead th {\n",
       "        text-align: right;\n",
       "    }\n",
       "</style>\n",
       "<table border=\"1\" class=\"dataframe\">\n",
       "  <thead>\n",
       "    <tr style=\"text-align: right;\">\n",
       "      <th></th>\n",
       "      <th>order_name</th>\n",
       "      <th>family_name</th>\n",
       "      <th>datetime</th>\n",
       "      <th>individuals</th>\n",
       "      <th>tempmax</th>\n",
       "      <th>tempmin</th>\n",
       "      <th>temp_daily</th>\n",
       "      <th>humidity</th>\n",
       "    </tr>\n",
       "  </thead>\n",
       "  <tbody>\n",
       "    <tr>\n",
       "      <th>0</th>\n",
       "      <td>LEPIDOPTERA</td>\n",
       "      <td>GEOMETRIDAE</td>\n",
       "      <td>1995-06-25</td>\n",
       "      <td>4</td>\n",
       "      <td>77.1</td>\n",
       "      <td>56.0</td>\n",
       "      <td>67.4</td>\n",
       "      <td>60.0</td>\n",
       "    </tr>\n",
       "    <tr>\n",
       "      <th>1</th>\n",
       "      <td>LEPIDOPTERA</td>\n",
       "      <td>GEOMETRIDAE</td>\n",
       "      <td>1995-06-27</td>\n",
       "      <td>3</td>\n",
       "      <td>69.9</td>\n",
       "      <td>57.3</td>\n",
       "      <td>63.7</td>\n",
       "      <td>54.5</td>\n",
       "    </tr>\n",
       "    <tr>\n",
       "      <th>2</th>\n",
       "      <td>LEPIDOPTERA</td>\n",
       "      <td>GEOMETRIDAE</td>\n",
       "      <td>2006-07-20</td>\n",
       "      <td>1</td>\n",
       "      <td>82.4</td>\n",
       "      <td>66.1</td>\n",
       "      <td>73.8</td>\n",
       "      <td>68.3</td>\n",
       "    </tr>\n",
       "    <tr>\n",
       "      <th>3</th>\n",
       "      <td>LEPIDOPTERA</td>\n",
       "      <td>GEOMETRIDAE</td>\n",
       "      <td>2006-06-13</td>\n",
       "      <td>1</td>\n",
       "      <td>79.6</td>\n",
       "      <td>59.9</td>\n",
       "      <td>71.1</td>\n",
       "      <td>55.6</td>\n",
       "    </tr>\n",
       "    <tr>\n",
       "      <th>4</th>\n",
       "      <td>LEPIDOPTERA</td>\n",
       "      <td>GEOMETRIDAE</td>\n",
       "      <td>1995-07-17</td>\n",
       "      <td>1</td>\n",
       "      <td>71.5</td>\n",
       "      <td>59.1</td>\n",
       "      <td>65.1</td>\n",
       "      <td>73.8</td>\n",
       "    </tr>\n",
       "  </tbody>\n",
       "</table>\n",
       "</div>"
      ],
      "text/plain": [
       "    order_name  family_name    datetime  individuals  tempmax  tempmin  \\\n",
       "0  LEPIDOPTERA  GEOMETRIDAE  1995-06-25            4     77.1     56.0   \n",
       "1  LEPIDOPTERA  GEOMETRIDAE  1995-06-27            3     69.9     57.3   \n",
       "2  LEPIDOPTERA  GEOMETRIDAE  2006-07-20            1     82.4     66.1   \n",
       "3  LEPIDOPTERA  GEOMETRIDAE  2006-06-13            1     79.6     59.9   \n",
       "4  LEPIDOPTERA  GEOMETRIDAE  1995-07-17            1     71.5     59.1   \n",
       "\n",
       "   temp_daily  humidity  \n",
       "0        67.4      60.0  \n",
       "1        63.7      54.5  \n",
       "2        73.8      68.3  \n",
       "3        71.1      55.6  \n",
       "4        65.1      73.8  "
      ]
     },
     "execution_count": 18,
     "metadata": {},
     "output_type": "execute_result"
    }
   ],
   "source": [
    "#data = Path('./Resources/combined_data.csv')\n",
    "data = Path('./Resources/topfive_lepidoptera.csv')\n",
    "df = pd.read_csv(data)\n",
    "df.head()"
   ]
  },
  {
   "cell_type": "code",
   "execution_count": 19,
   "id": "cccf3642",
   "metadata": {},
   "outputs": [],
   "source": [
    "# Segment the features from the target\n",
    "y = df[\"individuals\"]\n",
    "#X = df.drop(columns=[\"order_name\", \"family_name\", \"datetime\", \"individuals\", \"tempmax\",\"tempmin\"])\n",
    "X = df.drop(columns=[\"order_name\", \"family_name\", \"datetime\", \"individuals\", \"tempmax\",\"tempmin\", \"temp_daily\"])"
   ]
  },
  {
   "cell_type": "code",
   "execution_count": 20,
   "id": "33f69c95",
   "metadata": {},
   "outputs": [
    {
     "data": {
      "text/plain": [
       "(21800, 1)"
      ]
     },
     "execution_count": 20,
     "metadata": {},
     "output_type": "execute_result"
    }
   ],
   "source": [
    "# Use the train_test_split function to create training and testing subsets\n",
    "from sklearn.model_selection import train_test_split\n",
    "\n",
    "X_train, X_test, y_train, y_test = train_test_split(X, y,test_size=0.2, random_state=42)\n",
    "X_train.shape"
   ]
  },
  {
   "cell_type": "code",
   "execution_count": 21,
   "id": "58388e97",
   "metadata": {},
   "outputs": [
    {
     "data": {
      "text/plain": [
       "RandomForestRegressor(n_estimators=10, random_state=0)"
      ]
     },
     "execution_count": 21,
     "metadata": {},
     "output_type": "execute_result"
    }
   ],
   "source": [
    "from sklearn.ensemble import RandomForestRegressor\n",
    "regressor = RandomForestRegressor(n_estimators= 10, random_state= 0)\n",
    "regressor.fit(X_train, y_train)"
   ]
  },
  {
   "cell_type": "code",
   "execution_count": 22,
   "id": "2a421aad",
   "metadata": {},
   "outputs": [
    {
     "data": {
      "text/plain": [
       "array([5.34970746, 3.86650165, 5.97984725, ..., 4.13892474, 4.50068853,\n",
       "       6.8444261 ])"
      ]
     },
     "execution_count": 22,
     "metadata": {},
     "output_type": "execute_result"
    }
   ],
   "source": [
    "y_pred = regressor.predict(X_test)\n",
    "\n",
    "y_pred"
   ]
  },
  {
   "cell_type": "code",
   "execution_count": 23,
   "id": "367727e2",
   "metadata": {},
   "outputs": [
    {
     "data": {
      "text/plain": [
       "-0.010469840579926837"
      ]
     },
     "execution_count": 23,
     "metadata": {},
     "output_type": "execute_result"
    }
   ],
   "source": [
    "from sklearn.metrics import r2_score\n",
    "r2_score(y_test, y_pred)"
   ]
  },
  {
   "cell_type": "markdown",
   "id": "df9ff393",
   "metadata": {},
   "source": [
    "https://stats.stackexchange.com/questions/12900/when-is-r-squared-negative\n",
    "\n",
    "R2  compares the fit of the chosen model with that of a horizontal straight line (the null hypothesis). If the chosen model fits worse than a horizontal line, then R2 is negative. Note that R2 is not always the square of anything, so it can have a negative value without violating any rules of math. R2 is negative only when the chosen model does not follow the trend of the data, so fits worse than a horizontal line.\n",
    "\n",
    "Example: fit data to a linear regression model constrained so that the Y intercept must equal 1500.\n",
    "\n",
    "enter image description here\n",
    "\n",
    "The model makes no sense at all given these data. It is clearly the wrong model, perhaps chosen by accident.\n",
    "\n",
    "The fit of the model (a straight line constrained to go through the point (0,1500)) is worse than the fit of a horizontal line. Thus the sum-of-squares from the model (SSres) is larger than the sum-of-squares from the horizontal line (SStot).\n",
    "\n",
    "If R2 is computed as 1−SSresSStot. (here, SSres = residual error.)\n",
    "When SSres is greater than SStot, that equation could compute a negative value for R2, if the value of the coeficient is greater than 1.\n",
    "\n",
    "With linear regression with no constraints, R2 must be positive (or zero) and equals the square of the correlation coefficient, r. A negative R2 is only possible with linear regression when either the intercept or the slope are constrained so that the \"best-fit\" line (given the constraint) fits worse than a horizontal line. With nonlinear regression, the R2 can be negative whenever the best-fit model (given the chosen equation, and its constraints, if any) fits the data worse than a horizontal line.\n",
    "\n",
    "Bottom line: a negative R2 is not a mathematical impossibility or the sign of a computer bug. It simply means that the chosen model (with its constraints) fits the data really poorly."
   ]
  }
 ],
 "metadata": {
  "kernelspec": {
   "display_name": "mlenv",
   "language": "python",
   "name": "mlenv"
  },
  "language_info": {
   "codemirror_mode": {
    "name": "ipython",
    "version": 3
   },
   "file_extension": ".py",
   "mimetype": "text/x-python",
   "name": "python",
   "nbconvert_exporter": "python",
   "pygments_lexer": "ipython3",
   "version": "3.7.15"
  }
 },
 "nbformat": 4,
 "nbformat_minor": 5
}
