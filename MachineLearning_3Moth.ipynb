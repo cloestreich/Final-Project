{
 "cells": [
  {
   "cell_type": "code",
   "execution_count": 10,
   "id": "515e04be",
   "metadata": {},
   "outputs": [],
   "source": [
    "from pathlib import Path\n",
    "import pandas as pd\n",
    "import numpy as np\n",
    "import matplotlib.pyplot as plt"
   ]
  },
  {
   "cell_type": "code",
   "execution_count": 9,
   "id": "89890579",
   "metadata": {},
   "outputs": [
    {
     "data": {
      "text/html": [
       "<div>\n",
       "<style scoped>\n",
       "    .dataframe tbody tr th:only-of-type {\n",
       "        vertical-align: middle;\n",
       "    }\n",
       "\n",
       "    .dataframe tbody tr th {\n",
       "        vertical-align: top;\n",
       "    }\n",
       "\n",
       "    .dataframe thead th {\n",
       "        text-align: right;\n",
       "    }\n",
       "</style>\n",
       "<table border=\"1\" class=\"dataframe\">\n",
       "  <thead>\n",
       "    <tr style=\"text-align: right;\">\n",
       "      <th></th>\n",
       "      <th>order_name</th>\n",
       "      <th>family_name</th>\n",
       "      <th>datetime</th>\n",
       "      <th>individuals</th>\n",
       "      <th>tempmax</th>\n",
       "      <th>tempmin</th>\n",
       "      <th>temp_daily</th>\n",
       "      <th>humidity</th>\n",
       "    </tr>\n",
       "  </thead>\n",
       "  <tbody>\n",
       "    <tr>\n",
       "      <th>0</th>\n",
       "      <td>LEPIDOPTERA</td>\n",
       "      <td>GEOMETRIDAE</td>\n",
       "      <td>1995-06-25</td>\n",
       "      <td>4</td>\n",
       "      <td>77.1</td>\n",
       "      <td>56.0</td>\n",
       "      <td>67.4</td>\n",
       "      <td>60.0</td>\n",
       "    </tr>\n",
       "    <tr>\n",
       "      <th>1</th>\n",
       "      <td>LEPIDOPTERA</td>\n",
       "      <td>GEOMETRIDAE</td>\n",
       "      <td>1995-06-27</td>\n",
       "      <td>3</td>\n",
       "      <td>69.9</td>\n",
       "      <td>57.3</td>\n",
       "      <td>63.7</td>\n",
       "      <td>54.5</td>\n",
       "    </tr>\n",
       "    <tr>\n",
       "      <th>2</th>\n",
       "      <td>LEPIDOPTERA</td>\n",
       "      <td>GEOMETRIDAE</td>\n",
       "      <td>2006-07-20</td>\n",
       "      <td>1</td>\n",
       "      <td>82.4</td>\n",
       "      <td>66.1</td>\n",
       "      <td>73.8</td>\n",
       "      <td>68.3</td>\n",
       "    </tr>\n",
       "    <tr>\n",
       "      <th>3</th>\n",
       "      <td>LEPIDOPTERA</td>\n",
       "      <td>GEOMETRIDAE</td>\n",
       "      <td>2006-06-13</td>\n",
       "      <td>1</td>\n",
       "      <td>79.6</td>\n",
       "      <td>59.9</td>\n",
       "      <td>71.1</td>\n",
       "      <td>55.6</td>\n",
       "    </tr>\n",
       "    <tr>\n",
       "      <th>4</th>\n",
       "      <td>LEPIDOPTERA</td>\n",
       "      <td>GEOMETRIDAE</td>\n",
       "      <td>1995-07-17</td>\n",
       "      <td>1</td>\n",
       "      <td>71.5</td>\n",
       "      <td>59.1</td>\n",
       "      <td>65.1</td>\n",
       "      <td>73.8</td>\n",
       "    </tr>\n",
       "  </tbody>\n",
       "</table>\n",
       "</div>"
      ],
      "text/plain": [
       "    order_name  family_name    datetime  individuals  tempmax  tempmin  \\\n",
       "0  LEPIDOPTERA  GEOMETRIDAE  1995-06-25            4     77.1     56.0   \n",
       "1  LEPIDOPTERA  GEOMETRIDAE  1995-06-27            3     69.9     57.3   \n",
       "2  LEPIDOPTERA  GEOMETRIDAE  2006-07-20            1     82.4     66.1   \n",
       "3  LEPIDOPTERA  GEOMETRIDAE  2006-06-13            1     79.6     59.9   \n",
       "4  LEPIDOPTERA  GEOMETRIDAE  1995-07-17            1     71.5     59.1   \n",
       "\n",
       "   temp_daily  humidity  \n",
       "0        67.4      60.0  \n",
       "1        63.7      54.5  \n",
       "2        73.8      68.3  \n",
       "3        71.1      55.6  \n",
       "4        65.1      73.8  "
      ]
     },
     "execution_count": 9,
     "metadata": {},
     "output_type": "execute_result"
    }
   ],
   "source": [
    "#data = Path('./Resources/combined_data.csv')\n",
    "data = Path('./Resources/topfive_lepidoptera.csv')\n",
    "df = pd.read_csv(data)\n",
    "df.head()"
   ]
  },
  {
   "cell_type": "code",
   "execution_count": 11,
   "id": "03e3bff7",
   "metadata": {},
   "outputs": [],
   "source": [
    "y = df[\"individuals\"]\n",
    "X = df.loc[:,[\"tempmax\"]]"
   ]
  },
  {
   "cell_type": "code",
   "execution_count": 20,
   "id": "a2c3c43f",
   "metadata": {},
   "outputs": [
    {
     "data": {
      "text/plain": [
       "(27251, 1)"
      ]
     },
     "execution_count": 20,
     "metadata": {},
     "output_type": "execute_result"
    }
   ],
   "source": [
    "X.shape"
   ]
  },
  {
   "cell_type": "code",
   "execution_count": 12,
   "id": "106c8ff8",
   "metadata": {},
   "outputs": [
    {
     "data": {
      "text/plain": [
       "LinearRegression()"
      ]
     },
     "execution_count": 12,
     "metadata": {},
     "output_type": "execute_result"
    }
   ],
   "source": [
    "#Fitting Simple Linear regression data model to train data set\n",
    "from sklearn.linear_model import LinearRegression\n",
    "classifier=LinearRegression()\n",
    "classifier.fit(X_train,y_train)"
   ]
  },
  {
   "cell_type": "code",
   "execution_count": 13,
   "id": "e715bb48",
   "metadata": {},
   "outputs": [
    {
     "data": {
      "image/png": "[encoded data removed]",
      "text/plain": [
       "<Figure size 640x480 with 1 Axes>"
      ]
     },
     "metadata": {},
     "output_type": "display_data"
    }
   ],
   "source": [
    "# Visualising the Training set results in a scatter plot\n",
    "plt.scatter(X_train, y_train, color = 'red')\n",
    "plt.plot(X_train, classifier.predict(X_train), color = 'blue')\n",
    "plt.title('Number of Insects Trapped vs Maximum Temperature (Training set)')\n",
    "plt.xlabel('Maximum Temperature (in degrees Fahrenheit) ')\n",
    "plt.ylabel('Number of Insects Trapped')\n",
    "plt.show()"
   ]
  },
  {
   "cell_type": "code",
   "execution_count": 7,
   "id": "b8d683bc",
   "metadata": {},
   "outputs": [
    {
     "name": "stdout",
     "output_type": "stream",
     "text": [
      "[0.04695141]\n",
      "1.4672476167109596\n"
     ]
    }
   ],
   "source": [
    "print(classifier.coef_)\n",
    "print(classifier.intercept_)"
   ]
  },
  {
   "cell_type": "code",
   "execution_count": 14,
   "id": "1bdae60b",
   "metadata": {},
   "outputs": [],
   "source": [
    "predictions = classifier.predict(X_test)"
   ]
  },
  {
   "cell_type": "code",
   "execution_count": 16,
   "id": "406a3bbd",
   "metadata": {},
   "outputs": [
    {
     "data": {
      "text/plain": [
       "array([5.18110405, 4.84305391, 4.91817616, 4.59421144, 5.29378743,\n",
       "       5.01207898, 5.19988462, 4.65524827, 4.15756334, 4.66463856,\n",
       "       5.03085954, 4.4862232 , 5.09659152, 4.90409074, 5.22336032,\n",
       "       4.33128355, 4.2561613 , 5.06372553, 4.60360172, 4.99329842])"
      ]
     },
     "execution_count": 16,
     "metadata": {},
     "output_type": "execute_result"
    }
   ],
   "source": [
    "predictions[:20]"
   ]
  },
  {
   "cell_type": "code",
   "execution_count": 17,
   "id": "eab5c2a5",
   "metadata": {},
   "outputs": [
    {
     "data": {
      "text/plain": [
       "269.7782496680924"
      ]
     },
     "execution_count": 17,
     "metadata": {},
     "output_type": "execute_result"
    }
   ],
   "source": [
    "from sklearn.metrics import mean_squared_error, r2_score\n",
    "mean_squared_error (y_test,predictions)"
   ]
  },
  {
   "cell_type": "code",
   "execution_count": 18,
   "id": "ab6bcab2",
   "metadata": {},
   "outputs": [
    {
     "data": {
      "text/plain": [
       "0.0009016521724077853"
      ]
     },
     "execution_count": 18,
     "metadata": {},
     "output_type": "execute_result"
    }
   ],
   "source": [
    "r2_score(np.array(y_test),predictions)"
   ]
  },
  {
   "cell_type": "code",
   "execution_count": 13,
   "id": "2b9a07e2",
   "metadata": {},
   "outputs": [],
   "source": [
    "y = df[\"individuals\"]\n",
    "X = df.loc[:,[\"tempmin\"]]"
   ]
  },
  {
   "cell_type": "code",
   "execution_count": 14,
   "id": "5eae1792",
   "metadata": {},
   "outputs": [
    {
     "data": {
      "text/plain": [
       "(20438, 1)"
      ]
     },
     "execution_count": 14,
     "metadata": {},
     "output_type": "execute_result"
    }
   ],
   "source": [
    "from sklearn.model_selection import train_test_split\n",
    "\n",
    "X_train, X_test, y_train, y_test = train_test_split(X, \n",
    "                                                    y, \n",
    "                                                    random_state=1)\n",
    "X_train.shape"
   ]
  },
  {
   "cell_type": "code",
   "execution_count": 15,
   "id": "6ec7dd10",
   "metadata": {},
   "outputs": [
    {
     "data": {
      "text/plain": [
       "LinearRegression()"
      ]
     },
     "execution_count": 15,
     "metadata": {},
     "output_type": "execute_result"
    }
   ],
   "source": [
    "#Fitting Simple Linear regression data model to train data set\n",
    "from sklearn.linear_model import LinearRegression\n",
    "classifier=LinearRegression()\n",
    "classifier.fit(X_train,y_train)"
   ]
  },
  {
   "cell_type": "code",
   "execution_count": 16,
   "id": "c7772d66",
   "metadata": {},
   "outputs": [
    {
     "data": {
      "image/png": "[encoded data removed]",
      "text/plain": [
       "<Figure size 640x480 with 1 Axes>"
      ]
     },
     "metadata": {},
     "output_type": "display_data"
    }
   ],
   "source": [
    "# Visualising the Training set results in a scatter plot\n",
    "plt.scatter(X_train, y_train, color = 'red')\n",
    "plt.plot(X_train, classifier.predict(X_train), color = 'blue')\n",
    "plt.title('Number of Insects Trapped vs Minimum Temperature (Training set)')\n",
    "plt.xlabel('Minimum Temperature (in degrees Fahrenheit) ')\n",
    "plt.ylabel('Number of Insects Trapped')\n",
    "plt.show()"
   ]
  },
  {
   "cell_type": "code",
   "execution_count": 17,
   "id": "89ea7194",
   "metadata": {},
   "outputs": [],
   "source": [
    "y = df[\"individuals\"]\n",
    "X = df.loc[:,[\"temp_daily\"]]"
   ]
  },
  {
   "cell_type": "code",
   "execution_count": 18,
   "id": "4bdac537",
   "metadata": {},
   "outputs": [
    {
     "data": {
      "text/plain": [
       "(20438, 1)"
      ]
     },
     "execution_count": 18,
     "metadata": {},
     "output_type": "execute_result"
    }
   ],
   "source": [
    "from sklearn.model_selection import train_test_split\n",
    "\n",
    "X_train, X_test, y_train, y_test = train_test_split(X, \n",
    "                                                    y, \n",
    "                                                    random_state=1)\n",
    "X_train.shape"
   ]
  },
  {
   "cell_type": "code",
   "execution_count": 19,
   "id": "417d14df",
   "metadata": {},
   "outputs": [
    {
     "data": {
      "text/plain": [
       "LinearRegression()"
      ]
     },
     "execution_count": 19,
     "metadata": {},
     "output_type": "execute_result"
    }
   ],
   "source": [
    "#Fitting Simple Linear regression data model to train data set\n",
    "from sklearn.linear_model import LinearRegression\n",
    "classifier=LinearRegression()\n",
    "classifier.fit(X_train,y_train)"
   ]
  },
  {
   "cell_type": "code",
   "execution_count": 20,
   "id": "2dbb3a0d",
   "metadata": {
    "scrolled": true
   },
   "outputs": [
    {
     "data": {
      "image/png": "[encoded data removed]",
      "text/plain": [
       "<Figure size 640x480 with 1 Axes>"
      ]
     },
     "metadata": {},
     "output_type": "display_data"
    }
   ],
   "source": [
    "# Visualising the Training set results in a scatter plot\n",
    "plt.scatter(X_train, y_train, color = 'red')\n",
    "plt.plot(X_train, classifier.predict(X_train), color = 'blue')\n",
    "plt.title('Number of Insects Trapped vs Daily Temp (Training set)')\n",
    "plt.xlabel('Daily Temp (in degrees Fahrenheit) ')\n",
    "plt.ylabel('Number of Insects Trapped')\n",
    "plt.show()"
   ]
  },
  {
   "cell_type": "code",
   "execution_count": 21,
   "id": "e7c24a0d",
   "metadata": {},
   "outputs": [],
   "source": [
    "y = df[\"individuals\"]\n",
    "X = df.loc[:,[\"humidity\"]]"
   ]
  },
  {
   "cell_type": "code",
   "execution_count": 22,
   "id": "551c3100",
   "metadata": {},
   "outputs": [
    {
     "data": {
      "text/plain": [
       "(20438, 1)"
      ]
     },
     "execution_count": 22,
     "metadata": {},
     "output_type": "execute_result"
    }
   ],
   "source": [
    "from sklearn.model_selection import train_test_split\n",
    "\n",
    "X_train, X_test, y_train, y_test = train_test_split(X, \n",
    "                                                    y, \n",
    "                                                    random_state=1)\n",
    "X_train.shape"
   ]
  },
  {
   "cell_type": "code",
   "execution_count": 23,
   "id": "b37d19da",
   "metadata": {},
   "outputs": [
    {
     "data": {
      "text/plain": [
       "LinearRegression()"
      ]
     },
     "execution_count": 23,
     "metadata": {},
     "output_type": "execute_result"
    }
   ],
   "source": [
    "#Fitting Simple Linear regression data model to train data set\n",
    "from sklearn.linear_model import LinearRegression\n",
    "classifier=LinearRegression()\n",
    "classifier.fit(X_train,y_train)"
   ]
  },
  {
   "cell_type": "code",
   "execution_count": 24,
   "id": "a2b3d1f9",
   "metadata": {},
   "outputs": [
    {
     "data": {
      "image/png": "[encoded data removed]",
      "text/plain": [
       "<Figure size 640x480 with 1 Axes>"
      ]
     },
     "metadata": {},
     "output_type": "display_data"
    }
   ],
   "source": [
    "# Visualising the Training set results in a scatter plot\n",
    "plt.scatter(X_train, y_train, color = 'red')\n",
    "plt.plot(X_train, classifier.predict(X_train), color = 'blue')\n",
    "plt.title('Number of Insects Trapped vs Humidity (Training set)')\n",
    "plt.xlabel('Humidity (in degrees Fahrenheit) ')\n",
    "plt.ylabel('Number of Insects Trapped')\n",
    "plt.show()"
   ]
  },
  {
   "cell_type": "code",
   "execution_count": 25,
   "id": "cccf3642",
   "metadata": {},
   "outputs": [],
   "source": [
    "# Segment the features from the target\n",
    "y = df[\"individuals\"]\n",
    "X = df.drop(columns=[\"order_name\", \"family_name\", \"datetime\", \"individuals\", \"tempmax\",\"tempmin\"])"
   ]
  },
  {
   "cell_type": "code",
   "execution_count": 26,
   "id": "33f69c95",
   "metadata": {},
   "outputs": [
    {
     "data": {
      "text/plain": [
       "(21800, 2)"
      ]
     },
     "execution_count": 26,
     "metadata": {},
     "output_type": "execute_result"
    }
   ],
   "source": [
    "# Use the train_test_split function to create training and testing subsets\n",
    "from sklearn.model_selection import train_test_split\n",
    "\n",
    "X_train, X_test, y_train, y_test = train_test_split(X, y,test_size=0.2, random_state=42)\n",
    "X_train.shape"
   ]
  },
  {
   "cell_type": "code",
   "execution_count": 27,
   "id": "33f69c95",
   "metadata": {},
   "outputs": [],
   "source": [
    "# Instantiate a linear SVM model\n",
    "from sklearn.svm import SVC\n",
    "model = SVC(kernel='linear')"
   ]
  },
  {
   "cell_type": "code",
   "execution_count": 28,
   "id": "a93f1809",
   "metadata": {},
   "outputs": [
    {
     "data": {
      "text/plain": [
       "SVC(kernel='linear')"
      ]
     },
     "execution_count": 28,
     "metadata": {},
     "output_type": "execute_result"
    }
   ],
   "source": [
    "# Fit the data\n",
    "model.fit(X_train, y_train)"
   ]
  },
  {
   "cell_type": "code",
   "execution_count": 33,
   "id": "93c8a87c",
   "metadata": {},
   "outputs": [
    {
     "data": {
      "text/html": [
       "<div>\n",
       "<style scoped>\n",
       "    .dataframe tbody tr th:only-of-type {\n",
       "        vertical-align: middle;\n",
       "    }\n",
       "\n",
       "    .dataframe tbody tr th {\n",
       "        vertical-align: top;\n",
       "    }\n",
       "\n",
       "    .dataframe thead th {\n",
       "        text-align: right;\n",
       "    }\n",
       "</style>\n",
       "<table border=\"1\" class=\"dataframe\">\n",
       "  <thead>\n",
       "    <tr style=\"text-align: right;\">\n",
       "      <th></th>\n",
       "      <th>Prediction</th>\n",
       "      <th>Actual</th>\n",
       "    </tr>\n",
       "  </thead>\n",
       "  <tbody>\n",
       "    <tr>\n",
       "      <th>0</th>\n",
       "      <td>1</td>\n",
       "      <td>4</td>\n",
       "    </tr>\n",
       "    <tr>\n",
       "      <th>1</th>\n",
       "      <td>1</td>\n",
       "      <td>1</td>\n",
       "    </tr>\n",
       "    <tr>\n",
       "      <th>2</th>\n",
       "      <td>1</td>\n",
       "      <td>2</td>\n",
       "    </tr>\n",
       "    <tr>\n",
       "      <th>3</th>\n",
       "      <td>1</td>\n",
       "      <td>5</td>\n",
       "    </tr>\n",
       "    <tr>\n",
       "      <th>4</th>\n",
       "      <td>1</td>\n",
       "      <td>1</td>\n",
       "    </tr>\n",
       "  </tbody>\n",
       "</table>\n",
       "</div>"
      ],
      "text/plain": [
       "   Prediction  Actual\n",
       "0           1       4\n",
       "1           1       1\n",
       "2           1       2\n",
       "3           1       5\n",
       "4           1       1"
      ]
     },
     "execution_count": 33,
     "metadata": {},
     "output_type": "execute_result"
    }
   ],
   "source": [
    "# Make predictions using the test data\n",
    "y_pred = model.predict(X_test)\n",
    "results = pd.DataFrame({\n",
    "    \"Prediction\": y_pred, \n",
    "    \"Actual\": y_test\n",
    "}).reset_index(drop=True)\n",
    "results.head()"
   ]
  },
  {
   "cell_type": "code",
   "execution_count": 34,
   "id": "aca93df4",
   "metadata": {},
   "outputs": [
    {
     "data": {
      "text/plain": [
       "0.4936708860759494"
      ]
     },
     "execution_count": 34,
     "metadata": {},
     "output_type": "execute_result"
    }
   ],
   "source": [
    "from sklearn.metrics import accuracy_score\n",
    "accuracy_score(y_test, y_pred)"
   ]
  },
  {
   "cell_type": "code",
   "execution_count": 35,
   "id": "9b53fa1a",
   "metadata": {},
   "outputs": [
    {
     "data": {
      "text/plain": [
       "array([[2691,    0,    0, ...,    0,    0,    0],\n",
       "       [ 884,    0,    0, ...,    0,    0,    0],\n",
       "       [ 444,    0,    0, ...,    0,    0,    0],\n",
       "       ...,\n",
       "       [   1,    0,    0, ...,    0,    0,    0],\n",
       "       [   1,    0,    0, ...,    0,    0,    0],\n",
       "       [   1,    0,    0, ...,    0,    0,    0]], dtype=int64)"
      ]
     },
     "execution_count": 35,
     "metadata": {},
     "output_type": "execute_result"
    }
   ],
   "source": [
    "from sklearn.metrics import confusion_matrix\n",
    "confusion_matrix(y_test, y_pred)"
   ]
  },
  {
   "cell_type": "code",
   "execution_count": 36,
   "id": "24034f02",
   "metadata": {},
   "outputs": [
    {
     "name": "stdout",
     "output_type": "stream",
     "text": [
      "              precision    recall  f1-score   support\n",
      "\n",
      "           1       0.49      1.00      0.66      2691\n",
      "           2       0.00      0.00      0.00       884\n",
      "           3       0.00      0.00      0.00       444\n",
      "           4       0.00      0.00      0.00       279\n",
      "           5       0.00      0.00      0.00       218\n",
      "           6       0.00      0.00      0.00       147\n",
      "           7       0.00      0.00      0.00       126\n",
      "           8       0.00      0.00      0.00        81\n",
      "           9       0.00      0.00      0.00        54\n",
      "          10       0.00      0.00      0.00        65\n",
      "          11       0.00      0.00      0.00        46\n",
      "          12       0.00      0.00      0.00        47\n",
      "          13       0.00      0.00      0.00        29\n",
      "          14       0.00      0.00      0.00        27\n",
      "          15       0.00      0.00      0.00        24\n",
      "          16       0.00      0.00      0.00        13\n",
      "          17       0.00      0.00      0.00        23\n",
      "          18       0.00      0.00      0.00        18\n",
      "          19       0.00      0.00      0.00        11\n",
      "          20       0.00      0.00      0.00        13\n",
      "          21       0.00      0.00      0.00         6\n",
      "          22       0.00      0.00      0.00         6\n",
      "          23       0.00      0.00      0.00        12\n",
      "          24       0.00      0.00      0.00         4\n",
      "          25       0.00      0.00      0.00        10\n",
      "          26       0.00      0.00      0.00         9\n",
      "          27       0.00      0.00      0.00         9\n",
      "          28       0.00      0.00      0.00         3\n",
      "          29       0.00      0.00      0.00         7\n",
      "          30       0.00      0.00      0.00         4\n",
      "          31       0.00      0.00      0.00        11\n",
      "          32       0.00      0.00      0.00         6\n",
      "          33       0.00      0.00      0.00         7\n",
      "          34       0.00      0.00      0.00         7\n",
      "          35       0.00      0.00      0.00         3\n",
      "          36       0.00      0.00      0.00         5\n",
      "          37       0.00      0.00      0.00         3\n",
      "          38       0.00      0.00      0.00         8\n",
      "          39       0.00      0.00      0.00         2\n",
      "          40       0.00      0.00      0.00         6\n",
      "          41       0.00      0.00      0.00         4\n",
      "          42       0.00      0.00      0.00         5\n",
      "          45       0.00      0.00      0.00         2\n",
      "          46       0.00      0.00      0.00         3\n",
      "          47       0.00      0.00      0.00         2\n",
      "          49       0.00      0.00      0.00         3\n",
      "          50       0.00      0.00      0.00         3\n",
      "          52       0.00      0.00      0.00         3\n",
      "          53       0.00      0.00      0.00         3\n",
      "          54       0.00      0.00      0.00         3\n",
      "          55       0.00      0.00      0.00         2\n",
      "          56       0.00      0.00      0.00         1\n",
      "          57       0.00      0.00      0.00         2\n",
      "          59       0.00      0.00      0.00         3\n",
      "          60       0.00      0.00      0.00         1\n",
      "          61       0.00      0.00      0.00         3\n",
      "          62       0.00      0.00      0.00         1\n",
      "          63       0.00      0.00      0.00         1\n",
      "          64       0.00      0.00      0.00         1\n",
      "          65       0.00      0.00      0.00         1\n",
      "          66       0.00      0.00      0.00         2\n",
      "          71       0.00      0.00      0.00         1\n",
      "          73       0.00      0.00      0.00         1\n",
      "          76       0.00      0.00      0.00         2\n",
      "          80       0.00      0.00      0.00         1\n",
      "          81       0.00      0.00      0.00         2\n",
      "          82       0.00      0.00      0.00         2\n",
      "          85       0.00      0.00      0.00         3\n",
      "          87       0.00      0.00      0.00         1\n",
      "          88       0.00      0.00      0.00         1\n",
      "          90       0.00      0.00      0.00         2\n",
      "          95       0.00      0.00      0.00         1\n",
      "          96       0.00      0.00      0.00         1\n",
      "          98       0.00      0.00      0.00         1\n",
      "         103       0.00      0.00      0.00         1\n",
      "         105       0.00      0.00      0.00         1\n",
      "         106       0.00      0.00      0.00         3\n",
      "         114       0.00      0.00      0.00         1\n",
      "         121       0.00      0.00      0.00         1\n",
      "         146       0.00      0.00      0.00         1\n",
      "         152       0.00      0.00      0.00         1\n",
      "         157       0.00      0.00      0.00         1\n",
      "         173       0.00      0.00      0.00         1\n",
      "         186       0.00      0.00      0.00         1\n",
      "         229       0.00      0.00      0.00         1\n",
      "         291       0.00      0.00      0.00         1\n",
      "         642       0.00      0.00      0.00         1\n",
      "\n",
      "    accuracy                           0.49      5451\n",
      "   macro avg       0.01      0.01      0.01      5451\n",
      "weighted avg       0.24      0.49      0.33      5451\n",
      "\n"
     ]
    },
    {
     "name": "stderr",
     "output_type": "stream",
     "text": [
      "c:\\Users\\Andrea\\anaconda3\\envs\\PythonData\\envs\\mlenv\\lib\\site-packages\\sklearn\\metrics\\_classification.py:1318: UndefinedMetricWarning: Precision and F-score are ill-defined and being set to 0.0 in labels with no predicted samples. Use `zero_division` parameter to control this behavior.\n",
      "  _warn_prf(average, modifier, msg_start, len(result))\n",
      "c:\\Users\\Andrea\\anaconda3\\envs\\PythonData\\envs\\mlenv\\lib\\site-packages\\sklearn\\metrics\\_classification.py:1318: UndefinedMetricWarning: Precision and F-score are ill-defined and being set to 0.0 in labels with no predicted samples. Use `zero_division` parameter to control this behavior.\n",
      "  _warn_prf(average, modifier, msg_start, len(result))\n",
      "c:\\Users\\Andrea\\anaconda3\\envs\\PythonData\\envs\\mlenv\\lib\\site-packages\\sklearn\\metrics\\_classification.py:1318: UndefinedMetricWarning: Precision and F-score are ill-defined and being set to 0.0 in labels with no predicted samples. Use `zero_division` parameter to control this behavior.\n",
      "  _warn_prf(average, modifier, msg_start, len(result))\n"
     ]
    }
   ],
   "source": [
    "from sklearn.metrics import classification_report\n",
    "print(classification_report(y_test, y_pred))"
   ]
  }
 ],
 "metadata": {
  "kernelspec": {
   "display_name": "mlenv",
   "language": "python",
   "name": "mlenv"
  },
  "language_info": {
   "codemirror_mode": {
    "name": "ipython",
    "version": 3
   },
   "file_extension": ".py",
   "mimetype": "text/x-python",
   "name": "python",
   "nbconvert_exporter": "python",
   "pygments_lexer": "ipython3",
   "version": "3.7.15"
  }
 },
 "nbformat": 4,
 "nbformat_minor": 5
}
